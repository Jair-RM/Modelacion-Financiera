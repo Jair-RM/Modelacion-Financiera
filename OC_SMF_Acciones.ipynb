{
  "nbformat": 4,
  "nbformat_minor": 0,
  "metadata": {
    "colab": {
      "provenance": [],
      "include_colab_link": true
    },
    "kernelspec": {
      "name": "python3",
      "display_name": "Python 3"
    },
    "language_info": {
      "name": "python"
    }
  },
  "cells": [
    {
      "cell_type": "markdown",
      "metadata": {
        "id": "view-in-github",
        "colab_type": "text"
      },
      "source": [
        "<a href=\"https://colab.research.google.com/github/Jair-RM/Modelacion-Financiera/blob/main/OC_SMF_Acciones.ipynb\" target=\"_parent\"><img src=\"https://colab.research.google.com/assets/colab-badge.svg\" alt=\"Open In Colab\"/></a>"
      ]
    },
    {
      "cell_type": "markdown",
      "source": [
        "# Manejo de Acciones\n",
        "\n",
        "**Oliver Cuate**\n",
        "\n",
        "*28 de febrero de 2025*\n",
        "\n",
        "---\n",
        "\n",
        "En este cuaderno le mostraré cómo usar [Pymoo](https://pymoo.org/) para resolver el problema clásico de portafolios (2 acciones)."
      ],
      "metadata": {
        "id": "lKhu163dvjMU"
      }
    },
    {
      "cell_type": "markdown",
      "source": [
        "## Obtener precios de acciones"
      ],
      "metadata": {
        "id": "EJphfFJ2wE1S"
      }
    },
    {
      "cell_type": "code",
      "execution_count": null,
      "metadata": {
        "colab": {
          "base_uri": "https://localhost:8080/"
        },
        "id": "7bdR1eJivCuK",
        "outputId": "5ea6bafe-9c96-4d05-bebe-c5473c3debad"
      },
      "outputs": [
        {
          "output_type": "stream",
          "name": "stdout",
          "text": [
            "2020-03-01 05:19:07.154103 2025-02-28 05:19:07.154103\n",
            "YF.download() has changed argument auto_adjust default to True\n"
          ]
        },
        {
          "output_type": "stream",
          "name": "stderr",
          "text": [
            "[*********************100%***********************]  2 of 2 completed\n"
          ]
        }
      ],
      "source": [
        "import yfinance as yf\n",
        "import pandas as pd\n",
        "import matplotlib.pyplot as plt\n",
        "import numpy as np\n",
        "\n",
        "hoy = pd.Timestamp.today()\n",
        "inicio = hoy - pd.Timedelta(days=365*5)\n",
        "\n",
        "print(inicio, hoy)\n",
        "\n",
        "#tickers = [\"^MXX\", \"BIMBOA.MX\"]     # IPC MEXICO, BIMBO\n",
        "tickers = [\"CEMEXCPO.MX\", \"BIMBOA.MX\"]     # CEMEX, BIMBO\n",
        "\n",
        "# inicio.strftime('%Y-%m-%d') # por si hay error\n",
        "#datos = yf.download(ticker, start=inicio, end=hoy).copy() # todos los datos\n",
        "\n",
        "datos = yf.download(tickers, start=inicio, end=hoy)['Close'].copy() # todos los datos"
      ]
    },
    {
      "cell_type": "markdown",
      "source": [
        "Vemos los datos"
      ],
      "metadata": {
        "id": "fiYJhnj1wk0B"
      }
    },
    {
      "cell_type": "code",
      "source": [
        "datos"
      ],
      "metadata": {
        "colab": {
          "base_uri": "https://localhost:8080/",
          "height": 455
        },
        "id": "1MqPFc3cwfM9",
        "outputId": "76d4ac7e-d283-4024-bbaf-dca4296ef18e"
      },
      "execution_count": null,
      "outputs": [
        {
          "output_type": "execute_result",
          "data": {
            "text/plain": [
              "Ticker      BIMBOA.MX  CEMEXCPO.MX\n",
              "Date                              \n",
              "2020-03-02  28.488962     6.406640\n",
              "2020-03-03  28.784565     6.586546\n",
              "2020-03-04  29.579006     6.726472\n",
              "2020-03-05  28.581341     6.256719\n",
              "2020-03-06  27.620619     5.876918\n",
              "...               ...          ...\n",
              "2025-02-21  56.259998    13.350000\n",
              "2025-02-24  56.590000    13.110000\n",
              "2025-02-25  56.490002    13.200000\n",
              "2025-02-26  57.320000    13.250000\n",
              "2025-02-27  54.669998    12.960000\n",
              "\n",
              "[1258 rows x 2 columns]"
            ],
            "text/html": [
              "\n",
              "  <div id=\"df-f98ae459-34de-4694-a588-b3959b80ab20\" class=\"colab-df-container\">\n",
              "    <div>\n",
              "<style scoped>\n",
              "    .dataframe tbody tr th:only-of-type {\n",
              "        vertical-align: middle;\n",
              "    }\n",
              "\n",
              "    .dataframe tbody tr th {\n",
              "        vertical-align: top;\n",
              "    }\n",
              "\n",
              "    .dataframe thead th {\n",
              "        text-align: right;\n",
              "    }\n",
              "</style>\n",
              "<table border=\"1\" class=\"dataframe\">\n",
              "  <thead>\n",
              "    <tr style=\"text-align: right;\">\n",
              "      <th>Ticker</th>\n",
              "      <th>BIMBOA.MX</th>\n",
              "      <th>CEMEXCPO.MX</th>\n",
              "    </tr>\n",
              "    <tr>\n",
              "      <th>Date</th>\n",
              "      <th></th>\n",
              "      <th></th>\n",
              "    </tr>\n",
              "  </thead>\n",
              "  <tbody>\n",
              "    <tr>\n",
              "      <th>2020-03-02</th>\n",
              "      <td>28.488962</td>\n",
              "      <td>6.406640</td>\n",
              "    </tr>\n",
              "    <tr>\n",
              "      <th>2020-03-03</th>\n",
              "      <td>28.784565</td>\n",
              "      <td>6.586546</td>\n",
              "    </tr>\n",
              "    <tr>\n",
              "      <th>2020-03-04</th>\n",
              "      <td>29.579006</td>\n",
              "      <td>6.726472</td>\n",
              "    </tr>\n",
              "    <tr>\n",
              "      <th>2020-03-05</th>\n",
              "      <td>28.581341</td>\n",
              "      <td>6.256719</td>\n",
              "    </tr>\n",
              "    <tr>\n",
              "      <th>2020-03-06</th>\n",
              "      <td>27.620619</td>\n",
              "      <td>5.876918</td>\n",
              "    </tr>\n",
              "    <tr>\n",
              "      <th>...</th>\n",
              "      <td>...</td>\n",
              "      <td>...</td>\n",
              "    </tr>\n",
              "    <tr>\n",
              "      <th>2025-02-21</th>\n",
              "      <td>56.259998</td>\n",
              "      <td>13.350000</td>\n",
              "    </tr>\n",
              "    <tr>\n",
              "      <th>2025-02-24</th>\n",
              "      <td>56.590000</td>\n",
              "      <td>13.110000</td>\n",
              "    </tr>\n",
              "    <tr>\n",
              "      <th>2025-02-25</th>\n",
              "      <td>56.490002</td>\n",
              "      <td>13.200000</td>\n",
              "    </tr>\n",
              "    <tr>\n",
              "      <th>2025-02-26</th>\n",
              "      <td>57.320000</td>\n",
              "      <td>13.250000</td>\n",
              "    </tr>\n",
              "    <tr>\n",
              "      <th>2025-02-27</th>\n",
              "      <td>54.669998</td>\n",
              "      <td>12.960000</td>\n",
              "    </tr>\n",
              "  </tbody>\n",
              "</table>\n",
              "<p>1258 rows × 2 columns</p>\n",
              "</div>\n",
              "    <div class=\"colab-df-buttons\">\n",
              "\n",
              "  <div class=\"colab-df-container\">\n",
              "    <button class=\"colab-df-convert\" onclick=\"convertToInteractive('df-f98ae459-34de-4694-a588-b3959b80ab20')\"\n",
              "            title=\"Convert this dataframe to an interactive table.\"\n",
              "            style=\"display:none;\">\n",
              "\n",
              "  <svg xmlns=\"http://www.w3.org/2000/svg\" height=\"24px\" viewBox=\"0 -960 960 960\">\n",
              "    <path d=\"M120-120v-720h720v720H120Zm60-500h600v-160H180v160Zm220 220h160v-160H400v160Zm0 220h160v-160H400v160ZM180-400h160v-160H180v160Zm440 0h160v-160H620v160ZM180-180h160v-160H180v160Zm440 0h160v-160H620v160Z\"/>\n",
              "  </svg>\n",
              "    </button>\n",
              "\n",
              "  <style>\n",
              "    .colab-df-container {\n",
              "      display:flex;\n",
              "      gap: 12px;\n",
              "    }\n",
              "\n",
              "    .colab-df-convert {\n",
              "      background-color: #E8F0FE;\n",
              "      border: none;\n",
              "      border-radius: 50%;\n",
              "      cursor: pointer;\n",
              "      display: none;\n",
              "      fill: #1967D2;\n",
              "      height: 32px;\n",
              "      padding: 0 0 0 0;\n",
              "      width: 32px;\n",
              "    }\n",
              "\n",
              "    .colab-df-convert:hover {\n",
              "      background-color: #E2EBFA;\n",
              "      box-shadow: 0px 1px 2px rgba(60, 64, 67, 0.3), 0px 1px 3px 1px rgba(60, 64, 67, 0.15);\n",
              "      fill: #174EA6;\n",
              "    }\n",
              "\n",
              "    .colab-df-buttons div {\n",
              "      margin-bottom: 4px;\n",
              "    }\n",
              "\n",
              "    [theme=dark] .colab-df-convert {\n",
              "      background-color: #3B4455;\n",
              "      fill: #D2E3FC;\n",
              "    }\n",
              "\n",
              "    [theme=dark] .colab-df-convert:hover {\n",
              "      background-color: #434B5C;\n",
              "      box-shadow: 0px 1px 3px 1px rgba(0, 0, 0, 0.15);\n",
              "      filter: drop-shadow(0px 1px 2px rgba(0, 0, 0, 0.3));\n",
              "      fill: #FFFFFF;\n",
              "    }\n",
              "  </style>\n",
              "\n",
              "    <script>\n",
              "      const buttonEl =\n",
              "        document.querySelector('#df-f98ae459-34de-4694-a588-b3959b80ab20 button.colab-df-convert');\n",
              "      buttonEl.style.display =\n",
              "        google.colab.kernel.accessAllowed ? 'block' : 'none';\n",
              "\n",
              "      async function convertToInteractive(key) {\n",
              "        const element = document.querySelector('#df-f98ae459-34de-4694-a588-b3959b80ab20');\n",
              "        const dataTable =\n",
              "          await google.colab.kernel.invokeFunction('convertToInteractive',\n",
              "                                                    [key], {});\n",
              "        if (!dataTable) return;\n",
              "\n",
              "        const docLinkHtml = 'Like what you see? Visit the ' +\n",
              "          '<a target=\"_blank\" href=https://colab.research.google.com/notebooks/data_table.ipynb>data table notebook</a>'\n",
              "          + ' to learn more about interactive tables.';\n",
              "        element.innerHTML = '';\n",
              "        dataTable['output_type'] = 'display_data';\n",
              "        await google.colab.output.renderOutput(dataTable, element);\n",
              "        const docLink = document.createElement('div');\n",
              "        docLink.innerHTML = docLinkHtml;\n",
              "        element.appendChild(docLink);\n",
              "      }\n",
              "    </script>\n",
              "  </div>\n",
              "\n",
              "\n",
              "<div id=\"df-d583b0ea-9a24-4a2b-bda9-b4746cda13bb\">\n",
              "  <button class=\"colab-df-quickchart\" onclick=\"quickchart('df-d583b0ea-9a24-4a2b-bda9-b4746cda13bb')\"\n",
              "            title=\"Suggest charts\"\n",
              "            style=\"display:none;\">\n",
              "\n",
              "<svg xmlns=\"http://www.w3.org/2000/svg\" height=\"24px\"viewBox=\"0 0 24 24\"\n",
              "     width=\"24px\">\n",
              "    <g>\n",
              "        <path d=\"M19 3H5c-1.1 0-2 .9-2 2v14c0 1.1.9 2 2 2h14c1.1 0 2-.9 2-2V5c0-1.1-.9-2-2-2zM9 17H7v-7h2v7zm4 0h-2V7h2v10zm4 0h-2v-4h2v4z\"/>\n",
              "    </g>\n",
              "</svg>\n",
              "  </button>\n",
              "\n",
              "<style>\n",
              "  .colab-df-quickchart {\n",
              "      --bg-color: #E8F0FE;\n",
              "      --fill-color: #1967D2;\n",
              "      --hover-bg-color: #E2EBFA;\n",
              "      --hover-fill-color: #174EA6;\n",
              "      --disabled-fill-color: #AAA;\n",
              "      --disabled-bg-color: #DDD;\n",
              "  }\n",
              "\n",
              "  [theme=dark] .colab-df-quickchart {\n",
              "      --bg-color: #3B4455;\n",
              "      --fill-color: #D2E3FC;\n",
              "      --hover-bg-color: #434B5C;\n",
              "      --hover-fill-color: #FFFFFF;\n",
              "      --disabled-bg-color: #3B4455;\n",
              "      --disabled-fill-color: #666;\n",
              "  }\n",
              "\n",
              "  .colab-df-quickchart {\n",
              "    background-color: var(--bg-color);\n",
              "    border: none;\n",
              "    border-radius: 50%;\n",
              "    cursor: pointer;\n",
              "    display: none;\n",
              "    fill: var(--fill-color);\n",
              "    height: 32px;\n",
              "    padding: 0;\n",
              "    width: 32px;\n",
              "  }\n",
              "\n",
              "  .colab-df-quickchart:hover {\n",
              "    background-color: var(--hover-bg-color);\n",
              "    box-shadow: 0 1px 2px rgba(60, 64, 67, 0.3), 0 1px 3px 1px rgba(60, 64, 67, 0.15);\n",
              "    fill: var(--button-hover-fill-color);\n",
              "  }\n",
              "\n",
              "  .colab-df-quickchart-complete:disabled,\n",
              "  .colab-df-quickchart-complete:disabled:hover {\n",
              "    background-color: var(--disabled-bg-color);\n",
              "    fill: var(--disabled-fill-color);\n",
              "    box-shadow: none;\n",
              "  }\n",
              "\n",
              "  .colab-df-spinner {\n",
              "    border: 2px solid var(--fill-color);\n",
              "    border-color: transparent;\n",
              "    border-bottom-color: var(--fill-color);\n",
              "    animation:\n",
              "      spin 1s steps(1) infinite;\n",
              "  }\n",
              "\n",
              "  @keyframes spin {\n",
              "    0% {\n",
              "      border-color: transparent;\n",
              "      border-bottom-color: var(--fill-color);\n",
              "      border-left-color: var(--fill-color);\n",
              "    }\n",
              "    20% {\n",
              "      border-color: transparent;\n",
              "      border-left-color: var(--fill-color);\n",
              "      border-top-color: var(--fill-color);\n",
              "    }\n",
              "    30% {\n",
              "      border-color: transparent;\n",
              "      border-left-color: var(--fill-color);\n",
              "      border-top-color: var(--fill-color);\n",
              "      border-right-color: var(--fill-color);\n",
              "    }\n",
              "    40% {\n",
              "      border-color: transparent;\n",
              "      border-right-color: var(--fill-color);\n",
              "      border-top-color: var(--fill-color);\n",
              "    }\n",
              "    60% {\n",
              "      border-color: transparent;\n",
              "      border-right-color: var(--fill-color);\n",
              "    }\n",
              "    80% {\n",
              "      border-color: transparent;\n",
              "      border-right-color: var(--fill-color);\n",
              "      border-bottom-color: var(--fill-color);\n",
              "    }\n",
              "    90% {\n",
              "      border-color: transparent;\n",
              "      border-bottom-color: var(--fill-color);\n",
              "    }\n",
              "  }\n",
              "</style>\n",
              "\n",
              "  <script>\n",
              "    async function quickchart(key) {\n",
              "      const quickchartButtonEl =\n",
              "        document.querySelector('#' + key + ' button');\n",
              "      quickchartButtonEl.disabled = true;  // To prevent multiple clicks.\n",
              "      quickchartButtonEl.classList.add('colab-df-spinner');\n",
              "      try {\n",
              "        const charts = await google.colab.kernel.invokeFunction(\n",
              "            'suggestCharts', [key], {});\n",
              "      } catch (error) {\n",
              "        console.error('Error during call to suggestCharts:', error);\n",
              "      }\n",
              "      quickchartButtonEl.classList.remove('colab-df-spinner');\n",
              "      quickchartButtonEl.classList.add('colab-df-quickchart-complete');\n",
              "    }\n",
              "    (() => {\n",
              "      let quickchartButtonEl =\n",
              "        document.querySelector('#df-d583b0ea-9a24-4a2b-bda9-b4746cda13bb button');\n",
              "      quickchartButtonEl.style.display =\n",
              "        google.colab.kernel.accessAllowed ? 'block' : 'none';\n",
              "    })();\n",
              "  </script>\n",
              "</div>\n",
              "\n",
              "  <div id=\"id_375a631d-5a39-417c-acf8-612609bc77e9\">\n",
              "    <style>\n",
              "      .colab-df-generate {\n",
              "        background-color: #E8F0FE;\n",
              "        border: none;\n",
              "        border-radius: 50%;\n",
              "        cursor: pointer;\n",
              "        display: none;\n",
              "        fill: #1967D2;\n",
              "        height: 32px;\n",
              "        padding: 0 0 0 0;\n",
              "        width: 32px;\n",
              "      }\n",
              "\n",
              "      .colab-df-generate:hover {\n",
              "        background-color: #E2EBFA;\n",
              "        box-shadow: 0px 1px 2px rgba(60, 64, 67, 0.3), 0px 1px 3px 1px rgba(60, 64, 67, 0.15);\n",
              "        fill: #174EA6;\n",
              "      }\n",
              "\n",
              "      [theme=dark] .colab-df-generate {\n",
              "        background-color: #3B4455;\n",
              "        fill: #D2E3FC;\n",
              "      }\n",
              "\n",
              "      [theme=dark] .colab-df-generate:hover {\n",
              "        background-color: #434B5C;\n",
              "        box-shadow: 0px 1px 3px 1px rgba(0, 0, 0, 0.15);\n",
              "        filter: drop-shadow(0px 1px 2px rgba(0, 0, 0, 0.3));\n",
              "        fill: #FFFFFF;\n",
              "      }\n",
              "    </style>\n",
              "    <button class=\"colab-df-generate\" onclick=\"generateWithVariable('datos')\"\n",
              "            title=\"Generate code using this dataframe.\"\n",
              "            style=\"display:none;\">\n",
              "\n",
              "  <svg xmlns=\"http://www.w3.org/2000/svg\" height=\"24px\"viewBox=\"0 0 24 24\"\n",
              "       width=\"24px\">\n",
              "    <path d=\"M7,19H8.4L18.45,9,17,7.55,7,17.6ZM5,21V16.75L18.45,3.32a2,2,0,0,1,2.83,0l1.4,1.43a1.91,1.91,0,0,1,.58,1.4,1.91,1.91,0,0,1-.58,1.4L9.25,21ZM18.45,9,17,7.55Zm-12,3A5.31,5.31,0,0,0,4.9,8.1,5.31,5.31,0,0,0,1,6.5,5.31,5.31,0,0,0,4.9,4.9,5.31,5.31,0,0,0,6.5,1,5.31,5.31,0,0,0,8.1,4.9,5.31,5.31,0,0,0,12,6.5,5.46,5.46,0,0,0,6.5,12Z\"/>\n",
              "  </svg>\n",
              "    </button>\n",
              "    <script>\n",
              "      (() => {\n",
              "      const buttonEl =\n",
              "        document.querySelector('#id_375a631d-5a39-417c-acf8-612609bc77e9 button.colab-df-generate');\n",
              "      buttonEl.style.display =\n",
              "        google.colab.kernel.accessAllowed ? 'block' : 'none';\n",
              "\n",
              "      buttonEl.onclick = () => {\n",
              "        google.colab.notebook.generateWithVariable('datos');\n",
              "      }\n",
              "      })();\n",
              "    </script>\n",
              "  </div>\n",
              "\n",
              "    </div>\n",
              "  </div>\n"
            ],
            "application/vnd.google.colaboratory.intrinsic+json": {
              "type": "dataframe",
              "variable_name": "datos",
              "summary": "{\n  \"name\": \"datos\",\n  \"rows\": 1258,\n  \"fields\": [\n    {\n      \"column\": \"Date\",\n      \"properties\": {\n        \"dtype\": \"date\",\n        \"min\": \"2020-03-02 00:00:00\",\n        \"max\": \"2025-02-27 00:00:00\",\n        \"num_unique_values\": 1258,\n        \"samples\": [\n          \"2022-05-24 00:00:00\",\n          \"2020-07-27 00:00:00\",\n          \"2020-05-18 00:00:00\"\n        ],\n        \"semantic_type\": \"\",\n        \"description\": \"\"\n      }\n    },\n    {\n      \"column\": \"BIMBOA.MX\",\n      \"properties\": {\n        \"dtype\": \"number\",\n        \"std\": 18.57901057320219,\n        \"min\": 24.895511627197266,\n        \"max\": 96.89732360839844,\n        \"num_unique_values\": 1167,\n        \"samples\": [\n          81.78067016601562,\n          58.599998474121094,\n          32.92401885986328\n        ],\n        \"semantic_type\": \"\",\n        \"description\": \"\"\n      }\n    },\n    {\n      \"column\": \"CEMEXCPO.MX\",\n      \"properties\": {\n        \"dtype\": \"number\",\n        \"std\": 2.985923658519215,\n        \"min\": 4.207793235778809,\n        \"max\": 17.630752563476562,\n        \"num_unique_values\": 797,\n        \"samples\": [\n          11.890000343322754,\n          14.422436714172363,\n          6.3466715812683105\n        ],\n        \"semantic_type\": \"\",\n        \"description\": \"\"\n      }\n    }\n  ]\n}"
            }
          },
          "metadata": {},
          "execution_count": 2
        }
      ]
    },
    {
      "cell_type": "markdown",
      "source": [
        "## Calculamos los rendimientos"
      ],
      "metadata": {
        "id": "ZN9035d3ww6i"
      }
    },
    {
      "cell_type": "code",
      "source": [
        "rend = (datos.values[1:]-datos.values[0:-1])/datos.values[1:]\n",
        "\n",
        "plt.plot(range(rend.shape[0]),rend[:,0],'r')\n",
        "plt.show()\n",
        "\n",
        "plt.plot(range(rend.shape[0]),rend[:,1],'b')\n",
        "plt.show()"
      ],
      "metadata": {
        "colab": {
          "base_uri": "https://localhost:8080/",
          "height": 843
        },
        "id": "LL9Xcxn3wnMd",
        "outputId": "e213f265-0d59-421a-d3a2-8488ecb130d7"
      },
      "execution_count": null,
      "outputs": [
        {
          "output_type": "display_data",
          "data": {
            "text/plain": [
              "<Figure size 640x480 with 1 Axes>"
            ],
            "image/png": "[encoded data removed]"
          },
          "metadata": {}
        },
        {
          "output_type": "display_data",
          "data": {
            "text/plain": [
              "<Figure size 640x480 with 1 Axes>"
            ],
            "image/png": "[encoded data removed]"
          },
          "metadata": {}
        }
      ]
    },
    {
      "cell_type": "code",
      "source": [
        "r = rend.mean(axis=0)\n",
        "r"
      ],
      "metadata": {
        "colab": {
          "base_uri": "https://localhost:8080/"
        },
        "id": "UJlE7VgKw09a",
        "outputId": "cbd6d88f-3cdd-4e8e-a6ec-3239350050c5"
      },
      "execution_count": null,
      "outputs": [
        {
          "output_type": "execute_result",
          "data": {
            "text/plain": [
              "array([0.00028995, 0.00023228])"
            ]
          },
          "metadata": {},
          "execution_count": 4
        }
      ]
    },
    {
      "cell_type": "code",
      "source": [
        "Cov = np.cov(rend, rowvar=False)\n",
        "Cov"
      ],
      "metadata": {
        "colab": {
          "base_uri": "https://localhost:8080/"
        },
        "id": "rfX51ID-yIJm",
        "outputId": "fd5d919b-7dba-4c29-964c-2740af18dce3"
      },
      "execution_count": null,
      "outputs": [
        {
          "output_type": "execute_result",
          "data": {
            "text/plain": [
              "array([[0.00045618, 0.00012247],\n",
              "       [0.00012247, 0.00065321]])"
            ]
          },
          "metadata": {},
          "execution_count": 5
        }
      ]
    },
    {
      "cell_type": "markdown",
      "source": [
        "## Uso de Pymoo"
      ],
      "metadata": {
        "id": "c_2WBYRuzCER"
      }
    },
    {
      "cell_type": "markdown",
      "source": [
        "Primero, hay que instalar Pymoo"
      ],
      "metadata": {
        "id": "99cq9X1TzRLU"
      }
    },
    {
      "cell_type": "code",
      "source": [
        "!pip install -U pymoo"
      ],
      "metadata": {
        "colab": {
          "base_uri": "https://localhost:8080/"
        },
        "id": "pBybIgLzzUGZ",
        "outputId": "8f6e33f0-edee-4f7a-92ec-87a16f236d24"
      },
      "execution_count": null,
      "outputs": [
        {
          "output_type": "stream",
          "name": "stdout",
          "text": [
            "Requirement already satisfied: pymoo in /usr/local/lib/python3.11/dist-packages (0.6.1.3)\n",
            "Requirement already satisfied: numpy>=1.15 in /usr/local/lib/python3.11/dist-packages (from pymoo) (1.26.4)\n",
            "Requirement already satisfied: scipy>=1.1 in /usr/local/lib/python3.11/dist-packages (from pymoo) (1.13.1)\n",
            "Requirement already satisfied: matplotlib>=3 in /usr/local/lib/python3.11/dist-packages (from pymoo) (3.10.0)\n",
            "Requirement already satisfied: autograd>=1.4 in /usr/local/lib/python3.11/dist-packages (from pymoo) (1.7.0)\n",
            "Requirement already satisfied: cma==3.2.2 in /usr/local/lib/python3.11/dist-packages (from pymoo) (3.2.2)\n",
            "Requirement already satisfied: alive-progress in /usr/local/lib/python3.11/dist-packages (from pymoo) (3.2.0)\n",
            "Requirement already satisfied: dill in /usr/local/lib/python3.11/dist-packages (from pymoo) (0.3.9)\n",
            "Requirement already satisfied: Deprecated in /usr/local/lib/python3.11/dist-packages (from pymoo) (1.2.18)\n",
            "Requirement already satisfied: contourpy>=1.0.1 in /usr/local/lib/python3.11/dist-packages (from matplotlib>=3->pymoo) (1.3.1)\n",
            "Requirement already satisfied: cycler>=0.10 in /usr/local/lib/python3.11/dist-packages (from matplotlib>=3->pymoo) (0.12.1)\n",
            "Requirement already satisfied: fonttools>=4.22.0 in /usr/local/lib/python3.11/dist-packages (from matplotlib>=3->pymoo) (4.56.0)\n",
            "Requirement already satisfied: kiwisolver>=1.3.1 in /usr/local/lib/python3.11/dist-packages (from matplotlib>=3->pymoo) (1.4.8)\n",
            "Requirement already satisfied: packaging>=20.0 in /usr/local/lib/python3.11/dist-packages (from matplotlib>=3->pymoo) (24.2)\n",
            "Requirement already satisfied: pillow>=8 in /usr/local/lib/python3.11/dist-packages (from matplotlib>=3->pymoo) (11.1.0)\n",
            "Requirement already satisfied: pyparsing>=2.3.1 in /usr/local/lib/python3.11/dist-packages (from matplotlib>=3->pymoo) (3.2.1)\n",
            "Requirement already satisfied: python-dateutil>=2.7 in /usr/local/lib/python3.11/dist-packages (from matplotlib>=3->pymoo) (2.8.2)\n",
            "Requirement already satisfied: about-time==4.2.1 in /usr/local/lib/python3.11/dist-packages (from alive-progress->pymoo) (4.2.1)\n",
            "Requirement already satisfied: grapheme==0.6.0 in /usr/local/lib/python3.11/dist-packages (from alive-progress->pymoo) (0.6.0)\n",
            "Requirement already satisfied: wrapt<2,>=1.10 in /usr/local/lib/python3.11/dist-packages (from Deprecated->pymoo) (1.17.2)\n",
            "Requirement already satisfied: six>=1.5 in /usr/local/lib/python3.11/dist-packages (from python-dateutil>=2.7->matplotlib>=3->pymoo) (1.17.0)\n"
          ]
        }
      ]
    },
    {
      "cell_type": "code",
      "source": [
        "from pymoo.algorithms.moo.nsga2 import NSGA2\n",
        "from pymoo.core.problem import Problem\n",
        "from pymoo.optimize import minimize\n",
        "from pymoo.visualization.scatter import Scatter\n",
        "\n",
        "class Portafolio(Problem):\n",
        "  def __init__(self, mu, cov):\n",
        "    self.mu = mu\n",
        "    self.cov = cov\n",
        "    super().__init__(n_var=2, n_obj=2, n_ieq_constr=1, xl=0.0, xu=1.0)\n",
        "\n",
        "  def _evaluate(self, x, out, *args, **kwargs):\n",
        "    rendimiento = x @ self.mu\n",
        "    riesgo = np.zeros(x.shape[0])\n",
        "    for (i,w) in enumerate(x):\n",
        "      riesgo[i] = np.sqrt(w @ self.cov @ w.T)\n",
        "\n",
        "    out[\"F\"] = [riesgo, -rendimiento]\n",
        "    out[\"G\"] = np.abs( np.sum(x, axis=1) - 1.0 ) - 0.1\n",
        "\n",
        "problem = Portafolio(r,Cov)\n",
        "\n",
        "algorithm = NSGA2(pop_size=50)\n",
        "\n",
        "res = minimize(problem,\n",
        "               algorithm,\n",
        "               ('n_gen', 200),\n",
        "               seed=1,\n",
        "               verbose=True)\n",
        "\n",
        "\n",
        "X, F = res.opt.get(\"X\", \"F\")\n",
        "F = F * [1, -1]\n",
        "\n",
        "plt.scatter(F[:, 0], F[:, 1], facecolor=\"none\", edgecolors=\"blue\", alpha=0.5, label=\"Portafolios óptimos\")\n",
        "plt.scatter(Cov.diagonal() ** 0.5, r, facecolor=\"none\", edgecolors=\"black\", s=30, label=\"Activo\")\n",
        "#plt.legend(loc='best')\n",
        "plt.legend(loc=7)\n",
        "plt.xlabel(\"volatilidad\")\n",
        "plt.ylabel(\"rendimiento\")\n",
        "plt.show()"
      ],
      "metadata": {
        "colab": {
          "base_uri": "https://localhost:8080/",
          "height": 1000
        },
        "id": "wIg18XdmzEMw",
        "outputId": "a054e887-d357-4c25-fb6c-95845c40e669"
      },
      "execution_count": null,
      "outputs": [
        {
          "output_type": "stream",
          "name": "stdout",
          "text": [
            "==========================================================================================\n",
            "n_gen  |  n_eval  | n_nds  |     cv_min    |     cv_avg    |      eps      |   indicator  \n",
            "==========================================================================================\n",
            "     1 |       50 |      3 |  0.000000E+00 |  0.2551687336 |             - |             -\n",
            "     2 |      100 |      9 |  0.000000E+00 |  0.0199360800 |  0.0670367667 |         ideal\n",
            "     3 |      150 |     18 |  0.000000E+00 |  0.000000E+00 |  0.1344887220 |         ideal\n",
            "     4 |      200 |     22 |  0.000000E+00 |  0.000000E+00 |  0.0705819630 |         ideal\n",
            "     5 |      250 |     30 |  0.000000E+00 |  0.000000E+00 |  0.0051198939 |         ideal\n",
            "     6 |      300 |     36 |  0.000000E+00 |  0.000000E+00 |  0.0890356274 |         ideal\n",
            "     7 |      350 |     44 |  0.000000E+00 |  0.000000E+00 |  0.0034927207 |             f\n",
            "     8 |      400 |     50 |  0.000000E+00 |  0.000000E+00 |  0.0428455852 |         ideal\n",
            "     9 |      450 |     50 |  0.000000E+00 |  0.000000E+00 |  0.0037098850 |             f\n",
            "    10 |      500 |     50 |  0.000000E+00 |  0.000000E+00 |  0.0091262054 |         ideal\n",
            "    11 |      550 |     50 |  0.000000E+00 |  0.000000E+00 |  0.0041317646 |         ideal\n",
            "    12 |      600 |     50 |  0.000000E+00 |  0.000000E+00 |  0.0027198594 |             f\n",
            "    13 |      650 |     50 |  0.000000E+00 |  0.000000E+00 |  0.0132830047 |         ideal\n",
            "    14 |      700 |     50 |  0.000000E+00 |  0.000000E+00 |  0.0030550978 |             f\n",
            "    15 |      750 |     50 |  0.000000E+00 |  0.000000E+00 |  0.0018074969 |             f\n",
            "    16 |      800 |     50 |  0.000000E+00 |  0.000000E+00 |  0.0040306802 |             f\n",
            "    17 |      850 |     50 |  0.000000E+00 |  0.000000E+00 |  0.0023842941 |             f\n",
            "    18 |      900 |     50 |  0.000000E+00 |  0.000000E+00 |  0.0040810480 |             f\n",
            "    19 |      950 |     50 |  0.000000E+00 |  0.000000E+00 |  0.0025628708 |             f\n",
            "    20 |     1000 |     50 |  0.000000E+00 |  0.000000E+00 |  0.0029930940 |             f\n",
            "    21 |     1050 |     50 |  0.000000E+00 |  0.000000E+00 |  0.0018787900 |             f\n",
            "    22 |     1100 |     50 |  0.000000E+00 |  0.000000E+00 |  0.0049549761 |             f\n",
            "    23 |     1150 |     50 |  0.000000E+00 |  0.000000E+00 |  0.0031193962 |             f\n",
            "    24 |     1200 |     50 |  0.000000E+00 |  0.000000E+00 |  0.0024240438 |             f\n",
            "    25 |     1250 |     50 |  0.000000E+00 |  0.000000E+00 |  0.0045807820 |             f\n",
            "    26 |     1300 |     50 |  0.000000E+00 |  0.000000E+00 |  0.0015750704 |             f\n",
            "    27 |     1350 |     50 |  0.000000E+00 |  0.000000E+00 |  0.0030848149 |             f\n",
            "    28 |     1400 |     50 |  0.000000E+00 |  0.000000E+00 |  0.0022626571 |             f\n",
            "    29 |     1450 |     50 |  0.000000E+00 |  0.000000E+00 |  0.0042312988 |             f\n",
            "    30 |     1500 |     50 |  0.000000E+00 |  0.000000E+00 |  0.0021633221 |             f\n",
            "    31 |     1550 |     50 |  0.000000E+00 |  0.000000E+00 |  0.0036616770 |             f\n",
            "    32 |     1600 |     50 |  0.000000E+00 |  0.000000E+00 |  0.0026933556 |             f\n",
            "    33 |     1650 |     50 |  0.000000E+00 |  0.000000E+00 |  0.0025637426 |             f\n",
            "    34 |     1700 |     50 |  0.000000E+00 |  0.000000E+00 |  0.0022891133 |             f\n",
            "    35 |     1750 |     50 |  0.000000E+00 |  0.000000E+00 |  0.0054271474 |             f\n",
            "    36 |     1800 |     50 |  0.000000E+00 |  0.000000E+00 |  0.0026930517 |             f\n",
            "    37 |     1850 |     50 |  0.000000E+00 |  0.000000E+00 |  0.0020188651 |             f\n",
            "    38 |     1900 |     50 |  0.000000E+00 |  0.000000E+00 |  0.0036244683 |             f\n",
            "    39 |     1950 |     50 |  0.000000E+00 |  0.000000E+00 |  0.0015029411 |             f\n",
            "    40 |     2000 |     50 |  0.000000E+00 |  0.000000E+00 |  0.0028773116 |             f\n",
            "    41 |     2050 |     50 |  0.000000E+00 |  0.000000E+00 |  0.0033728158 |             f\n",
            "    42 |     2100 |     50 |  0.000000E+00 |  0.000000E+00 |  0.0024024283 |             f\n",
            "    43 |     2150 |     50 |  0.000000E+00 |  0.000000E+00 |  0.0046653100 |             f\n",
            "    44 |     2200 |     50 |  0.000000E+00 |  0.000000E+00 |  0.0028044652 |             f\n",
            "    45 |     2250 |     50 |  0.000000E+00 |  0.000000E+00 |  0.0030030706 |             f\n",
            "    46 |     2300 |     50 |  0.000000E+00 |  0.000000E+00 |  0.0029336598 |             f\n",
            "    47 |     2350 |     50 |  0.000000E+00 |  0.000000E+00 |  0.0014924198 |             f\n",
            "    48 |     2400 |     50 |  0.000000E+00 |  0.000000E+00 |  0.0034967794 |             f\n",
            "    49 |     2450 |     50 |  0.000000E+00 |  0.000000E+00 |  0.0036329090 |             f\n",
            "    50 |     2500 |     50 |  0.000000E+00 |  0.000000E+00 |  0.0022068468 |             f\n",
            "    51 |     2550 |     50 |  0.000000E+00 |  0.000000E+00 |  0.0035247200 |             f\n",
            "    52 |     2600 |     50 |  0.000000E+00 |  0.000000E+00 |  0.0020977039 |             f\n",
            "    53 |     2650 |     50 |  0.000000E+00 |  0.000000E+00 |  0.0040227488 |             f\n",
            "    54 |     2700 |     50 |  0.000000E+00 |  0.000000E+00 |  0.0013533551 |             f\n",
            "    55 |     2750 |     50 |  0.000000E+00 |  0.000000E+00 |  0.0045280097 |         nadir\n",
            "    56 |     2800 |     50 |  0.000000E+00 |  0.000000E+00 |  0.0037984641 |             f\n",
            "    57 |     2850 |     50 |  0.000000E+00 |  0.000000E+00 |  0.0022713266 |             f\n",
            "    58 |     2900 |     50 |  0.000000E+00 |  0.000000E+00 |  0.0054798650 |             f\n",
            "    59 |     2950 |     50 |  0.000000E+00 |  0.000000E+00 |  0.0029065247 |             f\n",
            "    60 |     3000 |     50 |  0.000000E+00 |  0.000000E+00 |  0.0018469212 |             f\n",
            "    61 |     3050 |     50 |  0.000000E+00 |  0.000000E+00 |  0.0037974602 |             f\n",
            "    62 |     3100 |     50 |  0.000000E+00 |  0.000000E+00 |  0.0026943928 |             f\n",
            "    63 |     3150 |     50 |  0.000000E+00 |  0.000000E+00 |  0.0167844671 |         ideal\n",
            "    64 |     3200 |     50 |  0.000000E+00 |  0.000000E+00 |  0.0018918689 |             f\n",
            "    65 |     3250 |     50 |  0.000000E+00 |  0.000000E+00 |  0.0030933398 |             f\n",
            "    66 |     3300 |     50 |  0.000000E+00 |  0.000000E+00 |  0.0030316233 |             f\n",
            "    67 |     3350 |     50 |  0.000000E+00 |  0.000000E+00 |  0.0037713752 |         ideal\n",
            "    68 |     3400 |     50 |  0.000000E+00 |  0.000000E+00 |  0.0036107286 |             f\n",
            "    69 |     3450 |     50 |  0.000000E+00 |  0.000000E+00 |  0.0029774427 |             f\n",
            "    70 |     3500 |     50 |  0.000000E+00 |  0.000000E+00 |  0.0026271179 |             f\n",
            "    71 |     3550 |     50 |  0.000000E+00 |  0.000000E+00 |  0.0038207898 |             f\n",
            "    72 |     3600 |     50 |  0.000000E+00 |  0.000000E+00 |  0.0026791191 |             f\n",
            "    73 |     3650 |     50 |  0.000000E+00 |  0.000000E+00 |  0.0016867744 |             f\n",
            "    74 |     3700 |     50 |  0.000000E+00 |  0.000000E+00 |  0.0029694947 |             f\n",
            "    75 |     3750 |     50 |  0.000000E+00 |  0.000000E+00 |  0.0033842764 |             f\n",
            "    76 |     3800 |     50 |  0.000000E+00 |  0.000000E+00 |  0.0016750777 |             f\n",
            "    77 |     3850 |     50 |  0.000000E+00 |  0.000000E+00 |  0.0032097997 |             f\n",
            "    78 |     3900 |     50 |  0.000000E+00 |  0.000000E+00 |  0.0023536693 |             f\n",
            "    79 |     3950 |     50 |  0.000000E+00 |  0.000000E+00 |  0.0055017044 |             f\n",
            "    80 |     4000 |     50 |  0.000000E+00 |  0.000000E+00 |  0.0025775724 |             f\n",
            "    81 |     4050 |     50 |  0.000000E+00 |  0.000000E+00 |  0.0020186385 |             f\n",
            "    82 |     4100 |     50 |  0.000000E+00 |  0.000000E+00 |  0.0046819789 |             f\n",
            "    83 |     4150 |     50 |  0.000000E+00 |  0.000000E+00 |  0.0029784843 |             f\n",
            "    84 |     4200 |     50 |  0.000000E+00 |  0.000000E+00 |  0.0020478637 |             f\n",
            "    85 |     4250 |     50 |  0.000000E+00 |  0.000000E+00 |  0.0035666354 |             f\n",
            "    86 |     4300 |     50 |  0.000000E+00 |  0.000000E+00 |  0.0021945854 |             f\n",
            "    87 |     4350 |     50 |  0.000000E+00 |  0.000000E+00 |  0.0025880161 |             f\n",
            "    88 |     4400 |     50 |  0.000000E+00 |  0.000000E+00 |  0.0021147959 |             f\n",
            "    89 |     4450 |     50 |  0.000000E+00 |  0.000000E+00 |  0.0027518408 |             f\n",
            "    90 |     4500 |     50 |  0.000000E+00 |  0.000000E+00 |  0.0024150202 |             f\n",
            "    91 |     4550 |     50 |  0.000000E+00 |  0.000000E+00 |  0.0033038069 |             f\n",
            "    92 |     4600 |     50 |  0.000000E+00 |  0.000000E+00 |  0.0036297355 |             f\n",
            "    93 |     4650 |     50 |  0.000000E+00 |  0.000000E+00 |  0.0021956293 |             f\n",
            "    94 |     4700 |     50 |  0.000000E+00 |  0.000000E+00 |  0.0044938467 |             f\n",
            "    95 |     4750 |     50 |  0.000000E+00 |  0.000000E+00 |  0.0019937179 |             f\n",
            "    96 |     4800 |     50 |  0.000000E+00 |  0.000000E+00 |  0.0037883172 |             f\n",
            "    97 |     4850 |     50 |  0.000000E+00 |  0.000000E+00 |  0.0080060587 |         nadir\n",
            "    98 |     4900 |     50 |  0.000000E+00 |  0.000000E+00 |  0.0055467645 |         ideal\n",
            "    99 |     4950 |     50 |  0.000000E+00 |  0.000000E+00 |  0.0028585073 |             f\n",
            "   100 |     5000 |     50 |  0.000000E+00 |  0.000000E+00 |  0.0020253252 |             f\n",
            "   101 |     5050 |     50 |  0.000000E+00 |  0.000000E+00 |  0.0044216739 |             f\n",
            "   102 |     5100 |     50 |  0.000000E+00 |  0.000000E+00 |  0.0018656778 |             f\n",
            "   103 |     5150 |     50 |  0.000000E+00 |  0.000000E+00 |  0.0037401520 |             f\n",
            "   104 |     5200 |     50 |  0.000000E+00 |  0.000000E+00 |  0.0015617135 |             f\n",
            "   105 |     5250 |     50 |  0.000000E+00 |  0.000000E+00 |  0.0024862655 |             f\n",
            "   106 |     5300 |     50 |  0.000000E+00 |  0.000000E+00 |  0.0037383269 |             f\n",
            "   107 |     5350 |     50 |  0.000000E+00 |  0.000000E+00 |  0.0019846947 |             f\n",
            "   108 |     5400 |     50 |  0.000000E+00 |  0.000000E+00 |  0.0036382559 |             f\n",
            "   109 |     5450 |     50 |  0.000000E+00 |  0.000000E+00 |  0.0015758240 |             f\n",
            "   110 |     5500 |     50 |  0.000000E+00 |  0.000000E+00 |  0.0039417693 |             f\n",
            "   111 |     5550 |     50 |  0.000000E+00 |  0.000000E+00 |  0.0027523492 |             f\n",
            "   112 |     5600 |     50 |  0.000000E+00 |  0.000000E+00 |  0.0024325061 |             f\n",
            "   113 |     5650 |     50 |  0.000000E+00 |  0.000000E+00 |  0.0044849016 |             f\n",
            "   114 |     5700 |     50 |  0.000000E+00 |  0.000000E+00 |  0.0021279165 |             f\n",
            "   115 |     5750 |     50 |  0.000000E+00 |  0.000000E+00 |  0.0040659223 |             f\n",
            "   116 |     5800 |     50 |  0.000000E+00 |  0.000000E+00 |  0.0018927363 |             f\n",
            "   117 |     5850 |     50 |  0.000000E+00 |  0.000000E+00 |  0.0045859745 |             f\n",
            "   118 |     5900 |     50 |  0.000000E+00 |  0.000000E+00 |  0.0024669450 |             f\n",
            "   119 |     5950 |     50 |  0.000000E+00 |  0.000000E+00 |  0.0037535548 |             f\n",
            "   120 |     6000 |     50 |  0.000000E+00 |  0.000000E+00 |  0.0024732656 |             f\n",
            "   121 |     6050 |     50 |  0.000000E+00 |  0.000000E+00 |  0.0042669662 |             f\n",
            "   122 |     6100 |     50 |  0.000000E+00 |  0.000000E+00 |  0.0018902386 |             f\n",
            "   123 |     6150 |     50 |  0.000000E+00 |  0.000000E+00 |  0.0037746681 |             f\n",
            "   124 |     6200 |     50 |  0.000000E+00 |  0.000000E+00 |  0.0024331975 |             f\n",
            "   125 |     6250 |     50 |  0.000000E+00 |  0.000000E+00 |  0.0040870406 |             f\n",
            "   126 |     6300 |     50 |  0.000000E+00 |  0.000000E+00 |  0.0021949594 |             f\n",
            "   127 |     6350 |     50 |  0.000000E+00 |  0.000000E+00 |  0.0035795474 |             f\n",
            "   128 |     6400 |     50 |  0.000000E+00 |  0.000000E+00 |  0.0032022933 |             f\n",
            "   129 |     6450 |     50 |  0.000000E+00 |  0.000000E+00 |  0.0043841306 |             f\n",
            "   130 |     6500 |     50 |  0.000000E+00 |  0.000000E+00 |  0.0028350051 |             f\n",
            "   131 |     6550 |     50 |  0.000000E+00 |  0.000000E+00 |  0.0210745677 |         ideal\n",
            "   132 |     6600 |     50 |  0.000000E+00 |  0.000000E+00 |  0.0033352561 |             f\n",
            "   133 |     6650 |     50 |  0.000000E+00 |  0.000000E+00 |  0.0024468643 |             f\n",
            "   134 |     6700 |     50 |  0.000000E+00 |  0.000000E+00 |  0.0111865683 |         ideal\n",
            "   135 |     6750 |     50 |  0.000000E+00 |  0.000000E+00 |  0.0017470547 |             f\n",
            "   136 |     6800 |     50 |  0.000000E+00 |  0.000000E+00 |  0.0030277924 |             f\n",
            "   137 |     6850 |     50 |  0.000000E+00 |  0.000000E+00 |  0.0022553480 |             f\n",
            "   138 |     6900 |     50 |  0.000000E+00 |  0.000000E+00 |  0.0046397778 |             f\n",
            "   139 |     6950 |     50 |  0.000000E+00 |  0.000000E+00 |  0.0018001787 |             f\n",
            "   140 |     7000 |     50 |  0.000000E+00 |  0.000000E+00 |  0.0036792349 |             f\n",
            "   141 |     7050 |     50 |  0.000000E+00 |  0.000000E+00 |  0.0017566387 |             f\n",
            "   142 |     7100 |     50 |  0.000000E+00 |  0.000000E+00 |  0.0025717786 |             f\n",
            "   143 |     7150 |     50 |  0.000000E+00 |  0.000000E+00 |  0.0021280694 |             f\n",
            "   144 |     7200 |     50 |  0.000000E+00 |  0.000000E+00 |  0.0034526838 |             f\n",
            "   145 |     7250 |     50 |  0.000000E+00 |  0.000000E+00 |  0.0023034417 |             f\n",
            "   146 |     7300 |     50 |  0.000000E+00 |  0.000000E+00 |  0.0046151020 |             f\n",
            "   147 |     7350 |     50 |  0.000000E+00 |  0.000000E+00 |  0.0022012848 |             f\n",
            "   148 |     7400 |     50 |  0.000000E+00 |  0.000000E+00 |  0.0037290108 |             f\n",
            "   149 |     7450 |     50 |  0.000000E+00 |  0.000000E+00 |  0.0007306534 |             f\n",
            "   150 |     7500 |     50 |  0.000000E+00 |  0.000000E+00 |  0.0025397036 |             f\n",
            "   151 |     7550 |     50 |  0.000000E+00 |  0.000000E+00 |  0.0021099101 |             f\n",
            "   152 |     7600 |     50 |  0.000000E+00 |  0.000000E+00 |  0.0036903912 |             f\n",
            "   153 |     7650 |     50 |  0.000000E+00 |  0.000000E+00 |  0.0021687074 |             f\n",
            "   154 |     7700 |     50 |  0.000000E+00 |  0.000000E+00 |  0.0025675285 |             f\n",
            "   155 |     7750 |     50 |  0.000000E+00 |  0.000000E+00 |  0.0012604018 |             f\n",
            "   156 |     7800 |     50 |  0.000000E+00 |  0.000000E+00 |  0.0021655491 |             f\n",
            "   157 |     7850 |     50 |  0.000000E+00 |  0.000000E+00 |  0.0036249983 |             f\n",
            "   158 |     7900 |     50 |  0.000000E+00 |  0.000000E+00 |  0.0017973592 |             f\n",
            "   159 |     7950 |     50 |  0.000000E+00 |  0.000000E+00 |  0.0038842135 |             f\n",
            "   160 |     8000 |     50 |  0.000000E+00 |  0.000000E+00 |  0.0013439790 |             f\n",
            "   161 |     8050 |     50 |  0.000000E+00 |  0.000000E+00 |  0.0032779230 |             f\n",
            "   162 |     8100 |     50 |  0.000000E+00 |  0.000000E+00 |  0.0031306947 |             f\n",
            "   163 |     8150 |     50 |  0.000000E+00 |  0.000000E+00 |  0.0019872093 |             f\n",
            "   164 |     8200 |     50 |  0.000000E+00 |  0.000000E+00 |  0.0036769035 |             f\n",
            "   165 |     8250 |     50 |  0.000000E+00 |  0.000000E+00 |  0.0032044854 |             f\n",
            "   166 |     8300 |     50 |  0.000000E+00 |  0.000000E+00 |  0.0021087910 |             f\n",
            "   167 |     8350 |     50 |  0.000000E+00 |  0.000000E+00 |  0.0028638380 |             f\n",
            "   168 |     8400 |     50 |  0.000000E+00 |  0.000000E+00 |  0.0032442423 |             f\n",
            "   169 |     8450 |     50 |  0.000000E+00 |  0.000000E+00 |  0.0014883344 |             f\n",
            "   170 |     8500 |     50 |  0.000000E+00 |  0.000000E+00 |  0.0031424997 |             f\n",
            "   171 |     8550 |     50 |  0.000000E+00 |  0.000000E+00 |  0.0017866441 |             f\n",
            "   172 |     8600 |     50 |  0.000000E+00 |  0.000000E+00 |  0.0023723692 |             f\n",
            "   173 |     8650 |     50 |  0.000000E+00 |  0.000000E+00 |  0.0034898092 |             f\n",
            "   174 |     8700 |     50 |  0.000000E+00 |  0.000000E+00 |  0.0018131272 |             f\n",
            "   175 |     8750 |     50 |  0.000000E+00 |  0.000000E+00 |  0.0029144474 |             f\n",
            "   176 |     8800 |     50 |  0.000000E+00 |  0.000000E+00 |  0.0031189156 |             f\n",
            "   177 |     8850 |     50 |  0.000000E+00 |  0.000000E+00 |  0.0018937015 |             f\n",
            "   178 |     8900 |     50 |  0.000000E+00 |  0.000000E+00 |  0.0038519050 |             f\n",
            "   179 |     8950 |     50 |  0.000000E+00 |  0.000000E+00 |  0.0022556392 |             f\n",
            "   180 |     9000 |     50 |  0.000000E+00 |  0.000000E+00 |  0.0031920535 |             f\n",
            "   181 |     9050 |     50 |  0.000000E+00 |  0.000000E+00 |  0.0023917251 |             f\n",
            "   182 |     9100 |     50 |  0.000000E+00 |  0.000000E+00 |  0.0035501773 |             f\n",
            "   183 |     9150 |     50 |  0.000000E+00 |  0.000000E+00 |  0.0031398128 |             f\n",
            "   184 |     9200 |     50 |  0.000000E+00 |  0.000000E+00 |  0.0019836560 |             f\n",
            "   185 |     9250 |     50 |  0.000000E+00 |  0.000000E+00 |  0.0043287822 |             f\n",
            "   186 |     9300 |     50 |  0.000000E+00 |  0.000000E+00 |  0.0012580886 |             f\n",
            "   187 |     9350 |     50 |  0.000000E+00 |  0.000000E+00 |  0.0037993321 |             f\n",
            "   188 |     9400 |     50 |  0.000000E+00 |  0.000000E+00 |  0.0018070194 |             f\n",
            "   189 |     9450 |     50 |  0.000000E+00 |  0.000000E+00 |  0.0032489738 |             f\n",
            "   190 |     9500 |     50 |  0.000000E+00 |  0.000000E+00 |  0.0029503237 |             f\n",
            "   191 |     9550 |     50 |  0.000000E+00 |  0.000000E+00 |  0.0028089690 |             f\n",
            "   192 |     9600 |     50 |  0.000000E+00 |  0.000000E+00 |  0.0021581412 |             f\n",
            "   193 |     9650 |     50 |  0.000000E+00 |  0.000000E+00 |  0.0037784226 |             f\n",
            "   194 |     9700 |     50 |  0.000000E+00 |  0.000000E+00 |  0.0037692324 |             f\n",
            "   195 |     9750 |     50 |  0.000000E+00 |  0.000000E+00 |  0.0030364636 |             f\n",
            "   196 |     9800 |     50 |  0.000000E+00 |  0.000000E+00 |  0.0020185023 |             f\n",
            "   197 |     9850 |     50 |  0.000000E+00 |  0.000000E+00 |  0.0038202071 |             f\n",
            "   198 |     9900 |     50 |  0.000000E+00 |  0.000000E+00 |  0.0030820578 |             f\n",
            "   199 |     9950 |     50 |  0.000000E+00 |  0.000000E+00 |  0.0020766076 |             f\n",
            "   200 |    10000 |     50 |  0.000000E+00 |  0.000000E+00 |  0.0048595673 |             f\n"
          ]
        },
        {
          "output_type": "display_data",
          "data": {
            "text/plain": [
              "<Figure size 640x480 with 1 Axes>"
            ],
            "image/png": "[encoded data removed]"
          },
          "metadata": {}
        }
      ]
    },
    {
      "cell_type": "code",
      "source": [
        "np.sum( res.X, axis=1 )"
      ],
      "metadata": {
        "colab": {
          "base_uri": "https://localhost:8080/"
        },
        "id": "0IKTG4N29U7O",
        "outputId": "4b38ced8-77f8-494f-c538-c9d317935bcb"
      },
      "execution_count": null,
      "outputs": [
        {
          "output_type": "execute_result",
          "data": {
            "text/plain": [
              "array([1.09998446, 0.900319  , 1.06116306, 0.90059901, 1.02895151,\n",
              "       0.91342006, 1.04420042, 0.93438702, 1.08936168, 0.93263802,\n",
              "       0.92081917, 1.04847974, 0.90372643, 1.07453687, 1.09823973,\n",
              "       1.08819822, 1.08394975, 1.09997225, 1.09809956, 0.94134033,\n",
              "       1.09988565, 1.06403296, 1.06672424, 1.09470528, 1.09758595,\n",
              "       1.09376329, 1.09829956, 1.01529828, 0.98518198, 1.09581076,\n",
              "       1.05860582, 0.90213941, 1.09235936, 0.99831303, 0.99444297,\n",
              "       1.0905674 , 1.09934963, 1.02455912, 1.09357378, 1.08988911,\n",
              "       0.97414079, 0.9415904 , 1.02315168, 1.05210605, 1.09953999,\n",
              "       0.94993611, 1.01364555, 0.96588094, 0.97170222, 1.02582371])"
            ]
          },
          "metadata": {},
          "execution_count": 8
        }
      ]
    },
    {
      "cell_type": "markdown",
      "source": [
        "[Posición de la etiqueta](https://matplotlib.org/stable/api/_as_gen/matplotlib.pyplot.legend.html)"
      ],
      "metadata": {
        "id": "YygDYbVCAvHi"
      }
    },
    {
      "cell_type": "code",
      "source": [],
      "metadata": {
        "id": "BIYP-WV1_LAv"
      },
      "execution_count": null,
      "outputs": []
    }
  ]
}