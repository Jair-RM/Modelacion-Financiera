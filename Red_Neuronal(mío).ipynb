{
  "nbformat": 4,
  "nbformat_minor": 0,
  "metadata": {
    "colab": {
      "provenance": [],
      "authorship_tag": "ABX9TyOjnZkDcM/VktAhVxVQrGUk",
      "include_colab_link": true
    },
    "kernelspec": {
      "name": "python3",
      "display_name": "Python 3"
    },
    "language_info": {
      "name": "python"
    }
  },
  "cells": [
    {
      "cell_type": "markdown",
      "metadata": {
        "id": "view-in-github",
        "colab_type": "text"
      },
      "source": [
        "<a href=\"https://colab.research.google.com/github/Jair-RM/Modelacion-Financiera/blob/main/Red_Neuronal(m%C3%ADo).ipynb\" target=\"_parent\"><img src=\"https://colab.research.google.com/assets/colab-badge.svg\" alt=\"Open In Colab\"/></a>"
      ]
    },
    {
      "cell_type": "code",
      "source": [
        "import random\n",
        "import numpy as np\n",
        "from sklearn.linear_model import LinearRegression"
      ],
      "metadata": {
        "id": "02M9qzSndnAA"
      },
      "execution_count": 22,
      "outputs": []
    },
    {
      "cell_type": "code",
      "execution_count": 47,
      "metadata": {
        "colab": {
          "base_uri": "https://localhost:8080/"
        },
        "id": "RIioJ9QGdIAd",
        "outputId": "04de6c01-9c7c-4d4a-bbe9-7467057f6156"
      },
      "outputs": [
        {
          "output_type": "stream",
          "name": "stdout",
          "text": [
            "Coeficiente (w): 24.986199998908614\n",
            "Intersección (b): 21.531500346025496\n",
            "b0 =  0.6995399093081063  w0 =  0.43171686466057146\n",
            "bk =  0.6995399093073291  wk =  0.4317168646593502\n"
          ]
        }
      ],
      "source": [
        "x_real = []          # Estaturas\n",
        "y_real = []         # Pesos\n",
        "alpha = 0.1\n",
        "N = 1000\n",
        "\n",
        "while len(x_real)<49:\n",
        "  c=1+random.random()\n",
        "  if c<1.90 and c>1.50:\n",
        "    y_real.append(random.randint(40, 90))\n",
        "    x_real.append(c)\n",
        "#print(x_real)\n",
        "x = x_real\n",
        "y = y_real\n",
        "n=len(x)\n",
        "\n",
        "x_real = np.array(x_real).reshape(-1, 1)  # Necesita ser un vector columna\n",
        "y_real = np.array(y_real)\n",
        "\n",
        "\n",
        "modelo = LinearRegression()       # Crear el modelo de regresión lineal\n",
        "\n",
        "modelo.fit(x_real, y_real)      # Ajustar el modelo a los datos\n",
        "\n",
        "                               # Obtener los coeficientes (pendiente y bias)\n",
        "w = modelo.coef_[0]            # Pendiente\n",
        "b = modelo.intercept_          # Intersección (bias)\n",
        "# Entre 28 y 40\n",
        "print(f\"Coeficiente (w): {w}\")\n",
        "print(f\"Intersección (b): {b}\")\n",
        "\n",
        "y_gorrito = []\n",
        "for i in range(n):\n",
        "  yg= w*x[i] + b\n",
        "  y_gorrito.append(yg)\n",
        "\n",
        "sumb=0\n",
        "sumw=0\n",
        "for i in range (n):\n",
        "  sumb += y[i] - y_gorrito[i]\n",
        "  sumw += (y[i] - y_gorrito[i])*x[i]\n",
        "ECM_B = -(2/n)*sumb\n",
        "ECM_W = -(2/n)*sumw\n",
        "b0=random.random()\n",
        "w0=random.random()\n",
        "print(\"b0 = \", b0, \" w0 = \", w0)\n",
        "for k in range (N):\n",
        "  b0=b0+2*(alpha/n)*sumb\n",
        "  w0=w0+2*(alpha/n)*sumw\n",
        "\n",
        "print(\"bk = \", b0, \" wk = \", w0)"
      ]
    },
    {
      "cell_type": "code",
      "source": [
        "import random\n",
        "import numpy as np\n",
        "import tensorflow as tf\n",
        "from tensorflow.keras.models import Sequential\n",
        "from tensorflow.keras.layers import Dense\n",
        "from tensorflow.keras.optimizers import Adam\n",
        "\n",
        "# Generación de datos de ejemplo\n",
        "x_real = []  # Estaturas\n",
        "y_real = []  # Pesos\n",
        "\n",
        "while len(x_real) < 49:\n",
        "    c = 1 + random.random()\n",
        "    if c < 1.90 and c > 1.50:\n",
        "        y_real.append(random.randint(40, 90))\n",
        "        x_real.append(c)\n",
        "\n",
        "# Convertir a arrays de numpy\n",
        "x_real = np.array(x_real).reshape(-1, 1)  # Necesita ser un vector columna\n",
        "y_real = np.array(y_real)\n",
        "\n",
        "# Crear el modelo de la red neuronal\n",
        "model = Sequential()\n",
        "\n",
        "# Añadir una capa densa con 1 neurona (por cada entrada), y activación lineal para regresión\n",
        "model.add(Dense(1, input_dim=1, activation='linear'))\n",
        "\n",
        "# Compilar el modelo con el optimizador Adam y el error cuadrático medio (MSE)\n",
        "model.compile(optimizer=Adam(learning_rate=0.01), loss='mean_squared_error')\n",
        "\n",
        "# Entrenar el modelo\n",
        "model.fit(x_real, y_real, epochs=1000, batch_size=10, verbose=0)\n",
        "\n",
        "# Obtener los parámetros (peso y bias) después del entrenamiento\n",
        "weights = model.get_weights()\n",
        "w = weights[0][0][0]  # Peso (coeficiente)\n",
        "b = weights[1][0]     # Bias (intersección)\n",
        "\n",
        "print(f\"Coeficiente (w): {w}\")\n",
        "print(f\"Intersección (b): {b}\")\n",
        "\n",
        "# Hacer una predicción con un nuevo valor de estatura\n",
        "nueva_estatura = np.array([[1.75]])\n",
        "prediccion = model.predict(nueva_estatura)\n",
        "print(f\"Predicción para estatura 1.75m: {prediccion[0][0]} kg\")"
      ],
      "metadata": {
        "colab": {
          "base_uri": "https://localhost:8080/"
        },
        "id": "80cId3f_nebw",
        "outputId": "3dc99ebb-4991-4fbe-badc-12a2c181bb57"
      },
      "execution_count": 46,
      "outputs": [
        {
          "output_type": "stream",
          "name": "stderr",
          "text": [
            "/usr/local/lib/python3.11/dist-packages/keras/src/layers/core/dense.py:87: UserWarning: Do not pass an `input_shape`/`input_dim` argument to a layer. When using Sequential models, prefer using an `Input(shape)` object as the first layer in the model instead.\n",
            "  super().__init__(activity_regularizer=activity_regularizer, **kwargs)\n"
          ]
        },
        {
          "output_type": "stream",
          "name": "stdout",
          "text": [
            "Coeficiente (w): 24.059526443481445\n",
            "Intersección (b): 24.31296730041504\n",
            "\u001b[1m1/1\u001b[0m \u001b[32m━━━━━━━━━━━━━━━━━━━━\u001b[0m\u001b[37m\u001b[0m \u001b[1m0s\u001b[0m 74ms/step\n",
            "Predicción para estatura 1.75m: 66.4171371459961 kg\n"
          ]
        }
      ]
    }
  ]
}