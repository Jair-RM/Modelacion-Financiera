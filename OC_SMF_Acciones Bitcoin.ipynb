{
  "nbformat": 4,
  "nbformat_minor": 0,
  "metadata": {
    "colab": {
      "provenance": [],
      "include_colab_link": true
    },
    "kernelspec": {
      "name": "python3",
      "display_name": "Python 3"
    },
    "language_info": {
      "name": "python"
    }
  },
  "cells": [
    {
      "cell_type": "markdown",
      "metadata": {
        "id": "view-in-github",
        "colab_type": "text"
      },
      "source": [
        "<a href=\"https://colab.research.google.com/github/Jair-RM/Modelacion-Financiera/blob/main/OC_SMF_Acciones%20Bitcoin.ipynb\" target=\"_parent\"><img src=\"https://colab.research.google.com/assets/colab-badge.svg\" alt=\"Open In Colab\"/></a>"
      ]
    },
    {
      "cell_type": "markdown",
      "source": [
        "# Manejo de Acciones\n",
        "\n",
        "**Oliver Cuate**\n",
        "\n",
        "*28 de febrero de 2025*\n",
        "\n",
        "---\n",
        "\n",
        "En este cuaderno le mostraré cómo usar [Pymoo](https://pymoo.org/) para resolver el problema clásico de portafolios (2 acciones)."
      ],
      "metadata": {
        "id": "lKhu163dvjMU"
      }
    },
    {
      "cell_type": "markdown",
      "source": [
        "## Obtener precios de acciones"
      ],
      "metadata": {
        "id": "EJphfFJ2wE1S"
      }
    },
    {
      "cell_type": "code",
      "execution_count": null,
      "metadata": {
        "colab": {
          "base_uri": "https://localhost:8080/"
        },
        "id": "7bdR1eJivCuK",
        "outputId": "66c6d18f-eefc-4696-c351-8de770d06e1c"
      },
      "outputs": [
        {
          "output_type": "stream",
          "name": "stderr",
          "text": [
            "[*********************100%***********************]  2 of 2 completed"
          ]
        },
        {
          "output_type": "stream",
          "name": "stdout",
          "text": [
            "2020-03-01 16:09:59.422161 2025-02-28 16:09:59.422161\n"
          ]
        },
        {
          "output_type": "stream",
          "name": "stderr",
          "text": [
            "\n"
          ]
        }
      ],
      "source": [
        "import yfinance as yf\n",
        "import pandas as pd\n",
        "import matplotlib.pyplot as plt\n",
        "import numpy as np\n",
        "\n",
        "hoy = pd.Timestamp.today()\n",
        "inicio = hoy - pd.Timedelta(days=365*5)\n",
        "\n",
        "print(inicio, hoy)\n",
        "\n",
        "#tickers = [\"^MXX\", \"BIMBOA.MX\"]     # IPC MEXICO, BIMBO\n",
        "tickers = [\"KOF\", \"DELL\"]     # CEMEX, BIMBO\n",
        "\n",
        "# inicio.strftime('%Y-%m-%d') # por si hay error\n",
        "#datos = yf.download(ticker, start=inicio, end=hoy).copy() # todos los datos\n",
        "\n",
        "datos = yf.download(tickers, start=inicio, end=hoy)['Close'].copy() # todos los datos"
      ]
    },
    {
      "cell_type": "markdown",
      "source": [
        "Vemos los datos"
      ],
      "metadata": {
        "id": "fiYJhnj1wk0B"
      }
    },
    {
      "cell_type": "code",
      "source": [
        "datos"
      ],
      "metadata": {
        "colab": {
          "base_uri": "https://localhost:8080/",
          "height": 455
        },
        "id": "1MqPFc3cwfM9",
        "outputId": "b7cfafb8-efff-4da5-ba41-0a151309b35f"
      },
      "execution_count": null,
      "outputs": [
        {
          "output_type": "execute_result",
          "data": {
            "text/plain": [
              "Ticker            DELL        KOF\n",
              "Date                             \n",
              "2020-03-02   19.974045  45.343891\n",
              "2020-03-03   19.686617  44.772968\n",
              "2020-03-04   20.440533  45.408215\n",
              "2020-03-05   19.248405  44.218132\n",
              "2020-03-06   18.668829  43.405975\n",
              "...                ...        ...\n",
              "2025-02-24  114.139999  88.339996\n",
              "2025-02-25  110.650002  87.730003\n",
              "2025-02-26  115.650002  86.589996\n",
              "2025-02-27  107.830002  88.839996\n",
              "2025-02-28  101.735001  88.410004\n",
              "\n",
              "[1257 rows x 2 columns]"
            ],
            "text/html": [
              "\n",
              "  <div id=\"df-e962a179-2644-4750-a49b-17451ba429f7\" class=\"colab-df-container\">\n",
              "    <div>\n",
              "<style scoped>\n",
              "    .dataframe tbody tr th:only-of-type {\n",
              "        vertical-align: middle;\n",
              "    }\n",
              "\n",
              "    .dataframe tbody tr th {\n",
              "        vertical-align: top;\n",
              "    }\n",
              "\n",
              "    .dataframe thead th {\n",
              "        text-align: right;\n",
              "    }\n",
              "</style>\n",
              "<table border=\"1\" class=\"dataframe\">\n",
              "  <thead>\n",
              "    <tr style=\"text-align: right;\">\n",
              "      <th>Ticker</th>\n",
              "      <th>DELL</th>\n",
              "      <th>KOF</th>\n",
              "    </tr>\n",
              "    <tr>\n",
              "      <th>Date</th>\n",
              "      <th></th>\n",
              "      <th></th>\n",
              "    </tr>\n",
              "  </thead>\n",
              "  <tbody>\n",
              "    <tr>\n",
              "      <th>2020-03-02</th>\n",
              "      <td>19.974045</td>\n",
              "      <td>45.343891</td>\n",
              "    </tr>\n",
              "    <tr>\n",
              "      <th>2020-03-03</th>\n",
              "      <td>19.686617</td>\n",
              "      <td>44.772968</td>\n",
              "    </tr>\n",
              "    <tr>\n",
              "      <th>2020-03-04</th>\n",
              "      <td>20.440533</td>\n",
              "      <td>45.408215</td>\n",
              "    </tr>\n",
              "    <tr>\n",
              "      <th>2020-03-05</th>\n",
              "      <td>19.248405</td>\n",
              "      <td>44.218132</td>\n",
              "    </tr>\n",
              "    <tr>\n",
              "      <th>2020-03-06</th>\n",
              "      <td>18.668829</td>\n",
              "      <td>43.405975</td>\n",
              "    </tr>\n",
              "    <tr>\n",
              "      <th>...</th>\n",
              "      <td>...</td>\n",
              "      <td>...</td>\n",
              "    </tr>\n",
              "    <tr>\n",
              "      <th>2025-02-24</th>\n",
              "      <td>114.139999</td>\n",
              "      <td>88.339996</td>\n",
              "    </tr>\n",
              "    <tr>\n",
              "      <th>2025-02-25</th>\n",
              "      <td>110.650002</td>\n",
              "      <td>87.730003</td>\n",
              "    </tr>\n",
              "    <tr>\n",
              "      <th>2025-02-26</th>\n",
              "      <td>115.650002</td>\n",
              "      <td>86.589996</td>\n",
              "    </tr>\n",
              "    <tr>\n",
              "      <th>2025-02-27</th>\n",
              "      <td>107.830002</td>\n",
              "      <td>88.839996</td>\n",
              "    </tr>\n",
              "    <tr>\n",
              "      <th>2025-02-28</th>\n",
              "      <td>101.735001</td>\n",
              "      <td>88.410004</td>\n",
              "    </tr>\n",
              "  </tbody>\n",
              "</table>\n",
              "<p>1257 rows × 2 columns</p>\n",
              "</div>\n",
              "    <div class=\"colab-df-buttons\">\n",
              "\n",
              "  <div class=\"colab-df-container\">\n",
              "    <button class=\"colab-df-convert\" onclick=\"convertToInteractive('df-e962a179-2644-4750-a49b-17451ba429f7')\"\n",
              "            title=\"Convert this dataframe to an interactive table.\"\n",
              "            style=\"display:none;\">\n",
              "\n",
              "  <svg xmlns=\"http://www.w3.org/2000/svg\" height=\"24px\" viewBox=\"0 -960 960 960\">\n",
              "    <path d=\"M120-120v-720h720v720H120Zm60-500h600v-160H180v160Zm220 220h160v-160H400v160Zm0 220h160v-160H400v160ZM180-400h160v-160H180v160Zm440 0h160v-160H620v160ZM180-180h160v-160H180v160Zm440 0h160v-160H620v160Z\"/>\n",
              "  </svg>\n",
              "    </button>\n",
              "\n",
              "  <style>\n",
              "    .colab-df-container {\n",
              "      display:flex;\n",
              "      gap: 12px;\n",
              "    }\n",
              "\n",
              "    .colab-df-convert {\n",
              "      background-color: #E8F0FE;\n",
              "      border: none;\n",
              "      border-radius: 50%;\n",
              "      cursor: pointer;\n",
              "      display: none;\n",
              "      fill: #1967D2;\n",
              "      height: 32px;\n",
              "      padding: 0 0 0 0;\n",
              "      width: 32px;\n",
              "    }\n",
              "\n",
              "    .colab-df-convert:hover {\n",
              "      background-color: #E2EBFA;\n",
              "      box-shadow: 0px 1px 2px rgba(60, 64, 67, 0.3), 0px 1px 3px 1px rgba(60, 64, 67, 0.15);\n",
              "      fill: #174EA6;\n",
              "    }\n",
              "\n",
              "    .colab-df-buttons div {\n",
              "      margin-bottom: 4px;\n",
              "    }\n",
              "\n",
              "    [theme=dark] .colab-df-convert {\n",
              "      background-color: #3B4455;\n",
              "      fill: #D2E3FC;\n",
              "    }\n",
              "\n",
              "    [theme=dark] .colab-df-convert:hover {\n",
              "      background-color: #434B5C;\n",
              "      box-shadow: 0px 1px 3px 1px rgba(0, 0, 0, 0.15);\n",
              "      filter: drop-shadow(0px 1px 2px rgba(0, 0, 0, 0.3));\n",
              "      fill: #FFFFFF;\n",
              "    }\n",
              "  </style>\n",
              "\n",
              "    <script>\n",
              "      const buttonEl =\n",
              "        document.querySelector('#df-e962a179-2644-4750-a49b-17451ba429f7 button.colab-df-convert');\n",
              "      buttonEl.style.display =\n",
              "        google.colab.kernel.accessAllowed ? 'block' : 'none';\n",
              "\n",
              "      async function convertToInteractive(key) {\n",
              "        const element = document.querySelector('#df-e962a179-2644-4750-a49b-17451ba429f7');\n",
              "        const dataTable =\n",
              "          await google.colab.kernel.invokeFunction('convertToInteractive',\n",
              "                                                    [key], {});\n",
              "        if (!dataTable) return;\n",
              "\n",
              "        const docLinkHtml = 'Like what you see? Visit the ' +\n",
              "          '<a target=\"_blank\" href=https://colab.research.google.com/notebooks/data_table.ipynb>data table notebook</a>'\n",
              "          + ' to learn more about interactive tables.';\n",
              "        element.innerHTML = '';\n",
              "        dataTable['output_type'] = 'display_data';\n",
              "        await google.colab.output.renderOutput(dataTable, element);\n",
              "        const docLink = document.createElement('div');\n",
              "        docLink.innerHTML = docLinkHtml;\n",
              "        element.appendChild(docLink);\n",
              "      }\n",
              "    </script>\n",
              "  </div>\n",
              "\n",
              "\n",
              "<div id=\"df-ec623ebe-837e-489b-8fd1-a1bbe0911889\">\n",
              "  <button class=\"colab-df-quickchart\" onclick=\"quickchart('df-ec623ebe-837e-489b-8fd1-a1bbe0911889')\"\n",
              "            title=\"Suggest charts\"\n",
              "            style=\"display:none;\">\n",
              "\n",
              "<svg xmlns=\"http://www.w3.org/2000/svg\" height=\"24px\"viewBox=\"0 0 24 24\"\n",
              "     width=\"24px\">\n",
              "    <g>\n",
              "        <path d=\"M19 3H5c-1.1 0-2 .9-2 2v14c0 1.1.9 2 2 2h14c1.1 0 2-.9 2-2V5c0-1.1-.9-2-2-2zM9 17H7v-7h2v7zm4 0h-2V7h2v10zm4 0h-2v-4h2v4z\"/>\n",
              "    </g>\n",
              "</svg>\n",
              "  </button>\n",
              "\n",
              "<style>\n",
              "  .colab-df-quickchart {\n",
              "      --bg-color: #E8F0FE;\n",
              "      --fill-color: #1967D2;\n",
              "      --hover-bg-color: #E2EBFA;\n",
              "      --hover-fill-color: #174EA6;\n",
              "      --disabled-fill-color: #AAA;\n",
              "      --disabled-bg-color: #DDD;\n",
              "  }\n",
              "\n",
              "  [theme=dark] .colab-df-quickchart {\n",
              "      --bg-color: #3B4455;\n",
              "      --fill-color: #D2E3FC;\n",
              "      --hover-bg-color: #434B5C;\n",
              "      --hover-fill-color: #FFFFFF;\n",
              "      --disabled-bg-color: #3B4455;\n",
              "      --disabled-fill-color: #666;\n",
              "  }\n",
              "\n",
              "  .colab-df-quickchart {\n",
              "    background-color: var(--bg-color);\n",
              "    border: none;\n",
              "    border-radius: 50%;\n",
              "    cursor: pointer;\n",
              "    display: none;\n",
              "    fill: var(--fill-color);\n",
              "    height: 32px;\n",
              "    padding: 0;\n",
              "    width: 32px;\n",
              "  }\n",
              "\n",
              "  .colab-df-quickchart:hover {\n",
              "    background-color: var(--hover-bg-color);\n",
              "    box-shadow: 0 1px 2px rgba(60, 64, 67, 0.3), 0 1px 3px 1px rgba(60, 64, 67, 0.15);\n",
              "    fill: var(--button-hover-fill-color);\n",
              "  }\n",
              "\n",
              "  .colab-df-quickchart-complete:disabled,\n",
              "  .colab-df-quickchart-complete:disabled:hover {\n",
              "    background-color: var(--disabled-bg-color);\n",
              "    fill: var(--disabled-fill-color);\n",
              "    box-shadow: none;\n",
              "  }\n",
              "\n",
              "  .colab-df-spinner {\n",
              "    border: 2px solid var(--fill-color);\n",
              "    border-color: transparent;\n",
              "    border-bottom-color: var(--fill-color);\n",
              "    animation:\n",
              "      spin 1s steps(1) infinite;\n",
              "  }\n",
              "\n",
              "  @keyframes spin {\n",
              "    0% {\n",
              "      border-color: transparent;\n",
              "      border-bottom-color: var(--fill-color);\n",
              "      border-left-color: var(--fill-color);\n",
              "    }\n",
              "    20% {\n",
              "      border-color: transparent;\n",
              "      border-left-color: var(--fill-color);\n",
              "      border-top-color: var(--fill-color);\n",
              "    }\n",
              "    30% {\n",
              "      border-color: transparent;\n",
              "      border-left-color: var(--fill-color);\n",
              "      border-top-color: var(--fill-color);\n",
              "      border-right-color: var(--fill-color);\n",
              "    }\n",
              "    40% {\n",
              "      border-color: transparent;\n",
              "      border-right-color: var(--fill-color);\n",
              "      border-top-color: var(--fill-color);\n",
              "    }\n",
              "    60% {\n",
              "      border-color: transparent;\n",
              "      border-right-color: var(--fill-color);\n",
              "    }\n",
              "    80% {\n",
              "      border-color: transparent;\n",
              "      border-right-color: var(--fill-color);\n",
              "      border-bottom-color: var(--fill-color);\n",
              "    }\n",
              "    90% {\n",
              "      border-color: transparent;\n",
              "      border-bottom-color: var(--fill-color);\n",
              "    }\n",
              "  }\n",
              "</style>\n",
              "\n",
              "  <script>\n",
              "    async function quickchart(key) {\n",
              "      const quickchartButtonEl =\n",
              "        document.querySelector('#' + key + ' button');\n",
              "      quickchartButtonEl.disabled = true;  // To prevent multiple clicks.\n",
              "      quickchartButtonEl.classList.add('colab-df-spinner');\n",
              "      try {\n",
              "        const charts = await google.colab.kernel.invokeFunction(\n",
              "            'suggestCharts', [key], {});\n",
              "      } catch (error) {\n",
              "        console.error('Error during call to suggestCharts:', error);\n",
              "      }\n",
              "      quickchartButtonEl.classList.remove('colab-df-spinner');\n",
              "      quickchartButtonEl.classList.add('colab-df-quickchart-complete');\n",
              "    }\n",
              "    (() => {\n",
              "      let quickchartButtonEl =\n",
              "        document.querySelector('#df-ec623ebe-837e-489b-8fd1-a1bbe0911889 button');\n",
              "      quickchartButtonEl.style.display =\n",
              "        google.colab.kernel.accessAllowed ? 'block' : 'none';\n",
              "    })();\n",
              "  </script>\n",
              "</div>\n",
              "\n",
              "  <div id=\"id_b30c24c9-393b-4369-af35-067026b15a12\">\n",
              "    <style>\n",
              "      .colab-df-generate {\n",
              "        background-color: #E8F0FE;\n",
              "        border: none;\n",
              "        border-radius: 50%;\n",
              "        cursor: pointer;\n",
              "        display: none;\n",
              "        fill: #1967D2;\n",
              "        height: 32px;\n",
              "        padding: 0 0 0 0;\n",
              "        width: 32px;\n",
              "      }\n",
              "\n",
              "      .colab-df-generate:hover {\n",
              "        background-color: #E2EBFA;\n",
              "        box-shadow: 0px 1px 2px rgba(60, 64, 67, 0.3), 0px 1px 3px 1px rgba(60, 64, 67, 0.15);\n",
              "        fill: #174EA6;\n",
              "      }\n",
              "\n",
              "      [theme=dark] .colab-df-generate {\n",
              "        background-color: #3B4455;\n",
              "        fill: #D2E3FC;\n",
              "      }\n",
              "\n",
              "      [theme=dark] .colab-df-generate:hover {\n",
              "        background-color: #434B5C;\n",
              "        box-shadow: 0px 1px 3px 1px rgba(0, 0, 0, 0.15);\n",
              "        filter: drop-shadow(0px 1px 2px rgba(0, 0, 0, 0.3));\n",
              "        fill: #FFFFFF;\n",
              "      }\n",
              "    </style>\n",
              "    <button class=\"colab-df-generate\" onclick=\"generateWithVariable('datos')\"\n",
              "            title=\"Generate code using this dataframe.\"\n",
              "            style=\"display:none;\">\n",
              "\n",
              "  <svg xmlns=\"http://www.w3.org/2000/svg\" height=\"24px\"viewBox=\"0 0 24 24\"\n",
              "       width=\"24px\">\n",
              "    <path d=\"M7,19H8.4L18.45,9,17,7.55,7,17.6ZM5,21V16.75L18.45,3.32a2,2,0,0,1,2.83,0l1.4,1.43a1.91,1.91,0,0,1,.58,1.4,1.91,1.91,0,0,1-.58,1.4L9.25,21ZM18.45,9,17,7.55Zm-12,3A5.31,5.31,0,0,0,4.9,8.1,5.31,5.31,0,0,0,1,6.5,5.31,5.31,0,0,0,4.9,4.9,5.31,5.31,0,0,0,6.5,1,5.31,5.31,0,0,0,8.1,4.9,5.31,5.31,0,0,0,12,6.5,5.46,5.46,0,0,0,6.5,12Z\"/>\n",
              "  </svg>\n",
              "    </button>\n",
              "    <script>\n",
              "      (() => {\n",
              "      const buttonEl =\n",
              "        document.querySelector('#id_b30c24c9-393b-4369-af35-067026b15a12 button.colab-df-generate');\n",
              "      buttonEl.style.display =\n",
              "        google.colab.kernel.accessAllowed ? 'block' : 'none';\n",
              "\n",
              "      buttonEl.onclick = () => {\n",
              "        google.colab.notebook.generateWithVariable('datos');\n",
              "      }\n",
              "      })();\n",
              "    </script>\n",
              "  </div>\n",
              "\n",
              "    </div>\n",
              "  </div>\n"
            ],
            "application/vnd.google.colaboratory.intrinsic+json": {
              "type": "dataframe",
              "variable_name": "datos",
              "summary": "{\n  \"name\": \"datos\",\n  \"rows\": 1257,\n  \"fields\": [\n    {\n      \"column\": \"Date\",\n      \"properties\": {\n        \"dtype\": \"date\",\n        \"min\": \"2020-03-02 00:00:00\",\n        \"max\": \"2025-02-28 00:00:00\",\n        \"num_unique_values\": 1257,\n        \"samples\": [\n          \"2021-11-18 00:00:00\",\n          \"2020-07-24 00:00:00\",\n          \"2020-05-13 00:00:00\"\n        ],\n        \"semantic_type\": \"\",\n        \"description\": \"\"\n      }\n    },\n    {\n      \"column\": \"DELL\",\n      \"properties\": {\n        \"dtype\": \"number\",\n        \"std\": 33.89860479823573,\n        \"min\": 13.603462219238281,\n        \"max\": 177.24819946289062,\n        \"num_unique_values\": 1226,\n        \"samples\": [\n          45.12480926513672,\n          41.02326583862305,\n          67.913330078125\n        ],\n        \"semantic_type\": \"\",\n        \"description\": \"\"\n      }\n    },\n    {\n      \"column\": \"KOF\",\n      \"properties\": {\n        \"dtype\": \"number\",\n        \"std\": 20.477226304159274,\n        \"min\": 30.628633499145508,\n        \"max\": 99.56181335449219,\n        \"num_unique_values\": 1192,\n        \"samples\": [\n          90.30477142333984,\n          39.34004592895508,\n          41.69111251831055\n        ],\n        \"semantic_type\": \"\",\n        \"description\": \"\"\n      }\n    }\n  ]\n}"
            }
          },
          "metadata": {},
          "execution_count": 25
        }
      ]
    },
    {
      "cell_type": "markdown",
      "source": [
        "## Calculamos los rendimientos"
      ],
      "metadata": {
        "id": "ZN9035d3ww6i"
      }
    },
    {
      "cell_type": "code",
      "source": [
        "rend = (datos.values[1:]-datos.values[0:-1])/datos.values[1:]\n",
        "\n",
        "plt.plot(range(rend.shape[0]),rend[:,0],'r')\n",
        "plt.show()\n",
        "\n",
        "plt.plot(range(rend.shape[0]),rend[:,1],'b')\n",
        "plt.show()"
      ],
      "metadata": {
        "colab": {
          "base_uri": "https://localhost:8080/",
          "height": 843
        },
        "id": "LL9Xcxn3wnMd",
        "outputId": "cf202f06-ed03-45e4-e73c-b2ef01213ec9"
      },
      "execution_count": null,
      "outputs": [
        {
          "output_type": "display_data",
          "data": {
            "text/plain": [
              "<Figure size 640x480 with 1 Axes>"
            ],
            "image/png": "[encoded data removed]"
          },
          "metadata": {}
        },
        {
          "output_type": "display_data",
          "data": {
            "text/plain": [
              "<Figure size 640x480 with 1 Axes>"
            ],
            "image/png": "[encoded data removed]"
          },
          "metadata": {}
        }
      ]
    },
    {
      "cell_type": "code",
      "source": [
        "r = rend.mean(axis=0)\n",
        "r"
      ],
      "metadata": {
        "colab": {
          "base_uri": "https://localhost:8080/"
        },
        "id": "UJlE7VgKw09a",
        "outputId": "cf4f6fbd-1fd1-44e8-93ad-abb13b7716ef"
      },
      "execution_count": null,
      "outputs": [
        {
          "output_type": "execute_result",
          "data": {
            "text/plain": [
              "array([0.00091096, 0.00038424])"
            ]
          },
          "metadata": {},
          "execution_count": 27
        }
      ]
    },
    {
      "cell_type": "code",
      "source": [
        "Cov = np.cov(rend, rowvar=False)\n",
        "Cov"
      ],
      "metadata": {
        "colab": {
          "base_uri": "https://localhost:8080/"
        },
        "id": "rfX51ID-yIJm",
        "outputId": "baf7a135-34e3-4118-9ad0-3645e0a0a11c"
      },
      "execution_count": null,
      "outputs": [
        {
          "output_type": "execute_result",
          "data": {
            "text/plain": [
              "array([[0.00076513, 0.00012935],\n",
              "       [0.00012935, 0.0002965 ]])"
            ]
          },
          "metadata": {},
          "execution_count": 28
        }
      ]
    },
    {
      "cell_type": "markdown",
      "source": [
        "## Uso de Pymoo"
      ],
      "metadata": {
        "id": "c_2WBYRuzCER"
      }
    },
    {
      "cell_type": "markdown",
      "source": [
        "Primero, hay que instalar Pymoo"
      ],
      "metadata": {
        "id": "99cq9X1TzRLU"
      }
    },
    {
      "cell_type": "code",
      "source": [
        "!pip install -U pymoo"
      ],
      "metadata": {
        "colab": {
          "base_uri": "https://localhost:8080/"
        },
        "id": "pBybIgLzzUGZ",
        "outputId": "a6ec7dcf-df35-4f3c-e8d1-217e0d9c4fa7"
      },
      "execution_count": null,
      "outputs": [
        {
          "output_type": "stream",
          "name": "stdout",
          "text": [
            "Requirement already satisfied: pymoo in /usr/local/lib/python3.11/dist-packages (0.6.1.3)\n",
            "Requirement already satisfied: numpy>=1.15 in /usr/local/lib/python3.11/dist-packages (from pymoo) (1.26.4)\n",
            "Requirement already satisfied: scipy>=1.1 in /usr/local/lib/python3.11/dist-packages (from pymoo) (1.13.1)\n",
            "Requirement already satisfied: matplotlib>=3 in /usr/local/lib/python3.11/dist-packages (from pymoo) (3.10.0)\n",
            "Requirement already satisfied: autograd>=1.4 in /usr/local/lib/python3.11/dist-packages (from pymoo) (1.7.0)\n",
            "Requirement already satisfied: cma==3.2.2 in /usr/local/lib/python3.11/dist-packages (from pymoo) (3.2.2)\n",
            "Requirement already satisfied: alive-progress in /usr/local/lib/python3.11/dist-packages (from pymoo) (3.2.0)\n",
            "Requirement already satisfied: dill in /usr/local/lib/python3.11/dist-packages (from pymoo) (0.3.9)\n",
            "Requirement already satisfied: Deprecated in /usr/local/lib/python3.11/dist-packages (from pymoo) (1.2.18)\n",
            "Requirement already satisfied: contourpy>=1.0.1 in /usr/local/lib/python3.11/dist-packages (from matplotlib>=3->pymoo) (1.3.1)\n",
            "Requirement already satisfied: cycler>=0.10 in /usr/local/lib/python3.11/dist-packages (from matplotlib>=3->pymoo) (0.12.1)\n",
            "Requirement already satisfied: fonttools>=4.22.0 in /usr/local/lib/python3.11/dist-packages (from matplotlib>=3->pymoo) (4.56.0)\n",
            "Requirement already satisfied: kiwisolver>=1.3.1 in /usr/local/lib/python3.11/dist-packages (from matplotlib>=3->pymoo) (1.4.8)\n",
            "Requirement already satisfied: packaging>=20.0 in /usr/local/lib/python3.11/dist-packages (from matplotlib>=3->pymoo) (24.2)\n",
            "Requirement already satisfied: pillow>=8 in /usr/local/lib/python3.11/dist-packages (from matplotlib>=3->pymoo) (11.1.0)\n",
            "Requirement already satisfied: pyparsing>=2.3.1 in /usr/local/lib/python3.11/dist-packages (from matplotlib>=3->pymoo) (3.2.1)\n",
            "Requirement already satisfied: python-dateutil>=2.7 in /usr/local/lib/python3.11/dist-packages (from matplotlib>=3->pymoo) (2.8.2)\n",
            "Requirement already satisfied: about-time==4.2.1 in /usr/local/lib/python3.11/dist-packages (from alive-progress->pymoo) (4.2.1)\n",
            "Requirement already satisfied: grapheme==0.6.0 in /usr/local/lib/python3.11/dist-packages (from alive-progress->pymoo) (0.6.0)\n",
            "Requirement already satisfied: wrapt<2,>=1.10 in /usr/local/lib/python3.11/dist-packages (from Deprecated->pymoo) (1.17.2)\n",
            "Requirement already satisfied: six>=1.5 in /usr/local/lib/python3.11/dist-packages (from python-dateutil>=2.7->matplotlib>=3->pymoo) (1.17.0)\n"
          ]
        }
      ]
    },
    {
      "cell_type": "code",
      "source": [
        "from pymoo.algorithms.moo.nsga2 import NSGA2\n",
        "from pymoo.core.problem import Problem\n",
        "from pymoo.optimize import minimize\n",
        "from pymoo.visualization.scatter import Scatter\n",
        "\n",
        "class Portafolio(Problem):   # nombre que le queremos dar (Nombre de lo que es)\n",
        "  def __init__(self, mu, cov):\n",
        "    self.mu = mu\n",
        "    self.cov = cov\n",
        "    super().__init__(n_var=2, n_obj=2, n_ieq_constr=1, xl=0.0, xu=1.0)\n",
        "                    # tenemos 2 activos\n",
        "                    #          2 objetivos, minimizatr y maximizar\n",
        "                    #                  restriccion es que la suma de pesos sea igual a 1\n",
        "                    #                                   los pesos estan entre 0 y 1\n",
        "\n",
        "  def _evaluate(self, x, out, *args, **kwargs):\n",
        "    rendimiento = x @ self.mu\n",
        "    riesgo = np.zeros(x.shape[0])\n",
        "    for (i,w) in enumerate(x):\n",
        "      riesgo[i] = np.sqrt(w @ self.cov @ w.T)\n",
        "\n",
        "    out[\"F\"] = [riesgo, -rendimiento]\n",
        "    out[\"G\"] = np.abs( np.sum(x, axis=1) - 1.0 ) - 0.1\n",
        "\n",
        "problem = Portafolio(r,Cov)\n",
        "\n",
        "algorithm = NSGA2(pop_size=50)   # poblacion de 50\n",
        "\n",
        "res = minimize(problem,\n",
        "               algorithm,\n",
        "               ('n_gen', 200),\n",
        "               seed=1,\n",
        "               verbose=True)\n",
        "\n",
        "\n",
        "X, F = res.opt.get(\"X\", \"F\")\n",
        "F = F * [1, -1]\n",
        "\n",
        "plt.scatter(F[:, 0], F[:, 1], facecolor=\"none\", edgecolors=\"blue\", alpha=0.5, label=\"Portafolios óptimos\")\n",
        "plt.scatter(Cov.diagonal() ** 0.5, r, facecolor=\"none\", edgecolors=\"black\", s=30, label=\"Activo\")\n",
        "#plt.legend(loc='best')\n",
        "plt.legend(loc=7)\n",
        "plt.xlabel(\"volatilidad\")\n",
        "plt.ylabel(\"rendimiento\")\n",
        "plt.show()"
      ],
      "metadata": {
        "colab": {
          "base_uri": "https://localhost:8080/",
          "height": 1000
        },
        "id": "wIg18XdmzEMw",
        "outputId": "0b0473ac-26bd-4198-e6be-332847dcf8e2"
      },
      "execution_count": null,
      "outputs": [
        {
          "output_type": "stream",
          "name": "stdout",
          "text": [
            "==========================================================================================\n",
            "n_gen  |  n_eval  | n_nds  |     cv_min    |     cv_avg    |      eps      |   indicator  \n",
            "==========================================================================================\n",
            "     1 |       50 |      7 |  0.000000E+00 |  0.2551687336 |             - |             -\n",
            "     2 |      100 |     15 |  0.000000E+00 |  0.0366190309 |  0.0302989290 |         ideal\n",
            "     3 |      150 |     25 |  0.000000E+00 |  0.000000E+00 |  0.0869738874 |         ideal\n",
            "     4 |      200 |     33 |  0.000000E+00 |  0.000000E+00 |  0.0257014254 |         ideal\n",
            "     5 |      250 |     50 |  0.000000E+00 |  0.000000E+00 |  0.0566374434 |         nadir\n",
            "     6 |      300 |     50 |  0.000000E+00 |  0.000000E+00 |  0.0063102449 |             f\n",
            "     7 |      350 |     50 |  0.000000E+00 |  0.000000E+00 |  0.0053171764 |             f\n",
            "     8 |      400 |     50 |  0.000000E+00 |  0.000000E+00 |  0.0018364833 |             f\n",
            "     9 |      450 |     50 |  0.000000E+00 |  0.000000E+00 |  0.0037092007 |             f\n",
            "    10 |      500 |     50 |  0.000000E+00 |  0.000000E+00 |  0.0032707278 |             f\n",
            "    11 |      550 |     50 |  0.000000E+00 |  0.000000E+00 |  0.0377213461 |         ideal\n",
            "    12 |      600 |     50 |  0.000000E+00 |  0.000000E+00 |  0.0033999352 |             f\n",
            "    13 |      650 |     50 |  0.000000E+00 |  0.000000E+00 |  0.0055331030 |         nadir\n",
            "    14 |      700 |     50 |  0.000000E+00 |  0.000000E+00 |  0.0016342717 |             f\n",
            "    15 |      750 |     50 |  0.000000E+00 |  0.000000E+00 |  0.0045503849 |             f\n",
            "    16 |      800 |     50 |  0.000000E+00 |  0.000000E+00 |  0.0021856088 |             f\n",
            "    17 |      850 |     50 |  0.000000E+00 |  0.000000E+00 |  0.0029411135 |         nadir\n",
            "    18 |      900 |     50 |  0.000000E+00 |  0.000000E+00 |  0.0017333573 |             f\n",
            "    19 |      950 |     50 |  0.000000E+00 |  0.000000E+00 |  0.0035193451 |             f\n",
            "    20 |     1000 |     50 |  0.000000E+00 |  0.000000E+00 |  0.0017483847 |             f\n",
            "    21 |     1050 |     50 |  0.000000E+00 |  0.000000E+00 |  0.0046851255 |             f\n",
            "    22 |     1100 |     50 |  0.000000E+00 |  0.000000E+00 |  0.0021619899 |             f\n",
            "    23 |     1150 |     50 |  0.000000E+00 |  0.000000E+00 |  0.0028466641 |             f\n",
            "    24 |     1200 |     50 |  0.000000E+00 |  0.000000E+00 |  0.0023043748 |             f\n",
            "    25 |     1250 |     50 |  0.000000E+00 |  0.000000E+00 |  0.0041910092 |             f\n",
            "    26 |     1300 |     50 |  0.000000E+00 |  0.000000E+00 |  0.0016372887 |             f\n",
            "    27 |     1350 |     50 |  0.000000E+00 |  0.000000E+00 |  0.0031632012 |             f\n",
            "    28 |     1400 |     50 |  0.000000E+00 |  0.000000E+00 |  0.0018962330 |             f\n",
            "    29 |     1450 |     50 |  0.000000E+00 |  0.000000E+00 |  0.0041942333 |             f\n",
            "    30 |     1500 |     50 |  0.000000E+00 |  0.000000E+00 |  0.0038681793 |             f\n",
            "    31 |     1550 |     50 |  0.000000E+00 |  0.000000E+00 |  0.0008310214 |             f\n",
            "    32 |     1600 |     50 |  0.000000E+00 |  0.000000E+00 |  0.0021849218 |             f\n",
            "    33 |     1650 |     50 |  0.000000E+00 |  0.000000E+00 |  0.0025270731 |         ideal\n",
            "    34 |     1700 |     50 |  0.000000E+00 |  0.000000E+00 |  0.0026642285 |             f\n",
            "    35 |     1750 |     50 |  0.000000E+00 |  0.000000E+00 |  0.0013500833 |             f\n",
            "    36 |     1800 |     50 |  0.000000E+00 |  0.000000E+00 |  0.0028675585 |             f\n",
            "    37 |     1850 |     50 |  0.000000E+00 |  0.000000E+00 |  0.0014791683 |             f\n",
            "    38 |     1900 |     50 |  0.000000E+00 |  0.000000E+00 |  0.0023515908 |             f\n",
            "    39 |     1950 |     50 |  0.000000E+00 |  0.000000E+00 |  0.0037952599 |             f\n",
            "    40 |     2000 |     50 |  0.000000E+00 |  0.000000E+00 |  0.0018356746 |             f\n",
            "    41 |     2050 |     50 |  0.000000E+00 |  0.000000E+00 |  0.0027381632 |         nadir\n",
            "    42 |     2100 |     50 |  0.000000E+00 |  0.000000E+00 |  0.0002636495 |             f\n",
            "    43 |     2150 |     50 |  0.000000E+00 |  0.000000E+00 |  0.0019971737 |             f\n",
            "    44 |     2200 |     50 |  0.000000E+00 |  0.000000E+00 |  0.0023815731 |             f\n",
            "    45 |     2250 |     50 |  0.000000E+00 |  0.000000E+00 |  0.0026914624 |             f\n",
            "    46 |     2300 |     50 |  0.000000E+00 |  0.000000E+00 |  0.0014568076 |             f\n",
            "    47 |     2350 |     50 |  0.000000E+00 |  0.000000E+00 |  0.0029291425 |             f\n",
            "    48 |     2400 |     50 |  0.000000E+00 |  0.000000E+00 |  0.0026388820 |             f\n",
            "    49 |     2450 |     50 |  0.000000E+00 |  0.000000E+00 |  0.0014267479 |             f\n",
            "    50 |     2500 |     50 |  0.000000E+00 |  0.000000E+00 |  0.0046877390 |         ideal\n",
            "    51 |     2550 |     50 |  0.000000E+00 |  0.000000E+00 |  0.0007717515 |             f\n",
            "    52 |     2600 |     50 |  0.000000E+00 |  0.000000E+00 |  0.0023179569 |             f\n",
            "    53 |     2650 |     50 |  0.000000E+00 |  0.000000E+00 |  0.0027400829 |             f\n",
            "    54 |     2700 |     50 |  0.000000E+00 |  0.000000E+00 |  0.0022289136 |             f\n",
            "    55 |     2750 |     50 |  0.000000E+00 |  0.000000E+00 |  0.0029837662 |             f\n",
            "    56 |     2800 |     50 |  0.000000E+00 |  0.000000E+00 |  0.0029664193 |             f\n",
            "    57 |     2850 |     50 |  0.000000E+00 |  0.000000E+00 |  0.0012586421 |             f\n",
            "    58 |     2900 |     50 |  0.000000E+00 |  0.000000E+00 |  0.0022573037 |             f\n",
            "    59 |     2950 |     50 |  0.000000E+00 |  0.000000E+00 |  0.0035094919 |             f\n",
            "    60 |     3000 |     50 |  0.000000E+00 |  0.000000E+00 |  0.0006053295 |             f\n",
            "    61 |     3050 |     50 |  0.000000E+00 |  0.000000E+00 |  0.0026459417 |             f\n",
            "    62 |     3100 |     50 |  0.000000E+00 |  0.000000E+00 |  0.0017660194 |             f\n",
            "    63 |     3150 |     50 |  0.000000E+00 |  0.000000E+00 |  0.0030253745 |             f\n",
            "    64 |     3200 |     50 |  0.000000E+00 |  0.000000E+00 |  0.0025780993 |             f\n",
            "    65 |     3250 |     50 |  0.000000E+00 |  0.000000E+00 |  0.0025253188 |             f\n",
            "    66 |     3300 |     50 |  0.000000E+00 |  0.000000E+00 |  0.0012602129 |             f\n",
            "    67 |     3350 |     50 |  0.000000E+00 |  0.000000E+00 |  0.0034159555 |             f\n",
            "    68 |     3400 |     50 |  0.000000E+00 |  0.000000E+00 |  0.0010694221 |             f\n",
            "    69 |     3450 |     50 |  0.000000E+00 |  0.000000E+00 |  0.0029753311 |             f\n",
            "    70 |     3500 |     50 |  0.000000E+00 |  0.000000E+00 |  0.0010808548 |             f\n",
            "    71 |     3550 |     50 |  0.000000E+00 |  0.000000E+00 |  0.0028119518 |             f\n",
            "    72 |     3600 |     50 |  0.000000E+00 |  0.000000E+00 |  0.0015573005 |             f\n",
            "    73 |     3650 |     50 |  0.000000E+00 |  0.000000E+00 |  0.0036885406 |             f\n",
            "    74 |     3700 |     50 |  0.000000E+00 |  0.000000E+00 |  0.0017637161 |             f\n",
            "    75 |     3750 |     50 |  0.000000E+00 |  0.000000E+00 |  0.0038984218 |             f\n",
            "    76 |     3800 |     50 |  0.000000E+00 |  0.000000E+00 |  0.0022711754 |             f\n",
            "    77 |     3850 |     50 |  0.000000E+00 |  0.000000E+00 |  0.0046068261 |             f\n",
            "    78 |     3900 |     50 |  0.000000E+00 |  0.000000E+00 |  0.0028827116 |             f\n",
            "    79 |     3950 |     50 |  0.000000E+00 |  0.000000E+00 |  0.0025931404 |             f\n",
            "    80 |     4000 |     50 |  0.000000E+00 |  0.000000E+00 |  0.0012799912 |             f\n",
            "    81 |     4050 |     50 |  0.000000E+00 |  0.000000E+00 |  0.0031055038 |             f\n",
            "    82 |     4100 |     50 |  0.000000E+00 |  0.000000E+00 |  0.0020694474 |             f\n",
            "    83 |     4150 |     50 |  0.000000E+00 |  0.000000E+00 |  0.0041472092 |             f\n",
            "    84 |     4200 |     50 |  0.000000E+00 |  0.000000E+00 |  0.0014964897 |             f\n",
            "    85 |     4250 |     50 |  0.000000E+00 |  0.000000E+00 |  0.0020406990 |             f\n",
            "    86 |     4300 |     50 |  0.000000E+00 |  0.000000E+00 |  0.0036614390 |             f\n",
            "    87 |     4350 |     50 |  0.000000E+00 |  0.000000E+00 |  0.0016582796 |             f\n",
            "    88 |     4400 |     50 |  0.000000E+00 |  0.000000E+00 |  0.0028152632 |             f\n",
            "    89 |     4450 |     50 |  0.000000E+00 |  0.000000E+00 |  0.0012195000 |             f\n",
            "    90 |     4500 |     50 |  0.000000E+00 |  0.000000E+00 |  0.0022072662 |             f\n",
            "    91 |     4550 |     50 |  0.000000E+00 |  0.000000E+00 |  0.0040488671 |             f\n",
            "    92 |     4600 |     50 |  0.000000E+00 |  0.000000E+00 |  0.0018264133 |             f\n",
            "    93 |     4650 |     50 |  0.000000E+00 |  0.000000E+00 |  0.0034264581 |             f\n",
            "    94 |     4700 |     50 |  0.000000E+00 |  0.000000E+00 |  0.0025425094 |             f\n",
            "    95 |     4750 |     50 |  0.000000E+00 |  0.000000E+00 |  0.0017553323 |             f\n",
            "    96 |     4800 |     50 |  0.000000E+00 |  0.000000E+00 |  0.0026216955 |             f\n",
            "    97 |     4850 |     50 |  0.000000E+00 |  0.000000E+00 |  0.0014060011 |             f\n",
            "    98 |     4900 |     50 |  0.000000E+00 |  0.000000E+00 |  0.0041533893 |             f\n",
            "    99 |     4950 |     50 |  0.000000E+00 |  0.000000E+00 |  0.0015479267 |             f\n",
            "   100 |     5000 |     50 |  0.000000E+00 |  0.000000E+00 |  0.0031286768 |             f\n",
            "   101 |     5050 |     50 |  0.000000E+00 |  0.000000E+00 |  0.0017399046 |             f\n",
            "   102 |     5100 |     50 |  0.000000E+00 |  0.000000E+00 |  0.0030140719 |             f\n",
            "   103 |     5150 |     50 |  0.000000E+00 |  0.000000E+00 |  0.0024264406 |             f\n",
            "   104 |     5200 |     50 |  0.000000E+00 |  0.000000E+00 |  0.0046863332 |             f\n",
            "   105 |     5250 |     50 |  0.000000E+00 |  0.000000E+00 |  0.0044101127 |         ideal\n",
            "   106 |     5300 |     50 |  0.000000E+00 |  0.000000E+00 |  0.0013994004 |             f\n",
            "   107 |     5350 |     50 |  0.000000E+00 |  0.000000E+00 |  0.0029383909 |             f\n",
            "   108 |     5400 |     50 |  0.000000E+00 |  0.000000E+00 |  0.0013709852 |             f\n",
            "   109 |     5450 |     50 |  0.000000E+00 |  0.000000E+00 |  0.0025422150 |             f\n",
            "   110 |     5500 |     50 |  0.000000E+00 |  0.000000E+00 |  0.0020678694 |             f\n",
            "   111 |     5550 |     50 |  0.000000E+00 |  0.000000E+00 |  0.0028761015 |             f\n",
            "   112 |     5600 |     50 |  0.000000E+00 |  0.000000E+00 |  0.0018835695 |             f\n",
            "   113 |     5650 |     50 |  0.000000E+00 |  0.000000E+00 |  0.0025667214 |             f\n",
            "   114 |     5700 |     50 |  0.000000E+00 |  0.000000E+00 |  0.0020226420 |             f\n",
            "   115 |     5750 |     50 |  0.000000E+00 |  0.000000E+00 |  0.0045847481 |             f\n",
            "   116 |     5800 |     50 |  0.000000E+00 |  0.000000E+00 |  0.0018385417 |             f\n",
            "   117 |     5850 |     50 |  0.000000E+00 |  0.000000E+00 |  0.0025660845 |             f\n",
            "   118 |     5900 |     50 |  0.000000E+00 |  0.000000E+00 |  0.0011354280 |             f\n",
            "   119 |     5950 |     50 |  0.000000E+00 |  0.000000E+00 |  0.0030557657 |             f\n",
            "   120 |     6000 |     50 |  0.000000E+00 |  0.000000E+00 |  0.0015536802 |             f\n",
            "   121 |     6050 |     50 |  0.000000E+00 |  0.000000E+00 |  0.0029867843 |             f\n",
            "   122 |     6100 |     50 |  0.000000E+00 |  0.000000E+00 |  0.0007833724 |             f\n",
            "   123 |     6150 |     50 |  0.000000E+00 |  0.000000E+00 |  0.0021467048 |             f\n",
            "   124 |     6200 |     50 |  0.000000E+00 |  0.000000E+00 |  0.0035276751 |             f\n",
            "   125 |     6250 |     50 |  0.000000E+00 |  0.000000E+00 |  0.0024066348 |             f\n",
            "   126 |     6300 |     50 |  0.000000E+00 |  0.000000E+00 |  0.0045169656 |             f\n",
            "   127 |     6350 |     50 |  0.000000E+00 |  0.000000E+00 |  0.0029236684 |             f\n",
            "   128 |     6400 |     50 |  0.000000E+00 |  0.000000E+00 |  0.0013947614 |             f\n",
            "   129 |     6450 |     50 |  0.000000E+00 |  0.000000E+00 |  0.0025366781 |             f\n",
            "   130 |     6500 |     50 |  0.000000E+00 |  0.000000E+00 |  0.0013670637 |             f\n",
            "   131 |     6550 |     50 |  0.000000E+00 |  0.000000E+00 |  0.0022361086 |             f\n",
            "   132 |     6600 |     50 |  0.000000E+00 |  0.000000E+00 |  0.0035110667 |             f\n",
            "   133 |     6650 |     50 |  0.000000E+00 |  0.000000E+00 |  0.0014888118 |             f\n",
            "   134 |     6700 |     50 |  0.000000E+00 |  0.000000E+00 |  0.0039153685 |             f\n",
            "   135 |     6750 |     50 |  0.000000E+00 |  0.000000E+00 |  0.0010496158 |             f\n",
            "   136 |     6800 |     50 |  0.000000E+00 |  0.000000E+00 |  0.0035709597 |             f\n",
            "   137 |     6850 |     50 |  0.000000E+00 |  0.000000E+00 |  0.0017320788 |             f\n",
            "   138 |     6900 |     50 |  0.000000E+00 |  0.000000E+00 |  0.0041834114 |             f\n",
            "   139 |     6950 |     50 |  0.000000E+00 |  0.000000E+00 |  0.0019519024 |             f\n",
            "   140 |     7000 |     50 |  0.000000E+00 |  0.000000E+00 |  0.0026287734 |             f\n",
            "   141 |     7050 |     50 |  0.000000E+00 |  0.000000E+00 |  0.0026464503 |             f\n",
            "   142 |     7100 |     50 |  0.000000E+00 |  0.000000E+00 |  0.0016008904 |             f\n",
            "   143 |     7150 |     50 |  0.000000E+00 |  0.000000E+00 |  0.0033745967 |             f\n",
            "   144 |     7200 |     50 |  0.000000E+00 |  0.000000E+00 |  0.0016330810 |             f\n",
            "   145 |     7250 |     50 |  0.000000E+00 |  0.000000E+00 |  0.0028308945 |             f\n",
            "   146 |     7300 |     50 |  0.000000E+00 |  0.000000E+00 |  0.0012654743 |             f\n",
            "   147 |     7350 |     50 |  0.000000E+00 |  0.000000E+00 |  0.0036995902 |             f\n",
            "   148 |     7400 |     50 |  0.000000E+00 |  0.000000E+00 |  0.0013544244 |             f\n",
            "   149 |     7450 |     50 |  0.000000E+00 |  0.000000E+00 |  0.0025108238 |             f\n",
            "   150 |     7500 |     50 |  0.000000E+00 |  0.000000E+00 |  0.0014394499 |             f\n",
            "   151 |     7550 |     50 |  0.000000E+00 |  0.000000E+00 |  0.0027268892 |             f\n",
            "   152 |     7600 |     50 |  0.000000E+00 |  0.000000E+00 |  0.0014975373 |             f\n",
            "   153 |     7650 |     50 |  0.000000E+00 |  0.000000E+00 |  0.0030229310 |             f\n",
            "   154 |     7700 |     50 |  0.000000E+00 |  0.000000E+00 |  0.0018938665 |             f\n",
            "   155 |     7750 |     50 |  0.000000E+00 |  0.000000E+00 |  0.0026928767 |             f\n",
            "   156 |     7800 |     50 |  0.000000E+00 |  0.000000E+00 |  0.0015215706 |             f\n",
            "   157 |     7850 |     50 |  0.000000E+00 |  0.000000E+00 |  0.0030316055 |             f\n",
            "   158 |     7900 |     50 |  0.000000E+00 |  0.000000E+00 |  0.0023061727 |             f\n",
            "   159 |     7950 |     50 |  0.000000E+00 |  0.000000E+00 |  0.0052417858 |             f\n",
            "   160 |     8000 |     50 |  0.000000E+00 |  0.000000E+00 |  0.0022194414 |             f\n",
            "   161 |     8050 |     50 |  0.000000E+00 |  0.000000E+00 |  0.0033801308 |             f\n",
            "   162 |     8100 |     50 |  0.000000E+00 |  0.000000E+00 |  0.0016764077 |             f\n",
            "   163 |     8150 |     50 |  0.000000E+00 |  0.000000E+00 |  0.0034813831 |             f\n",
            "   164 |     8200 |     50 |  0.000000E+00 |  0.000000E+00 |  0.0016240505 |             f\n",
            "   165 |     8250 |     50 |  0.000000E+00 |  0.000000E+00 |  0.0045692813 |             f\n",
            "   166 |     8300 |     50 |  0.000000E+00 |  0.000000E+00 |  0.0012440035 |             f\n",
            "   167 |     8350 |     50 |  0.000000E+00 |  0.000000E+00 |  0.0032777427 |             f\n",
            "   168 |     8400 |     50 |  0.000000E+00 |  0.000000E+00 |  0.0025455542 |             f\n",
            "   169 |     8450 |     50 |  0.000000E+00 |  0.000000E+00 |  0.0019727130 |             f\n",
            "   170 |     8500 |     50 |  0.000000E+00 |  0.000000E+00 |  0.0028503723 |             f\n",
            "   171 |     8550 |     50 |  0.000000E+00 |  0.000000E+00 |  0.0016723965 |             f\n",
            "   172 |     8600 |     50 |  0.000000E+00 |  0.000000E+00 |  0.0029038872 |             f\n",
            "   173 |     8650 |     50 |  0.000000E+00 |  0.000000E+00 |  0.0037637079 |             f\n",
            "   174 |     8700 |     50 |  0.000000E+00 |  0.000000E+00 |  0.0014803814 |             f\n",
            "   175 |     8750 |     50 |  0.000000E+00 |  0.000000E+00 |  0.0042973297 |             f\n",
            "   176 |     8800 |     50 |  0.000000E+00 |  0.000000E+00 |  0.0022470840 |             f\n",
            "   177 |     8850 |     50 |  0.000000E+00 |  0.000000E+00 |  0.0035258618 |             f\n",
            "   178 |     8900 |     50 |  0.000000E+00 |  0.000000E+00 |  0.0020738608 |             f\n",
            "   179 |     8950 |     50 |  0.000000E+00 |  0.000000E+00 |  0.0036098026 |             f\n",
            "   180 |     9000 |     50 |  0.000000E+00 |  0.000000E+00 |  0.0021191866 |             f\n",
            "   181 |     9050 |     50 |  0.000000E+00 |  0.000000E+00 |  0.0035911002 |             f\n",
            "   182 |     9100 |     50 |  0.000000E+00 |  0.000000E+00 |  0.0024810356 |             f\n",
            "   183 |     9150 |     50 |  0.000000E+00 |  0.000000E+00 |  0.0048816668 |             f\n",
            "   184 |     9200 |     50 |  0.000000E+00 |  0.000000E+00 |  0.0023328682 |             f\n",
            "   185 |     9250 |     50 |  0.000000E+00 |  0.000000E+00 |  0.0037700987 |             f\n",
            "   186 |     9300 |     50 |  0.000000E+00 |  0.000000E+00 |  0.0014010913 |             f\n",
            "   187 |     9350 |     50 |  0.000000E+00 |  0.000000E+00 |  0.0042394862 |             f\n",
            "   188 |     9400 |     50 |  0.000000E+00 |  0.000000E+00 |  0.0012074988 |             f\n",
            "   189 |     9450 |     50 |  0.000000E+00 |  0.000000E+00 |  0.0027379887 |             f\n",
            "   190 |     9500 |     50 |  0.000000E+00 |  0.000000E+00 |  0.0025590832 |             f\n",
            "   191 |     9550 |     50 |  0.000000E+00 |  0.000000E+00 |  0.0021481129 |             f\n",
            "   192 |     9600 |     50 |  0.000000E+00 |  0.000000E+00 |  0.0038986641 |             f\n",
            "   193 |     9650 |     50 |  0.000000E+00 |  0.000000E+00 |  0.0027037665 |         ideal\n",
            "   194 |     9700 |     50 |  0.000000E+00 |  0.000000E+00 |  0.0025041592 |             f\n",
            "   195 |     9750 |     50 |  0.000000E+00 |  0.000000E+00 |  0.0026065318 |             f\n",
            "   196 |     9800 |     50 |  0.000000E+00 |  0.000000E+00 |  0.0011052156 |             f\n",
            "   197 |     9850 |     50 |  0.000000E+00 |  0.000000E+00 |  0.0017902123 |             f\n",
            "   198 |     9900 |     50 |  0.000000E+00 |  0.000000E+00 |  0.0025952191 |             f\n",
            "   199 |     9950 |     50 |  0.000000E+00 |  0.000000E+00 |  0.0022647430 |             f\n",
            "   200 |    10000 |     50 |  0.000000E+00 |  0.000000E+00 |  0.0032166470 |             f\n"
          ]
        },
        {
          "output_type": "display_data",
          "data": {
            "text/plain": [
              "<Figure size 640x480 with 1 Axes>"
            ],
            "image/png": "[encoded data removed]"
          },
          "metadata": {}
        }
      ]
    },
    {
      "cell_type": "code",
      "source": [
        "np.sum( res.X, axis=1 )"
      ],
      "metadata": {
        "colab": {
          "base_uri": "https://localhost:8080/"
        },
        "id": "0IKTG4N29U7O",
        "outputId": "0d869559-fce2-4863-d572-3fff373d0bd3"
      },
      "execution_count": null,
      "outputs": [
        {
          "output_type": "execute_result",
          "data": {
            "text/plain": [
              "array([0.90290133, 1.09998398, 1.09094743, 1.09829229, 1.09866405,\n",
              "       0.90590822, 0.92295027, 1.08401407, 1.08847033, 1.0274732 ,\n",
              "       1.03234712, 1.086691  , 1.07695343, 0.90034776, 0.90016847,\n",
              "       0.90834434, 1.06427771, 0.90098771, 1.07289704, 1.09368999,\n",
              "       1.09694525, 0.90337438, 1.08586949, 1.02123733, 1.08048308,\n",
              "       1.04730714, 0.90061499, 0.9261369 , 0.97432911, 1.08322802,\n",
              "       0.90635573, 1.03332635, 1.09939299, 1.07436238, 1.09942381,\n",
              "       1.07691647, 0.90792968, 1.09740297, 0.98153871, 0.96569185,\n",
              "       1.07779662, 0.95781855, 1.04422316, 0.90648669, 1.09626083,\n",
              "       1.0996443 , 1.03212915, 1.08307011, 1.01965049, 0.93908696])"
            ]
          },
          "metadata": {},
          "execution_count": 31
        }
      ]
    },
    {
      "cell_type": "markdown",
      "source": [
        "[Posición de la etiqueta](https://matplotlib.org/stable/api/_as_gen/matplotlib.pyplot.legend.html)"
      ],
      "metadata": {
        "id": "YygDYbVCAvHi"
      }
    },
    {
      "cell_type": "code",
      "source": [],
      "metadata": {
        "id": "BIYP-WV1_LAv"
      },
      "execution_count": null,
      "outputs": []
    }
  ]
}