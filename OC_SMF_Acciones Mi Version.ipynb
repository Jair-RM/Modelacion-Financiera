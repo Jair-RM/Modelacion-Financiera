{
  "nbformat": 4,
  "nbformat_minor": 0,
  "metadata": {
    "colab": {
      "provenance": [],
      "include_colab_link": true
    },
    "kernelspec": {
      "name": "python3",
      "display_name": "Python 3"
    },
    "language_info": {
      "name": "python"
    }
  },
  "cells": [
    {
      "cell_type": "markdown",
      "metadata": {
        "id": "view-in-github",
        "colab_type": "text"
      },
      "source": [
        "<a href=\"https://colab.research.google.com/github/Jair-RM/Modelacion-Financiera/blob/main/OC_SMF_Acciones%20Mi%20Version.ipynb\" target=\"_parent\"><img src=\"https://colab.research.google.com/assets/colab-badge.svg\" alt=\"Open In Colab\"/></a>"
      ]
    },
    {
      "cell_type": "markdown",
      "source": [
        "# Manejo de Acciones\n",
        "\n",
        "**Oliver Cuate**\n",
        "\n",
        "*28 de febrero de 2025*\n",
        "\n",
        "---\n",
        "\n",
        "En este cuaderno le mostraré cómo usar [Pymoo](https://pymoo.org/) para resolver el problema clásico de portafolios (2 acciones)."
      ],
      "metadata": {
        "id": "lKhu163dvjMU"
      }
    },
    {
      "cell_type": "markdown",
      "source": [
        "## Obtener precios de acciones"
      ],
      "metadata": {
        "id": "EJphfFJ2wE1S"
      }
    },
    {
      "cell_type": "code",
      "execution_count": 31,
      "metadata": {
        "colab": {
          "base_uri": "https://localhost:8080/"
        },
        "id": "7bdR1eJivCuK",
        "outputId": "a614c56f-bb50-45b3-e694-bd912a2338a2"
      },
      "outputs": [
        {
          "output_type": "stream",
          "name": "stderr",
          "text": [
            "[*********************100%***********************]  2 of 2 completed"
          ]
        },
        {
          "output_type": "stream",
          "name": "stdout",
          "text": [
            "2020-03-01 18:37:20.888149 2025-02-28 18:37:20.888149\n"
          ]
        },
        {
          "output_type": "stream",
          "name": "stderr",
          "text": [
            "\n"
          ]
        }
      ],
      "source": [
        "import yfinance as yf\n",
        "import pandas as pd\n",
        "import matplotlib.pyplot as plt\n",
        "import numpy as np\n",
        "\n",
        "hoy = pd.Timestamp.today()\n",
        "inicio = hoy - pd.Timedelta(days=365*5)\n",
        "\n",
        "print(inicio, hoy)\n",
        "\n",
        "#tickers = [\"^MXX\", \"BIMBOA.MX\"]     # IPC MEXICO, BIMBO\n",
        "tickers = [\"KOF\", \"DELL\"]     # Coca-Cola FEMSA, Dell Technologies Inc.\n",
        "\n",
        "# inicio.strftime('%Y-%m-%d') # por si hay error\n",
        "#datos = yf.download(ticker, start=inicio, end=hoy).copy() # todos los datos\n",
        "\n",
        "datos = yf.download(tickers, start=inicio, end=hoy)['Close'].copy() # todos los datos"
      ]
    },
    {
      "cell_type": "markdown",
      "source": [
        "Vemos los datos"
      ],
      "metadata": {
        "id": "fiYJhnj1wk0B"
      }
    },
    {
      "cell_type": "code",
      "source": [
        "datos"
      ],
      "metadata": {
        "colab": {
          "base_uri": "https://localhost:8080/",
          "height": 455
        },
        "id": "1MqPFc3cwfM9",
        "outputId": "e8852b3e-7974-41cb-b609-5c42b8e18247"
      },
      "execution_count": 32,
      "outputs": [
        {
          "output_type": "execute_result",
          "data": {
            "text/plain": [
              "Ticker            DELL        KOF\n",
              "Date                             \n",
              "2020-03-02   19.974047  45.343887\n",
              "2020-03-03   19.686619  44.772972\n",
              "2020-03-04   20.440529  45.408218\n",
              "2020-03-05   19.248404  44.218132\n",
              "2020-03-06   18.668835  43.405979\n",
              "...                ...        ...\n",
              "2025-02-24  114.139999  88.339996\n",
              "2025-02-25  110.650002  87.730003\n",
              "2025-02-26  115.650002  86.589996\n",
              "2025-02-27  107.830002  88.839996\n",
              "2025-02-28  101.230003  88.410004\n",
              "\n",
              "[1257 rows x 2 columns]"
            ],
            "text/html": [
              "\n",
              "  <div id=\"df-3239264a-0f92-420d-9954-2c2179e4a7c4\" class=\"colab-df-container\">\n",
              "    <div>\n",
              "<style scoped>\n",
              "    .dataframe tbody tr th:only-of-type {\n",
              "        vertical-align: middle;\n",
              "    }\n",
              "\n",
              "    .dataframe tbody tr th {\n",
              "        vertical-align: top;\n",
              "    }\n",
              "\n",
              "    .dataframe thead th {\n",
              "        text-align: right;\n",
              "    }\n",
              "</style>\n",
              "<table border=\"1\" class=\"dataframe\">\n",
              "  <thead>\n",
              "    <tr style=\"text-align: right;\">\n",
              "      <th>Ticker</th>\n",
              "      <th>DELL</th>\n",
              "      <th>KOF</th>\n",
              "    </tr>\n",
              "    <tr>\n",
              "      <th>Date</th>\n",
              "      <th></th>\n",
              "      <th></th>\n",
              "    </tr>\n",
              "  </thead>\n",
              "  <tbody>\n",
              "    <tr>\n",
              "      <th>2020-03-02</th>\n",
              "      <td>19.974047</td>\n",
              "      <td>45.343887</td>\n",
              "    </tr>\n",
              "    <tr>\n",
              "      <th>2020-03-03</th>\n",
              "      <td>19.686619</td>\n",
              "      <td>44.772972</td>\n",
              "    </tr>\n",
              "    <tr>\n",
              "      <th>2020-03-04</th>\n",
              "      <td>20.440529</td>\n",
              "      <td>45.408218</td>\n",
              "    </tr>\n",
              "    <tr>\n",
              "      <th>2020-03-05</th>\n",
              "      <td>19.248404</td>\n",
              "      <td>44.218132</td>\n",
              "    </tr>\n",
              "    <tr>\n",
              "      <th>2020-03-06</th>\n",
              "      <td>18.668835</td>\n",
              "      <td>43.405979</td>\n",
              "    </tr>\n",
              "    <tr>\n",
              "      <th>...</th>\n",
              "      <td>...</td>\n",
              "      <td>...</td>\n",
              "    </tr>\n",
              "    <tr>\n",
              "      <th>2025-02-24</th>\n",
              "      <td>114.139999</td>\n",
              "      <td>88.339996</td>\n",
              "    </tr>\n",
              "    <tr>\n",
              "      <th>2025-02-25</th>\n",
              "      <td>110.650002</td>\n",
              "      <td>87.730003</td>\n",
              "    </tr>\n",
              "    <tr>\n",
              "      <th>2025-02-26</th>\n",
              "      <td>115.650002</td>\n",
              "      <td>86.589996</td>\n",
              "    </tr>\n",
              "    <tr>\n",
              "      <th>2025-02-27</th>\n",
              "      <td>107.830002</td>\n",
              "      <td>88.839996</td>\n",
              "    </tr>\n",
              "    <tr>\n",
              "      <th>2025-02-28</th>\n",
              "      <td>101.230003</td>\n",
              "      <td>88.410004</td>\n",
              "    </tr>\n",
              "  </tbody>\n",
              "</table>\n",
              "<p>1257 rows × 2 columns</p>\n",
              "</div>\n",
              "    <div class=\"colab-df-buttons\">\n",
              "\n",
              "  <div class=\"colab-df-container\">\n",
              "    <button class=\"colab-df-convert\" onclick=\"convertToInteractive('df-3239264a-0f92-420d-9954-2c2179e4a7c4')\"\n",
              "            title=\"Convert this dataframe to an interactive table.\"\n",
              "            style=\"display:none;\">\n",
              "\n",
              "  <svg xmlns=\"http://www.w3.org/2000/svg\" height=\"24px\" viewBox=\"0 -960 960 960\">\n",
              "    <path d=\"M120-120v-720h720v720H120Zm60-500h600v-160H180v160Zm220 220h160v-160H400v160Zm0 220h160v-160H400v160ZM180-400h160v-160H180v160Zm440 0h160v-160H620v160ZM180-180h160v-160H180v160Zm440 0h160v-160H620v160Z\"/>\n",
              "  </svg>\n",
              "    </button>\n",
              "\n",
              "  <style>\n",
              "    .colab-df-container {\n",
              "      display:flex;\n",
              "      gap: 12px;\n",
              "    }\n",
              "\n",
              "    .colab-df-convert {\n",
              "      background-color: #E8F0FE;\n",
              "      border: none;\n",
              "      border-radius: 50%;\n",
              "      cursor: pointer;\n",
              "      display: none;\n",
              "      fill: #1967D2;\n",
              "      height: 32px;\n",
              "      padding: 0 0 0 0;\n",
              "      width: 32px;\n",
              "    }\n",
              "\n",
              "    .colab-df-convert:hover {\n",
              "      background-color: #E2EBFA;\n",
              "      box-shadow: 0px 1px 2px rgba(60, 64, 67, 0.3), 0px 1px 3px 1px rgba(60, 64, 67, 0.15);\n",
              "      fill: #174EA6;\n",
              "    }\n",
              "\n",
              "    .colab-df-buttons div {\n",
              "      margin-bottom: 4px;\n",
              "    }\n",
              "\n",
              "    [theme=dark] .colab-df-convert {\n",
              "      background-color: #3B4455;\n",
              "      fill: #D2E3FC;\n",
              "    }\n",
              "\n",
              "    [theme=dark] .colab-df-convert:hover {\n",
              "      background-color: #434B5C;\n",
              "      box-shadow: 0px 1px 3px 1px rgba(0, 0, 0, 0.15);\n",
              "      filter: drop-shadow(0px 1px 2px rgba(0, 0, 0, 0.3));\n",
              "      fill: #FFFFFF;\n",
              "    }\n",
              "  </style>\n",
              "\n",
              "    <script>\n",
              "      const buttonEl =\n",
              "        document.querySelector('#df-3239264a-0f92-420d-9954-2c2179e4a7c4 button.colab-df-convert');\n",
              "      buttonEl.style.display =\n",
              "        google.colab.kernel.accessAllowed ? 'block' : 'none';\n",
              "\n",
              "      async function convertToInteractive(key) {\n",
              "        const element = document.querySelector('#df-3239264a-0f92-420d-9954-2c2179e4a7c4');\n",
              "        const dataTable =\n",
              "          await google.colab.kernel.invokeFunction('convertToInteractive',\n",
              "                                                    [key], {});\n",
              "        if (!dataTable) return;\n",
              "\n",
              "        const docLinkHtml = 'Like what you see? Visit the ' +\n",
              "          '<a target=\"_blank\" href=https://colab.research.google.com/notebooks/data_table.ipynb>data table notebook</a>'\n",
              "          + ' to learn more about interactive tables.';\n",
              "        element.innerHTML = '';\n",
              "        dataTable['output_type'] = 'display_data';\n",
              "        await google.colab.output.renderOutput(dataTable, element);\n",
              "        const docLink = document.createElement('div');\n",
              "        docLink.innerHTML = docLinkHtml;\n",
              "        element.appendChild(docLink);\n",
              "      }\n",
              "    </script>\n",
              "  </div>\n",
              "\n",
              "\n",
              "<div id=\"df-fe56c6fb-e929-4965-b459-b06627dc339f\">\n",
              "  <button class=\"colab-df-quickchart\" onclick=\"quickchart('df-fe56c6fb-e929-4965-b459-b06627dc339f')\"\n",
              "            title=\"Suggest charts\"\n",
              "            style=\"display:none;\">\n",
              "\n",
              "<svg xmlns=\"http://www.w3.org/2000/svg\" height=\"24px\"viewBox=\"0 0 24 24\"\n",
              "     width=\"24px\">\n",
              "    <g>\n",
              "        <path d=\"M19 3H5c-1.1 0-2 .9-2 2v14c0 1.1.9 2 2 2h14c1.1 0 2-.9 2-2V5c0-1.1-.9-2-2-2zM9 17H7v-7h2v7zm4 0h-2V7h2v10zm4 0h-2v-4h2v4z\"/>\n",
              "    </g>\n",
              "</svg>\n",
              "  </button>\n",
              "\n",
              "<style>\n",
              "  .colab-df-quickchart {\n",
              "      --bg-color: #E8F0FE;\n",
              "      --fill-color: #1967D2;\n",
              "      --hover-bg-color: #E2EBFA;\n",
              "      --hover-fill-color: #174EA6;\n",
              "      --disabled-fill-color: #AAA;\n",
              "      --disabled-bg-color: #DDD;\n",
              "  }\n",
              "\n",
              "  [theme=dark] .colab-df-quickchart {\n",
              "      --bg-color: #3B4455;\n",
              "      --fill-color: #D2E3FC;\n",
              "      --hover-bg-color: #434B5C;\n",
              "      --hover-fill-color: #FFFFFF;\n",
              "      --disabled-bg-color: #3B4455;\n",
              "      --disabled-fill-color: #666;\n",
              "  }\n",
              "\n",
              "  .colab-df-quickchart {\n",
              "    background-color: var(--bg-color);\n",
              "    border: none;\n",
              "    border-radius: 50%;\n",
              "    cursor: pointer;\n",
              "    display: none;\n",
              "    fill: var(--fill-color);\n",
              "    height: 32px;\n",
              "    padding: 0;\n",
              "    width: 32px;\n",
              "  }\n",
              "\n",
              "  .colab-df-quickchart:hover {\n",
              "    background-color: var(--hover-bg-color);\n",
              "    box-shadow: 0 1px 2px rgba(60, 64, 67, 0.3), 0 1px 3px 1px rgba(60, 64, 67, 0.15);\n",
              "    fill: var(--button-hover-fill-color);\n",
              "  }\n",
              "\n",
              "  .colab-df-quickchart-complete:disabled,\n",
              "  .colab-df-quickchart-complete:disabled:hover {\n",
              "    background-color: var(--disabled-bg-color);\n",
              "    fill: var(--disabled-fill-color);\n",
              "    box-shadow: none;\n",
              "  }\n",
              "\n",
              "  .colab-df-spinner {\n",
              "    border: 2px solid var(--fill-color);\n",
              "    border-color: transparent;\n",
              "    border-bottom-color: var(--fill-color);\n",
              "    animation:\n",
              "      spin 1s steps(1) infinite;\n",
              "  }\n",
              "\n",
              "  @keyframes spin {\n",
              "    0% {\n",
              "      border-color: transparent;\n",
              "      border-bottom-color: var(--fill-color);\n",
              "      border-left-color: var(--fill-color);\n",
              "    }\n",
              "    20% {\n",
              "      border-color: transparent;\n",
              "      border-left-color: var(--fill-color);\n",
              "      border-top-color: var(--fill-color);\n",
              "    }\n",
              "    30% {\n",
              "      border-color: transparent;\n",
              "      border-left-color: var(--fill-color);\n",
              "      border-top-color: var(--fill-color);\n",
              "      border-right-color: var(--fill-color);\n",
              "    }\n",
              "    40% {\n",
              "      border-color: transparent;\n",
              "      border-right-color: var(--fill-color);\n",
              "      border-top-color: var(--fill-color);\n",
              "    }\n",
              "    60% {\n",
              "      border-color: transparent;\n",
              "      border-right-color: var(--fill-color);\n",
              "    }\n",
              "    80% {\n",
              "      border-color: transparent;\n",
              "      border-right-color: var(--fill-color);\n",
              "      border-bottom-color: var(--fill-color);\n",
              "    }\n",
              "    90% {\n",
              "      border-color: transparent;\n",
              "      border-bottom-color: var(--fill-color);\n",
              "    }\n",
              "  }\n",
              "</style>\n",
              "\n",
              "  <script>\n",
              "    async function quickchart(key) {\n",
              "      const quickchartButtonEl =\n",
              "        document.querySelector('#' + key + ' button');\n",
              "      quickchartButtonEl.disabled = true;  // To prevent multiple clicks.\n",
              "      quickchartButtonEl.classList.add('colab-df-spinner');\n",
              "      try {\n",
              "        const charts = await google.colab.kernel.invokeFunction(\n",
              "            'suggestCharts', [key], {});\n",
              "      } catch (error) {\n",
              "        console.error('Error during call to suggestCharts:', error);\n",
              "      }\n",
              "      quickchartButtonEl.classList.remove('colab-df-spinner');\n",
              "      quickchartButtonEl.classList.add('colab-df-quickchart-complete');\n",
              "    }\n",
              "    (() => {\n",
              "      let quickchartButtonEl =\n",
              "        document.querySelector('#df-fe56c6fb-e929-4965-b459-b06627dc339f button');\n",
              "      quickchartButtonEl.style.display =\n",
              "        google.colab.kernel.accessAllowed ? 'block' : 'none';\n",
              "    })();\n",
              "  </script>\n",
              "</div>\n",
              "\n",
              "  <div id=\"id_94709138-029c-49c2-aafe-7cae67ccd1f2\">\n",
              "    <style>\n",
              "      .colab-df-generate {\n",
              "        background-color: #E8F0FE;\n",
              "        border: none;\n",
              "        border-radius: 50%;\n",
              "        cursor: pointer;\n",
              "        display: none;\n",
              "        fill: #1967D2;\n",
              "        height: 32px;\n",
              "        padding: 0 0 0 0;\n",
              "        width: 32px;\n",
              "      }\n",
              "\n",
              "      .colab-df-generate:hover {\n",
              "        background-color: #E2EBFA;\n",
              "        box-shadow: 0px 1px 2px rgba(60, 64, 67, 0.3), 0px 1px 3px 1px rgba(60, 64, 67, 0.15);\n",
              "        fill: #174EA6;\n",
              "      }\n",
              "\n",
              "      [theme=dark] .colab-df-generate {\n",
              "        background-color: #3B4455;\n",
              "        fill: #D2E3FC;\n",
              "      }\n",
              "\n",
              "      [theme=dark] .colab-df-generate:hover {\n",
              "        background-color: #434B5C;\n",
              "        box-shadow: 0px 1px 3px 1px rgba(0, 0, 0, 0.15);\n",
              "        filter: drop-shadow(0px 1px 2px rgba(0, 0, 0, 0.3));\n",
              "        fill: #FFFFFF;\n",
              "      }\n",
              "    </style>\n",
              "    <button class=\"colab-df-generate\" onclick=\"generateWithVariable('datos')\"\n",
              "            title=\"Generate code using this dataframe.\"\n",
              "            style=\"display:none;\">\n",
              "\n",
              "  <svg xmlns=\"http://www.w3.org/2000/svg\" height=\"24px\"viewBox=\"0 0 24 24\"\n",
              "       width=\"24px\">\n",
              "    <path d=\"M7,19H8.4L18.45,9,17,7.55,7,17.6ZM5,21V16.75L18.45,3.32a2,2,0,0,1,2.83,0l1.4,1.43a1.91,1.91,0,0,1,.58,1.4,1.91,1.91,0,0,1-.58,1.4L9.25,21ZM18.45,9,17,7.55Zm-12,3A5.31,5.31,0,0,0,4.9,8.1,5.31,5.31,0,0,0,1,6.5,5.31,5.31,0,0,0,4.9,4.9,5.31,5.31,0,0,0,6.5,1,5.31,5.31,0,0,0,8.1,4.9,5.31,5.31,0,0,0,12,6.5,5.46,5.46,0,0,0,6.5,12Z\"/>\n",
              "  </svg>\n",
              "    </button>\n",
              "    <script>\n",
              "      (() => {\n",
              "      const buttonEl =\n",
              "        document.querySelector('#id_94709138-029c-49c2-aafe-7cae67ccd1f2 button.colab-df-generate');\n",
              "      buttonEl.style.display =\n",
              "        google.colab.kernel.accessAllowed ? 'block' : 'none';\n",
              "\n",
              "      buttonEl.onclick = () => {\n",
              "        google.colab.notebook.generateWithVariable('datos');\n",
              "      }\n",
              "      })();\n",
              "    </script>\n",
              "  </div>\n",
              "\n",
              "    </div>\n",
              "  </div>\n"
            ],
            "application/vnd.google.colaboratory.intrinsic+json": {
              "type": "dataframe",
              "variable_name": "datos",
              "summary": "{\n  \"name\": \"datos\",\n  \"rows\": 1257,\n  \"fields\": [\n    {\n      \"column\": \"Date\",\n      \"properties\": {\n        \"dtype\": \"date\",\n        \"min\": \"2020-03-02 00:00:00\",\n        \"max\": \"2025-02-28 00:00:00\",\n        \"num_unique_values\": 1257,\n        \"samples\": [\n          \"2021-11-18 00:00:00\",\n          \"2020-07-24 00:00:00\",\n          \"2020-05-13 00:00:00\"\n        ],\n        \"semantic_type\": \"\",\n        \"description\": \"\"\n      }\n    },\n    {\n      \"column\": \"DELL\",\n      \"properties\": {\n        \"dtype\": \"number\",\n        \"std\": 33.898107650881066,\n        \"min\": 13.603462219238281,\n        \"max\": 177.24819946289062,\n        \"num_unique_values\": 1227,\n        \"samples\": [\n          131.0000762939453,\n          46.968936920166016,\n          139.17955017089844\n        ],\n        \"semantic_type\": \"\",\n        \"description\": \"\"\n      }\n    },\n    {\n      \"column\": \"KOF\",\n      \"properties\": {\n        \"dtype\": \"number\",\n        \"std\": 20.477226363016516,\n        \"min\": 30.628637313842773,\n        \"max\": 99.56181335449219,\n        \"num_unique_values\": 1192,\n        \"samples\": [\n          90.30477142333984,\n          39.34004592895508,\n          41.69110870361328\n        ],\n        \"semantic_type\": \"\",\n        \"description\": \"\"\n      }\n    }\n  ]\n}"
            }
          },
          "metadata": {},
          "execution_count": 32
        }
      ]
    },
    {
      "cell_type": "markdown",
      "source": [
        "## Calculamos los rendimientos"
      ],
      "metadata": {
        "id": "ZN9035d3ww6i"
      }
    },
    {
      "cell_type": "code",
      "source": [
        "rend = (datos.values[1:]-datos.values[0:-1])/datos.values[1:]\n",
        "\n",
        "plt.plot(range(rend.shape[0]),rend[:,0],'r')\n",
        "plt.show()\n",
        "\n",
        "plt.plot(range(rend.shape[0]),rend[:,1],'b')\n",
        "plt.show()"
      ],
      "metadata": {
        "colab": {
          "base_uri": "https://localhost:8080/",
          "height": 843
        },
        "id": "LL9Xcxn3wnMd",
        "outputId": "f2e94c7a-8e24-43d8-b921-b77f2e577c28"
      },
      "execution_count": 33,
      "outputs": [
        {
          "output_type": "display_data",
          "data": {
            "text/plain": [
              "<Figure size 640x480 with 1 Axes>"
            ],
            "image/png": "[encoded data removed]"
          },
          "metadata": {}
        },
        {
          "output_type": "display_data",
          "data": {
            "text/plain": [
              "<Figure size 640x480 with 1 Axes>"
            ],
            "image/png": "[encoded data removed]"
          },
          "metadata": {}
        }
      ]
    },
    {
      "cell_type": "code",
      "source": [
        "r = rend.mean(axis=0)\n",
        "r"
      ],
      "metadata": {
        "colab": {
          "base_uri": "https://localhost:8080/"
        },
        "id": "UJlE7VgKw09a",
        "outputId": "4265e453-f064-4b4c-f02e-4ce1d6547de6"
      },
      "execution_count": 34,
      "outputs": [
        {
          "output_type": "execute_result",
          "data": {
            "text/plain": [
              "array([0.00090675, 0.00038424])"
            ]
          },
          "metadata": {},
          "execution_count": 34
        }
      ]
    },
    {
      "cell_type": "code",
      "source": [
        "Cov = np.cov(rend, rowvar=False)\n",
        "Cov"
      ],
      "metadata": {
        "colab": {
          "base_uri": "https://localhost:8080/"
        },
        "id": "rfX51ID-yIJm",
        "outputId": "31ec3335-a7e6-4d8b-eb4f-177325407472"
      },
      "execution_count": 35,
      "outputs": [
        {
          "output_type": "execute_result",
          "data": {
            "text/plain": [
              "array([[0.00076567, 0.00012937],\n",
              "       [0.00012937, 0.0002965 ]])"
            ]
          },
          "metadata": {},
          "execution_count": 35
        }
      ]
    },
    {
      "cell_type": "markdown",
      "source": [
        "## Uso de Pymoo"
      ],
      "metadata": {
        "id": "c_2WBYRuzCER"
      }
    },
    {
      "cell_type": "markdown",
      "source": [
        "Primero, hay que instalar Pymoo"
      ],
      "metadata": {
        "id": "99cq9X1TzRLU"
      }
    },
    {
      "cell_type": "code",
      "source": [
        "!pip install -U pymoo"
      ],
      "metadata": {
        "colab": {
          "base_uri": "https://localhost:8080/"
        },
        "id": "pBybIgLzzUGZ",
        "outputId": "6981ab82-9582-42a8-fdb1-877ec5841f20"
      },
      "execution_count": 36,
      "outputs": [
        {
          "output_type": "stream",
          "name": "stdout",
          "text": [
            "Requirement already satisfied: pymoo in /usr/local/lib/python3.11/dist-packages (0.6.1.3)\n",
            "Requirement already satisfied: numpy>=1.15 in /usr/local/lib/python3.11/dist-packages (from pymoo) (1.26.4)\n",
            "Requirement already satisfied: scipy>=1.1 in /usr/local/lib/python3.11/dist-packages (from pymoo) (1.13.1)\n",
            "Requirement already satisfied: matplotlib>=3 in /usr/local/lib/python3.11/dist-packages (from pymoo) (3.10.0)\n",
            "Requirement already satisfied: autograd>=1.4 in /usr/local/lib/python3.11/dist-packages (from pymoo) (1.7.0)\n",
            "Requirement already satisfied: cma==3.2.2 in /usr/local/lib/python3.11/dist-packages (from pymoo) (3.2.2)\n",
            "Requirement already satisfied: alive-progress in /usr/local/lib/python3.11/dist-packages (from pymoo) (3.2.0)\n",
            "Requirement already satisfied: dill in /usr/local/lib/python3.11/dist-packages (from pymoo) (0.3.9)\n",
            "Requirement already satisfied: Deprecated in /usr/local/lib/python3.11/dist-packages (from pymoo) (1.2.18)\n",
            "Requirement already satisfied: contourpy>=1.0.1 in /usr/local/lib/python3.11/dist-packages (from matplotlib>=3->pymoo) (1.3.1)\n",
            "Requirement already satisfied: cycler>=0.10 in /usr/local/lib/python3.11/dist-packages (from matplotlib>=3->pymoo) (0.12.1)\n",
            "Requirement already satisfied: fonttools>=4.22.0 in /usr/local/lib/python3.11/dist-packages (from matplotlib>=3->pymoo) (4.56.0)\n",
            "Requirement already satisfied: kiwisolver>=1.3.1 in /usr/local/lib/python3.11/dist-packages (from matplotlib>=3->pymoo) (1.4.8)\n",
            "Requirement already satisfied: packaging>=20.0 in /usr/local/lib/python3.11/dist-packages (from matplotlib>=3->pymoo) (24.2)\n",
            "Requirement already satisfied: pillow>=8 in /usr/local/lib/python3.11/dist-packages (from matplotlib>=3->pymoo) (11.1.0)\n",
            "Requirement already satisfied: pyparsing>=2.3.1 in /usr/local/lib/python3.11/dist-packages (from matplotlib>=3->pymoo) (3.2.1)\n",
            "Requirement already satisfied: python-dateutil>=2.7 in /usr/local/lib/python3.11/dist-packages (from matplotlib>=3->pymoo) (2.8.2)\n",
            "Requirement already satisfied: about-time==4.2.1 in /usr/local/lib/python3.11/dist-packages (from alive-progress->pymoo) (4.2.1)\n",
            "Requirement already satisfied: grapheme==0.6.0 in /usr/local/lib/python3.11/dist-packages (from alive-progress->pymoo) (0.6.0)\n",
            "Requirement already satisfied: wrapt<2,>=1.10 in /usr/local/lib/python3.11/dist-packages (from Deprecated->pymoo) (1.17.2)\n",
            "Requirement already satisfied: six>=1.5 in /usr/local/lib/python3.11/dist-packages (from python-dateutil>=2.7->matplotlib>=3->pymoo) (1.17.0)\n"
          ]
        }
      ]
    },
    {
      "cell_type": "code",
      "source": [
        "from pymoo.algorithms.moo.nsga2 import NSGA2\n",
        "from pymoo.core.problem import Problem\n",
        "from pymoo.optimize import minimize\n",
        "from pymoo.visualization.scatter import Scatter\n",
        "\n",
        "class Portafolio(Problem):   # nombre que le queremos dar (Nombre de lo que es)\n",
        "  def __init__(self, mu, cov):\n",
        "    self.mu = mu\n",
        "    self.cov = cov\n",
        "    super().__init__(n_var=2, n_obj=2, n_ieq_constr=1, xl=0.0, xu=1.0)\n",
        "                    # tenemos 2 activos\n",
        "                    #          2 objetivos, minimizatr y maximizar\n",
        "                    #                  restriccion es que la suma de pesos sea igual a 1\n",
        "                    #                                   los pesos estan entre 0 y 1\n",
        "\n",
        "  def _evaluate(self, x, out, *args, **kwargs):\n",
        "    rendimiento = x @ self.mu\n",
        "    riesgo = np.zeros(x.shape[0])\n",
        "    for (i,w) in enumerate(x):\n",
        "      riesgo[i] = np.sqrt(w @ self.cov @ w.T)\n",
        "\n",
        "    out[\"F\"] = [riesgo, -rendimiento]\n",
        "    out[\"G\"] = np.abs( np.sum(x, axis=1) - 1.0 ) - 0.1\n",
        "\n",
        "problem = Portafolio(r,Cov)\n",
        "\n",
        "algorithm = NSGA2(pop_size=50)   # poblacion de 50\n",
        "\n",
        "res = minimize(problem,\n",
        "               algorithm,\n",
        "               ('n_gen', 200),\n",
        "               seed=1,\n",
        "               verbose=True)\n",
        "\n",
        "\n",
        "X, F = res.opt.get(\"X\", \"F\")\n",
        "F = F * [1, -1]\n",
        "\n",
        "plt.scatter(F[:, 0], F[:, 1], facecolor=\"none\", edgecolors=\"blue\", alpha=0.5, label=\"Portafolios óptimos\")\n",
        "plt.scatter(Cov.diagonal() ** 0.5, r, facecolor=\"none\", edgecolors=\"black\", s=30, label=\"Activo\")\n",
        "#plt.legend(loc='best')\n",
        "plt.legend(loc=7)\n",
        "plt.xlabel(\"volatilidad\")\n",
        "plt.ylabel(\"rendimiento\")\n",
        "plt.show()"
      ],
      "metadata": {
        "colab": {
          "base_uri": "https://localhost:8080/",
          "height": 1000
        },
        "id": "wIg18XdmzEMw",
        "outputId": "e632d777-e0d2-4925-b10b-10069deb5d0e"
      },
      "execution_count": 37,
      "outputs": [
        {
          "output_type": "stream",
          "name": "stdout",
          "text": [
            "==========================================================================================\n",
            "n_gen  |  n_eval  | n_nds  |     cv_min    |     cv_avg    |      eps      |   indicator  \n",
            "==========================================================================================\n",
            "     1 |       50 |      7 |  0.000000E+00 |  0.2551687336 |             - |             -\n",
            "     2 |      100 |     15 |  0.000000E+00 |  0.0366190309 |  0.0302876160 |         ideal\n",
            "     3 |      150 |     25 |  0.000000E+00 |  0.000000E+00 |  0.0871517200 |         ideal\n",
            "     4 |      200 |     33 |  0.000000E+00 |  0.000000E+00 |  0.0613927949 |         ideal\n",
            "     5 |      250 |     43 |  0.000000E+00 |  0.000000E+00 |  0.0049538976 |             f\n",
            "     6 |      300 |     50 |  0.000000E+00 |  0.000000E+00 |  0.0054842822 |             f\n",
            "     7 |      350 |     50 |  0.000000E+00 |  0.000000E+00 |  0.0053777762 |         ideal\n",
            "     8 |      400 |     50 |  0.000000E+00 |  0.000000E+00 |  0.0034348486 |             f\n",
            "     9 |      450 |     50 |  0.000000E+00 |  0.000000E+00 |  0.0033511339 |         ideal\n",
            "    10 |      500 |     50 |  0.000000E+00 |  0.000000E+00 |  0.0023709972 |             f\n",
            "    11 |      550 |     50 |  0.000000E+00 |  0.000000E+00 |  0.0039659610 |             f\n",
            "    12 |      600 |     50 |  0.000000E+00 |  0.000000E+00 |  0.0023719139 |             f\n",
            "    13 |      650 |     50 |  0.000000E+00 |  0.000000E+00 |  0.0069412908 |         ideal\n",
            "    14 |      700 |     50 |  0.000000E+00 |  0.000000E+00 |  0.0069846642 |         ideal\n",
            "    15 |      750 |     50 |  0.000000E+00 |  0.000000E+00 |  0.0010169674 |             f\n",
            "    16 |      800 |     50 |  0.000000E+00 |  0.000000E+00 |  0.0032833975 |             f\n",
            "    17 |      850 |     50 |  0.000000E+00 |  0.000000E+00 |  0.0016232882 |             f\n",
            "    18 |      900 |     50 |  0.000000E+00 |  0.000000E+00 |  0.0035516948 |             f\n",
            "    19 |      950 |     50 |  0.000000E+00 |  0.000000E+00 |  0.0015169132 |             f\n",
            "    20 |     1000 |     50 |  0.000000E+00 |  0.000000E+00 |  0.0027548407 |             f\n",
            "    21 |     1050 |     50 |  0.000000E+00 |  0.000000E+00 |  0.0031200375 |             f\n",
            "    22 |     1100 |     50 |  0.000000E+00 |  0.000000E+00 |  0.0025412852 |         ideal\n",
            "    23 |     1150 |     50 |  0.000000E+00 |  0.000000E+00 |  0.0019901284 |             f\n",
            "    24 |     1200 |     50 |  0.000000E+00 |  0.000000E+00 |  0.0033115347 |             f\n",
            "    25 |     1250 |     50 |  0.000000E+00 |  0.000000E+00 |  0.0017704141 |             f\n",
            "    26 |     1300 |     50 |  0.000000E+00 |  0.000000E+00 |  0.0025483430 |             f\n",
            "    27 |     1350 |     50 |  0.000000E+00 |  0.000000E+00 |  0.0027007601 |             f\n",
            "    28 |     1400 |     50 |  0.000000E+00 |  0.000000E+00 |  0.0017720145 |             f\n",
            "    29 |     1450 |     50 |  0.000000E+00 |  0.000000E+00 |  0.0049393415 |             f\n",
            "    30 |     1500 |     50 |  0.000000E+00 |  0.000000E+00 |  0.0021581451 |             f\n",
            "    31 |     1550 |     50 |  0.000000E+00 |  0.000000E+00 |  0.0032580619 |             f\n",
            "    32 |     1600 |     50 |  0.000000E+00 |  0.000000E+00 |  0.0008100784 |             f\n",
            "    33 |     1650 |     50 |  0.000000E+00 |  0.000000E+00 |  0.0025301576 |             f\n",
            "    34 |     1700 |     50 |  0.000000E+00 |  0.000000E+00 |  0.0020701201 |             f\n",
            "    35 |     1750 |     50 |  0.000000E+00 |  0.000000E+00 |  0.0032340101 |             f\n",
            "    36 |     1800 |     50 |  0.000000E+00 |  0.000000E+00 |  0.0033994464 |             f\n",
            "    37 |     1850 |     50 |  0.000000E+00 |  0.000000E+00 |  0.0024335599 |             f\n",
            "    38 |     1900 |     50 |  0.000000E+00 |  0.000000E+00 |  0.0031859095 |             f\n",
            "    39 |     1950 |     50 |  0.000000E+00 |  0.000000E+00 |  0.0013464453 |             f\n",
            "    40 |     2000 |     50 |  0.000000E+00 |  0.000000E+00 |  0.0027245854 |             f\n",
            "    41 |     2050 |     50 |  0.000000E+00 |  0.000000E+00 |  0.0021119857 |             f\n",
            "    42 |     2100 |     50 |  0.000000E+00 |  0.000000E+00 |  0.0031496505 |             f\n",
            "    43 |     2150 |     50 |  0.000000E+00 |  0.000000E+00 |  0.0018599802 |             f\n",
            "    44 |     2200 |     50 |  0.000000E+00 |  0.000000E+00 |  0.0030579334 |             f\n",
            "    45 |     2250 |     50 |  0.000000E+00 |  0.000000E+00 |  0.0032281730 |             f\n",
            "    46 |     2300 |     50 |  0.000000E+00 |  0.000000E+00 |  0.0014917788 |             f\n",
            "    47 |     2350 |     50 |  0.000000E+00 |  0.000000E+00 |  0.0030872978 |             f\n",
            "    48 |     2400 |     50 |  0.000000E+00 |  0.000000E+00 |  0.0019928462 |             f\n",
            "    49 |     2450 |     50 |  0.000000E+00 |  0.000000E+00 |  0.0027586271 |             f\n",
            "    50 |     2500 |     50 |  0.000000E+00 |  0.000000E+00 |  0.0013883222 |             f\n",
            "    51 |     2550 |     50 |  0.000000E+00 |  0.000000E+00 |  0.0037993562 |             f\n",
            "    52 |     2600 |     50 |  0.000000E+00 |  0.000000E+00 |  0.0016186322 |             f\n",
            "    53 |     2650 |     50 |  0.000000E+00 |  0.000000E+00 |  0.0033471967 |             f\n",
            "    54 |     2700 |     50 |  0.000000E+00 |  0.000000E+00 |  0.0020940739 |             f\n",
            "    55 |     2750 |     50 |  0.000000E+00 |  0.000000E+00 |  0.0038042780 |             f\n",
            "    56 |     2800 |     50 |  0.000000E+00 |  0.000000E+00 |  0.0017182853 |             f\n",
            "    57 |     2850 |     50 |  0.000000E+00 |  0.000000E+00 |  0.0030557214 |             f\n",
            "    58 |     2900 |     50 |  0.000000E+00 |  0.000000E+00 |  0.0019474767 |             f\n",
            "    59 |     2950 |     50 |  0.000000E+00 |  0.000000E+00 |  0.0038481496 |             f\n",
            "    60 |     3000 |     50 |  0.000000E+00 |  0.000000E+00 |  0.0009689584 |             f\n",
            "    61 |     3050 |     50 |  0.000000E+00 |  0.000000E+00 |  0.0026844874 |             f\n",
            "    62 |     3100 |     50 |  0.000000E+00 |  0.000000E+00 |  0.0027115488 |             f\n",
            "    63 |     3150 |     50 |  0.000000E+00 |  0.000000E+00 |  0.0019272518 |             f\n",
            "    64 |     3200 |     50 |  0.000000E+00 |  0.000000E+00 |  0.0038296759 |             f\n",
            "    65 |     3250 |     50 |  0.000000E+00 |  0.000000E+00 |  0.0021306439 |             f\n",
            "    66 |     3300 |     50 |  0.000000E+00 |  0.000000E+00 |  0.0038841681 |             f\n",
            "    67 |     3350 |     50 |  0.000000E+00 |  0.000000E+00 |  0.0008660117 |             f\n",
            "    68 |     3400 |     50 |  0.000000E+00 |  0.000000E+00 |  0.0024239721 |             f\n",
            "    69 |     3450 |     50 |  0.000000E+00 |  0.000000E+00 |  0.0032350344 |             f\n",
            "    70 |     3500 |     50 |  0.000000E+00 |  0.000000E+00 |  0.0018884431 |             f\n",
            "    71 |     3550 |     50 |  0.000000E+00 |  0.000000E+00 |  0.0023973631 |             f\n",
            "    72 |     3600 |     50 |  0.000000E+00 |  0.000000E+00 |  0.0033036557 |             f\n",
            "    73 |     3650 |     50 |  0.000000E+00 |  0.000000E+00 |  0.0019419229 |             f\n",
            "    74 |     3700 |     50 |  0.000000E+00 |  0.000000E+00 |  0.0025597354 |             f\n",
            "    75 |     3750 |     50 |  0.000000E+00 |  0.000000E+00 |  0.0019400664 |             f\n",
            "    76 |     3800 |     50 |  0.000000E+00 |  0.000000E+00 |  0.0043229503 |             f\n",
            "    77 |     3850 |     50 |  0.000000E+00 |  0.000000E+00 |  0.0009222609 |             f\n",
            "    78 |     3900 |     50 |  0.000000E+00 |  0.000000E+00 |  0.0040358840 |             f\n",
            "    79 |     3950 |     50 |  0.000000E+00 |  0.000000E+00 |  0.0014949152 |             f\n",
            "    80 |     4000 |     50 |  0.000000E+00 |  0.000000E+00 |  0.0022831836 |             f\n",
            "    81 |     4050 |     50 |  0.000000E+00 |  0.000000E+00 |  0.0032106611 |             f\n",
            "    82 |     4100 |     50 |  0.000000E+00 |  0.000000E+00 |  0.0024475811 |             f\n",
            "    83 |     4150 |     50 |  0.000000E+00 |  0.000000E+00 |  0.0030254742 |             f\n",
            "    84 |     4200 |     50 |  0.000000E+00 |  0.000000E+00 |  0.0019366422 |             f\n",
            "    85 |     4250 |     50 |  0.000000E+00 |  0.000000E+00 |  0.0041233943 |             f\n",
            "    86 |     4300 |     50 |  0.000000E+00 |  0.000000E+00 |  0.0015745169 |             f\n",
            "    87 |     4350 |     50 |  0.000000E+00 |  0.000000E+00 |  0.0027638481 |             f\n",
            "    88 |     4400 |     50 |  0.000000E+00 |  0.000000E+00 |  0.0021529370 |             f\n",
            "    89 |     4450 |     50 |  0.000000E+00 |  0.000000E+00 |  0.0044154039 |             f\n",
            "    90 |     4500 |     50 |  0.000000E+00 |  0.000000E+00 |  0.0026487312 |             f\n",
            "    91 |     4550 |     50 |  0.000000E+00 |  0.000000E+00 |  0.0017069633 |             f\n",
            "    92 |     4600 |     50 |  0.000000E+00 |  0.000000E+00 |  0.0020682457 |             f\n",
            "    93 |     4650 |     50 |  0.000000E+00 |  0.000000E+00 |  0.0034386524 |             f\n",
            "    94 |     4700 |     50 |  0.000000E+00 |  0.000000E+00 |  0.0024608163 |             f\n",
            "    95 |     4750 |     50 |  0.000000E+00 |  0.000000E+00 |  0.0040183753 |             f\n",
            "    96 |     4800 |     50 |  0.000000E+00 |  0.000000E+00 |  0.0024909309 |             f\n",
            "    97 |     4850 |     50 |  0.000000E+00 |  0.000000E+00 |  0.0040507339 |             f\n",
            "    98 |     4900 |     50 |  0.000000E+00 |  0.000000E+00 |  0.0021625465 |             f\n",
            "    99 |     4950 |     50 |  0.000000E+00 |  0.000000E+00 |  0.0031516806 |             f\n",
            "   100 |     5000 |     50 |  0.000000E+00 |  0.000000E+00 |  0.0022415751 |             f\n",
            "   101 |     5050 |     50 |  0.000000E+00 |  0.000000E+00 |  0.0037436972 |             f\n",
            "   102 |     5100 |     50 |  0.000000E+00 |  0.000000E+00 |  0.0013613520 |             f\n",
            "   103 |     5150 |     50 |  0.000000E+00 |  0.000000E+00 |  0.0027241835 |             f\n",
            "   104 |     5200 |     50 |  0.000000E+00 |  0.000000E+00 |  0.0027320973 |             f\n",
            "   105 |     5250 |     50 |  0.000000E+00 |  0.000000E+00 |  0.0016430315 |             f\n",
            "   106 |     5300 |     50 |  0.000000E+00 |  0.000000E+00 |  0.0036760511 |             f\n",
            "   107 |     5350 |     50 |  0.000000E+00 |  0.000000E+00 |  0.0021096761 |             f\n",
            "   108 |     5400 |     50 |  0.000000E+00 |  0.000000E+00 |  0.0037726835 |             f\n",
            "   109 |     5450 |     50 |  0.000000E+00 |  0.000000E+00 |  0.0015856373 |             f\n",
            "   110 |     5500 |     50 |  0.000000E+00 |  0.000000E+00 |  0.0025759122 |             f\n",
            "   111 |     5550 |     50 |  0.000000E+00 |  0.000000E+00 |  0.0020162799 |             f\n",
            "   112 |     5600 |     50 |  0.000000E+00 |  0.000000E+00 |  0.0023550337 |             f\n",
            "   113 |     5650 |     50 |  0.000000E+00 |  0.000000E+00 |  0.0046317150 |             f\n",
            "   114 |     5700 |     50 |  0.000000E+00 |  0.000000E+00 |  0.0013389224 |             f\n",
            "   115 |     5750 |     50 |  0.000000E+00 |  0.000000E+00 |  0.0034558256 |             f\n",
            "   116 |     5800 |     50 |  0.000000E+00 |  0.000000E+00 |  0.0016192525 |             f\n",
            "   117 |     5850 |     50 |  0.000000E+00 |  0.000000E+00 |  0.0039647546 |             f\n",
            "   118 |     5900 |     50 |  0.000000E+00 |  0.000000E+00 |  0.0009000225 |             f\n",
            "   119 |     5950 |     50 |  0.000000E+00 |  0.000000E+00 |  0.0033792297 |             f\n",
            "   120 |     6000 |     50 |  0.000000E+00 |  0.000000E+00 |  0.0011394467 |             f\n",
            "   121 |     6050 |     50 |  0.000000E+00 |  0.000000E+00 |  0.0020350485 |             f\n",
            "   122 |     6100 |     50 |  0.000000E+00 |  0.000000E+00 |  0.0033622715 |             f\n",
            "   123 |     6150 |     50 |  0.000000E+00 |  0.000000E+00 |  0.0015130293 |             f\n",
            "   124 |     6200 |     50 |  0.000000E+00 |  0.000000E+00 |  0.0035711238 |             f\n",
            "   125 |     6250 |     50 |  0.000000E+00 |  0.000000E+00 |  0.0032983281 |             f\n",
            "   126 |     6300 |     50 |  0.000000E+00 |  0.000000E+00 |  0.0018606049 |             f\n",
            "   127 |     6350 |     50 |  0.000000E+00 |  0.000000E+00 |  0.0025461319 |             f\n",
            "   128 |     6400 |     50 |  0.000000E+00 |  0.000000E+00 |  0.0014073348 |             f\n",
            "   129 |     6450 |     50 |  0.000000E+00 |  0.000000E+00 |  0.0025998442 |             f\n",
            "   130 |     6500 |     50 |  0.000000E+00 |  0.000000E+00 |  0.0021692220 |             f\n",
            "   131 |     6550 |     50 |  0.000000E+00 |  0.000000E+00 |  0.0029573747 |             f\n",
            "   132 |     6600 |     50 |  0.000000E+00 |  0.000000E+00 |  0.0027600617 |             f\n",
            "   133 |     6650 |     50 |  0.000000E+00 |  0.000000E+00 |  0.0024229647 |             f\n",
            "   134 |     6700 |     50 |  0.000000E+00 |  0.000000E+00 |  0.0042161739 |             f\n",
            "   135 |     6750 |     50 |  0.000000E+00 |  0.000000E+00 |  0.0017803649 |             f\n",
            "   136 |     6800 |     50 |  0.000000E+00 |  0.000000E+00 |  0.0023043868 |             f\n",
            "   137 |     6850 |     50 |  0.000000E+00 |  0.000000E+00 |  0.0036872356 |             f\n",
            "   138 |     6900 |     50 |  0.000000E+00 |  0.000000E+00 |  0.0012429177 |             f\n",
            "   139 |     6950 |     50 |  0.000000E+00 |  0.000000E+00 |  0.0019479201 |             f\n",
            "   140 |     7000 |     50 |  0.000000E+00 |  0.000000E+00 |  0.0026103109 |             f\n",
            "   141 |     7050 |     50 |  0.000000E+00 |  0.000000E+00 |  0.0015220901 |             f\n",
            "   142 |     7100 |     50 |  0.000000E+00 |  0.000000E+00 |  0.0036739681 |             f\n",
            "   143 |     7150 |     50 |  0.000000E+00 |  0.000000E+00 |  0.0034297862 |             f\n",
            "   144 |     7200 |     50 |  0.000000E+00 |  0.000000E+00 |  0.0016010241 |             f\n",
            "   145 |     7250 |     50 |  0.000000E+00 |  0.000000E+00 |  0.0020685136 |             f\n",
            "   146 |     7300 |     50 |  0.000000E+00 |  0.000000E+00 |  0.0027772095 |             f\n",
            "   147 |     7350 |     50 |  0.000000E+00 |  0.000000E+00 |  0.0013955298 |             f\n",
            "   148 |     7400 |     50 |  0.000000E+00 |  0.000000E+00 |  0.0025788453 |             f\n",
            "   149 |     7450 |     50 |  0.000000E+00 |  0.000000E+00 |  0.0015149139 |             f\n",
            "   150 |     7500 |     50 |  0.000000E+00 |  0.000000E+00 |  0.0029702818 |             f\n",
            "   151 |     7550 |     50 |  0.000000E+00 |  0.000000E+00 |  0.0023423514 |             f\n",
            "   152 |     7600 |     50 |  0.000000E+00 |  0.000000E+00 |  0.0031175972 |             f\n",
            "   153 |     7650 |     50 |  0.000000E+00 |  0.000000E+00 |  0.0016360223 |             f\n",
            "   154 |     7700 |     50 |  0.000000E+00 |  0.000000E+00 |  0.0029248694 |             f\n",
            "   155 |     7750 |     50 |  0.000000E+00 |  0.000000E+00 |  0.0020361082 |             f\n",
            "   156 |     7800 |     50 |  0.000000E+00 |  0.000000E+00 |  0.0033131884 |             f\n",
            "   157 |     7850 |     50 |  0.000000E+00 |  0.000000E+00 |  0.0014288412 |             f\n",
            "   158 |     7900 |     50 |  0.000000E+00 |  0.000000E+00 |  0.0018134391 |             f\n",
            "   159 |     7950 |     50 |  0.000000E+00 |  0.000000E+00 |  0.0032785900 |             f\n",
            "   160 |     8000 |     50 |  0.000000E+00 |  0.000000E+00 |  0.0026942467 |             f\n",
            "   161 |     8050 |     50 |  0.000000E+00 |  0.000000E+00 |  0.0016801974 |             f\n",
            "   162 |     8100 |     50 |  0.000000E+00 |  0.000000E+00 |  0.0032946499 |             f\n",
            "   163 |     8150 |     50 |  0.000000E+00 |  0.000000E+00 |  0.0012951274 |             f\n",
            "   164 |     8200 |     50 |  0.000000E+00 |  0.000000E+00 |  0.0027144745 |             f\n",
            "   165 |     8250 |     50 |  0.000000E+00 |  0.000000E+00 |  0.0019808051 |             f\n",
            "   166 |     8300 |     50 |  0.000000E+00 |  0.000000E+00 |  0.0036211378 |             f\n",
            "   167 |     8350 |     50 |  0.000000E+00 |  0.000000E+00 |  0.0013918272 |             f\n",
            "   168 |     8400 |     50 |  0.000000E+00 |  0.000000E+00 |  0.0040302921 |             f\n",
            "   169 |     8450 |     50 |  0.000000E+00 |  0.000000E+00 |  0.0016144385 |             f\n",
            "   170 |     8500 |     50 |  0.000000E+00 |  0.000000E+00 |  0.0033398650 |             f\n",
            "   171 |     8550 |     50 |  0.000000E+00 |  0.000000E+00 |  0.0024165363 |             f\n",
            "   172 |     8600 |     50 |  0.000000E+00 |  0.000000E+00 |  0.0030189375 |             f\n",
            "   173 |     8650 |     50 |  0.000000E+00 |  0.000000E+00 |  0.0011370158 |             f\n",
            "   174 |     8700 |     50 |  0.000000E+00 |  0.000000E+00 |  0.0191472492 |         nadir\n",
            "   175 |     8750 |     50 |  0.000000E+00 |  0.000000E+00 |  0.0012550375 |             f\n",
            "   176 |     8800 |     50 |  0.000000E+00 |  0.000000E+00 |  0.0028592979 |             f\n",
            "   177 |     8850 |     50 |  0.000000E+00 |  0.000000E+00 |  0.0023046882 |             f\n",
            "   178 |     8900 |     50 |  0.000000E+00 |  0.000000E+00 |  0.0038295117 |             f\n",
            "   179 |     8950 |     50 |  0.000000E+00 |  0.000000E+00 |  0.0025809990 |             f\n",
            "   180 |     9000 |     50 |  0.000000E+00 |  0.000000E+00 |  0.0015619939 |             f\n",
            "   181 |     9050 |     50 |  0.000000E+00 |  0.000000E+00 |  0.0040130081 |             f\n",
            "   182 |     9100 |     50 |  0.000000E+00 |  0.000000E+00 |  0.0015260375 |             f\n",
            "   183 |     9150 |     50 |  0.000000E+00 |  0.000000E+00 |  0.0034520602 |             f\n",
            "   184 |     9200 |     50 |  0.000000E+00 |  0.000000E+00 |  0.0014178820 |             f\n",
            "   185 |     9250 |     50 |  0.000000E+00 |  0.000000E+00 |  0.0028633765 |             f\n",
            "   186 |     9300 |     50 |  0.000000E+00 |  0.000000E+00 |  0.0022180596 |             f\n",
            "   187 |     9350 |     50 |  0.000000E+00 |  0.000000E+00 |  0.0041874149 |             f\n",
            "   188 |     9400 |     50 |  0.000000E+00 |  0.000000E+00 |  0.0014941802 |             f\n",
            "   189 |     9450 |     50 |  0.000000E+00 |  0.000000E+00 |  0.0026199718 |             f\n",
            "   190 |     9500 |     50 |  0.000000E+00 |  0.000000E+00 |  0.0028736182 |             f\n",
            "   191 |     9550 |     50 |  0.000000E+00 |  0.000000E+00 |  0.0025732256 |             f\n",
            "   192 |     9600 |     50 |  0.000000E+00 |  0.000000E+00 |  0.0015433707 |             f\n",
            "   193 |     9650 |     50 |  0.000000E+00 |  0.000000E+00 |  0.0033411953 |             f\n",
            "   194 |     9700 |     50 |  0.000000E+00 |  0.000000E+00 |  0.0024563384 |             f\n",
            "   195 |     9750 |     50 |  0.000000E+00 |  0.000000E+00 |  0.0043923607 |             f\n",
            "   196 |     9800 |     50 |  0.000000E+00 |  0.000000E+00 |  0.0019366987 |             f\n",
            "   197 |     9850 |     50 |  0.000000E+00 |  0.000000E+00 |  0.0024267209 |             f\n",
            "   198 |     9900 |     50 |  0.000000E+00 |  0.000000E+00 |  0.0037787076 |             f\n",
            "   199 |     9950 |     50 |  0.000000E+00 |  0.000000E+00 |  0.0013436245 |             f\n",
            "   200 |    10000 |     50 |  0.000000E+00 |  0.000000E+00 |  0.0042602698 |             f\n"
          ]
        },
        {
          "output_type": "display_data",
          "data": {
            "text/plain": [
              "<Figure size 640x480 with 1 Axes>"
            ],
            "image/png": "[encoded data removed]"
          },
          "metadata": {}
        }
      ]
    },
    {
      "cell_type": "code",
      "source": [
        "np.sum( res.X, axis=1 )"
      ],
      "metadata": {
        "colab": {
          "base_uri": "https://localhost:8080/"
        },
        "id": "0IKTG4N29U7O",
        "outputId": "1bfb3d9c-7fdb-4696-8d75-e947c71ff280"
      },
      "execution_count": 38,
      "outputs": [
        {
          "output_type": "execute_result",
          "data": {
            "text/plain": [
              "array([0.90009912, 1.09997595, 1.06825622, 1.08680413, 1.08064035,\n",
              "       1.04748171, 1.06406132, 1.09242959, 0.93396128, 0.91607565,\n",
              "       0.90128734, 0.96179586, 1.09137155, 1.02369324, 0.9962801 ,\n",
              "       0.97637832, 0.90357684, 0.90429758, 1.09310305, 0.91117707,\n",
              "       1.0879255 , 1.08696022, 1.04512076, 0.90976385, 0.92413346,\n",
              "       1.07303391, 1.0786819 , 0.92239089, 1.05474515, 0.94658063,\n",
              "       1.07300131, 1.06643912, 1.08972525, 0.9707543 , 1.06777081,\n",
              "       1.05781518, 1.04724472, 0.91068721, 1.0883156 , 0.92511032,\n",
              "       1.07964231, 1.01845607, 1.03355578, 1.08249796, 0.99787991,\n",
              "       1.05447591, 1.08485413, 0.91157076, 1.06839977, 1.04537437])"
            ]
          },
          "metadata": {},
          "execution_count": 38
        }
      ]
    },
    {
      "cell_type": "markdown",
      "source": [
        "[Posición de la etiqueta](https://matplotlib.org/stable/api/_as_gen/matplotlib.pyplot.legend.html)"
      ],
      "metadata": {
        "id": "YygDYbVCAvHi"
      }
    },
    {
      "cell_type": "code",
      "source": [],
      "metadata": {
        "id": "BIYP-WV1_LAv"
      },
      "execution_count": 38,
      "outputs": []
    }
  ]
}