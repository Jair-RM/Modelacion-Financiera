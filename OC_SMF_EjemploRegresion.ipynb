{
  "nbformat": 4,
  "nbformat_minor": 0,
  "metadata": {
    "kernelspec": {
      "display_name": "Python 3",
      "language": "python",
      "name": "python3"
    },
    "language_info": {
      "codemirror_mode": {
        "name": "ipython",
        "version": 3
      },
      "file_extension": ".py",
      "mimetype": "text/x-python",
      "name": "python",
      "nbconvert_exporter": "python",
      "pygments_lexer": "ipython3",
      "version": "3.8.5"
    },
    "colab": {
      "provenance": [],
      "include_colab_link": true
    }
  },
  "cells": [
    {
      "cell_type": "markdown",
      "metadata": {
        "id": "view-in-github",
        "colab_type": "text"
      },
      "source": [
        "<a href=\"https://colab.research.google.com/github/Jair-RM/Modelacion-Financiera/blob/main/OC_SMF_EjemploRegresion.ipynb\" target=\"_parent\"><img src=\"https://colab.research.google.com/assets/colab-badge.svg\" alt=\"Open In Colab\"/></a>"
      ]
    },
    {
      "cell_type": "markdown",
      "metadata": {
        "id": "1SvUvamRwmAV"
      },
      "source": [
        "# Regresión Lineal\n",
        "\n",
        "<b>Oliver Cuate</b><br>\n",
        "*14 de febrero de 2025*"
      ]
    },
    {
      "cell_type": "markdown",
      "metadata": {
        "id": "EqP_wLEawmAW"
      },
      "source": [
        "Cargamos las bibliotecas que usaremos:"
      ]
    },
    {
      "cell_type": "code",
      "metadata": {
        "id": "cN3CzbM4wmAW"
      },
      "source": [
        "import pandas as pd\n",
        "import numpy as np\n",
        "import matplotlib.pyplot as plt\n",
        "from sklearn.linear_model import LinearRegression"
      ],
      "execution_count": null,
      "outputs": []
    },
    {
      "cell_type": "markdown",
      "metadata": {
        "id": "5Czpx-VvwmAX"
      },
      "source": [
        "Cargamos los datos que usaremos:"
      ]
    },
    {
      "cell_type": "code",
      "metadata": {
        "colab": {
          "base_uri": "https://localhost:8080/"
        },
        "id": "6TQ2E7TNwmAX",
        "outputId": "4f557bd8-b266-4436-cdf9-06b666cbc84a"
      },
      "source": [
        "datos = pd.read_csv(\"Datos.csv\")\n",
        "type(datos)"
      ],
      "execution_count": null,
      "outputs": [
        {
          "output_type": "execute_result",
          "data": {
            "text/plain": [
              "pandas.core.frame.DataFrame"
            ]
          },
          "metadata": {
            "tags": []
          },
          "execution_count": 2
        }
      ]
    },
    {
      "cell_type": "markdown",
      "metadata": {
        "id": "Raphp02dwmAY"
      },
      "source": [
        "Mostramos los datos:"
      ]
    },
    {
      "cell_type": "code",
      "metadata": {
        "colab": {
          "base_uri": "https://localhost:8080/",
          "height": 1000
        },
        "id": "tTlQEHMAwmAY",
        "outputId": "20c81205-66a6-4862-f82b-b8a91ed72ccd"
      },
      "source": [
        "datos"
      ],
      "execution_count": null,
      "outputs": [
        {
          "output_type": "execute_result",
          "data": {
            "text/html": [
              "<div>\n",
              "<style scoped>\n",
              "    .dataframe tbody tr th:only-of-type {\n",
              "        vertical-align: middle;\n",
              "    }\n",
              "\n",
              "    .dataframe tbody tr th {\n",
              "        vertical-align: top;\n",
              "    }\n",
              "\n",
              "    .dataframe thead th {\n",
              "        text-align: right;\n",
              "    }\n",
              "</style>\n",
              "<table border=\"1\" class=\"dataframe\">\n",
              "  <thead>\n",
              "    <tr style=\"text-align: right;\">\n",
              "      <th></th>\n",
              "      <th>Sexo</th>\n",
              "      <th>Estatura</th>\n",
              "      <th>Peso</th>\n",
              "      <th>Calzado</th>\n",
              "    </tr>\n",
              "  </thead>\n",
              "  <tbody>\n",
              "    <tr>\n",
              "      <th>0</th>\n",
              "      <td>Mujer</td>\n",
              "      <td>1.65</td>\n",
              "      <td>65</td>\n",
              "      <td>5</td>\n",
              "    </tr>\n",
              "    <tr>\n",
              "      <th>1</th>\n",
              "      <td>Mujer</td>\n",
              "      <td>1.58</td>\n",
              "      <td>62</td>\n",
              "      <td>23</td>\n",
              "    </tr>\n",
              "    <tr>\n",
              "      <th>2</th>\n",
              "      <td>Hombre</td>\n",
              "      <td>1.72</td>\n",
              "      <td>61</td>\n",
              "      <td>6.5</td>\n",
              "    </tr>\n",
              "    <tr>\n",
              "      <th>3</th>\n",
              "      <td>Hombre</td>\n",
              "      <td>1.86</td>\n",
              "      <td>80</td>\n",
              "      <td>28.4</td>\n",
              "    </tr>\n",
              "    <tr>\n",
              "      <th>4</th>\n",
              "      <td>Hombre</td>\n",
              "      <td>1.78</td>\n",
              "      <td>57</td>\n",
              "      <td>25.5</td>\n",
              "    </tr>\n",
              "    <tr>\n",
              "      <th>5</th>\n",
              "      <td>Hombre</td>\n",
              "      <td>1.74</td>\n",
              "      <td>65</td>\n",
              "      <td>27.6</td>\n",
              "    </tr>\n",
              "    <tr>\n",
              "      <th>6</th>\n",
              "      <td>Mujer</td>\n",
              "      <td>1.59</td>\n",
              "      <td>57</td>\n",
              "      <td>3.5</td>\n",
              "    </tr>\n",
              "    <tr>\n",
              "      <th>7</th>\n",
              "      <td>Hombre</td>\n",
              "      <td>1.80</td>\n",
              "      <td>62.526.7</td>\n",
              "      <td>26.7</td>\n",
              "    </tr>\n",
              "    <tr>\n",
              "      <th>8</th>\n",
              "      <td>Mujer</td>\n",
              "      <td>1.61</td>\n",
              "      <td>56.5</td>\n",
              "      <td>24.2</td>\n",
              "    </tr>\n",
              "    <tr>\n",
              "      <th>9</th>\n",
              "      <td>Hombre</td>\n",
              "      <td>1.70</td>\n",
              "      <td>81</td>\n",
              "      <td>26.3</td>\n",
              "    </tr>\n",
              "    <tr>\n",
              "      <th>10</th>\n",
              "      <td>Mujer</td>\n",
              "      <td>1.57</td>\n",
              "      <td>48.5</td>\n",
              "      <td>24.2</td>\n",
              "    </tr>\n",
              "    <tr>\n",
              "      <th>11</th>\n",
              "      <td>Hombre</td>\n",
              "      <td>1.70</td>\n",
              "      <td>85</td>\n",
              "      <td>26.7</td>\n",
              "    </tr>\n",
              "    <tr>\n",
              "      <th>12</th>\n",
              "      <td>Hombre</td>\n",
              "      <td>1.70</td>\n",
              "      <td>58.3</td>\n",
              "      <td>27</td>\n",
              "    </tr>\n",
              "    <tr>\n",
              "      <th>13</th>\n",
              "      <td>Hombre</td>\n",
              "      <td>1.75</td>\n",
              "      <td>60</td>\n",
              "      <td>26.3</td>\n",
              "    </tr>\n",
              "    <tr>\n",
              "      <th>14</th>\n",
              "      <td>Hombre</td>\n",
              "      <td>1.73</td>\n",
              "      <td>58.2</td>\n",
              "      <td>26.3</td>\n",
              "    </tr>\n",
              "    <tr>\n",
              "      <th>15</th>\n",
              "      <td>Hombre</td>\n",
              "      <td>1.70</td>\n",
              "      <td>71</td>\n",
              "      <td>6</td>\n",
              "    </tr>\n",
              "    <tr>\n",
              "      <th>16</th>\n",
              "      <td>Mujer</td>\n",
              "      <td>1.50</td>\n",
              "      <td>45</td>\n",
              "      <td>22.5</td>\n",
              "    </tr>\n",
              "    <tr>\n",
              "      <th>17</th>\n",
              "      <td>Hombre</td>\n",
              "      <td>1.81</td>\n",
              "      <td>93</td>\n",
              "      <td>30</td>\n",
              "    </tr>\n",
              "    <tr>\n",
              "      <th>18</th>\n",
              "      <td>Hombre</td>\n",
              "      <td>1.84</td>\n",
              "      <td>70</td>\n",
              "      <td>28</td>\n",
              "    </tr>\n",
              "    <tr>\n",
              "      <th>19</th>\n",
              "      <td>Mujer</td>\n",
              "      <td>1.58</td>\n",
              "      <td>56</td>\n",
              "      <td>23.8</td>\n",
              "    </tr>\n",
              "    <tr>\n",
              "      <th>20</th>\n",
              "      <td>Hombre</td>\n",
              "      <td>1.65</td>\n",
              "      <td>58.6</td>\n",
              "      <td>25</td>\n",
              "    </tr>\n",
              "    <tr>\n",
              "      <th>21</th>\n",
              "      <td>Mujer</td>\n",
              "      <td>1.58</td>\n",
              "      <td>60</td>\n",
              "      <td>24</td>\n",
              "    </tr>\n",
              "    <tr>\n",
              "      <th>22</th>\n",
              "      <td>Hombre</td>\n",
              "      <td>1.75</td>\n",
              "      <td>60.1</td>\n",
              "      <td>27.1</td>\n",
              "    </tr>\n",
              "    <tr>\n",
              "      <th>23</th>\n",
              "      <td>Hombre</td>\n",
              "      <td>1.80</td>\n",
              "      <td>84</td>\n",
              "      <td>27. 6</td>\n",
              "    </tr>\n",
              "    <tr>\n",
              "      <th>24</th>\n",
              "      <td>Mujer</td>\n",
              "      <td>1.58</td>\n",
              "      <td>56</td>\n",
              "      <td>23</td>\n",
              "    </tr>\n",
              "    <tr>\n",
              "      <th>25</th>\n",
              "      <td>Mujer</td>\n",
              "      <td>1.65</td>\n",
              "      <td>50</td>\n",
              "      <td>4.6</td>\n",
              "    </tr>\n",
              "    <tr>\n",
              "      <th>26</th>\n",
              "      <td>Mujer</td>\n",
              "      <td>1.64</td>\n",
              "      <td>50</td>\n",
              "      <td>24.6</td>\n",
              "    </tr>\n",
              "    <tr>\n",
              "      <th>27</th>\n",
              "      <td>Hombre</td>\n",
              "      <td>1.75</td>\n",
              "      <td>60</td>\n",
              "      <td>26.3</td>\n",
              "    </tr>\n",
              "    <tr>\n",
              "      <th>28</th>\n",
              "      <td>Hombre</td>\n",
              "      <td>1.80</td>\n",
              "      <td>85</td>\n",
              "      <td>8</td>\n",
              "    </tr>\n",
              "    <tr>\n",
              "      <th>29</th>\n",
              "      <td>Hombre</td>\n",
              "      <td>1.70</td>\n",
              "      <td>60</td>\n",
              "      <td>26.5</td>\n",
              "    </tr>\n",
              "    <tr>\n",
              "      <th>30</th>\n",
              "      <td>Mujer</td>\n",
              "      <td>1.63</td>\n",
              "      <td>49</td>\n",
              "      <td>23.3</td>\n",
              "    </tr>\n",
              "    <tr>\n",
              "      <th>31</th>\n",
              "      <td>Hombre</td>\n",
              "      <td>1.65</td>\n",
              "      <td>70.1</td>\n",
              "      <td>25.9</td>\n",
              "    </tr>\n",
              "    <tr>\n",
              "      <th>32</th>\n",
              "      <td>Hombre</td>\n",
              "      <td>1.71</td>\n",
              "      <td>52</td>\n",
              "      <td>27</td>\n",
              "    </tr>\n",
              "    <tr>\n",
              "      <th>33</th>\n",
              "      <td>Mujer</td>\n",
              "      <td>1.48</td>\n",
              "      <td>55</td>\n",
              "      <td>5.5</td>\n",
              "    </tr>\n",
              "    <tr>\n",
              "      <th>34</th>\n",
              "      <td>Mujer</td>\n",
              "      <td>1.48</td>\n",
              "      <td>55</td>\n",
              "      <td>5.5</td>\n",
              "    </tr>\n",
              "    <tr>\n",
              "      <th>35</th>\n",
              "      <td>Hombre</td>\n",
              "      <td>1.72</td>\n",
              "      <td>95</td>\n",
              "      <td>27.6</td>\n",
              "    </tr>\n",
              "    <tr>\n",
              "      <th>36</th>\n",
              "      <td>Hombre</td>\n",
              "      <td>1.86</td>\n",
              "      <td>85</td>\n",
              "      <td>27.1</td>\n",
              "    </tr>\n",
              "    <tr>\n",
              "      <th>37</th>\n",
              "      <td>Hombre</td>\n",
              "      <td>1.65</td>\n",
              "      <td>70</td>\n",
              "      <td>25.5</td>\n",
              "    </tr>\n",
              "  </tbody>\n",
              "</table>\n",
              "</div>"
            ],
            "text/plain": [
              "      Sexo  Estatura      Peso Calzado\n",
              "0    Mujer      1.65        65       5\n",
              "1    Mujer      1.58        62      23\n",
              "2   Hombre      1.72        61     6.5\n",
              "3   Hombre      1.86        80    28.4\n",
              "4   Hombre      1.78        57    25.5\n",
              "5   Hombre      1.74        65    27.6\n",
              "6    Mujer      1.59        57     3.5\n",
              "7   Hombre      1.80  62.526.7    26.7\n",
              "8    Mujer      1.61      56.5    24.2\n",
              "9   Hombre      1.70        81    26.3\n",
              "10   Mujer      1.57      48.5    24.2\n",
              "11  Hombre      1.70        85    26.7\n",
              "12  Hombre      1.70      58.3      27\n",
              "13  Hombre      1.75        60    26.3\n",
              "14  Hombre      1.73      58.2    26.3\n",
              "15  Hombre      1.70        71       6\n",
              "16   Mujer      1.50        45    22.5\n",
              "17  Hombre      1.81        93      30\n",
              "18  Hombre      1.84        70      28\n",
              "19   Mujer      1.58        56    23.8\n",
              "20  Hombre      1.65      58.6      25\n",
              "21   Mujer      1.58        60      24\n",
              "22  Hombre      1.75      60.1    27.1\n",
              "23  Hombre      1.80        84   27. 6\n",
              "24   Mujer      1.58        56      23\n",
              "25   Mujer      1.65        50     4.6\n",
              "26   Mujer      1.64        50    24.6\n",
              "27  Hombre      1.75        60    26.3\n",
              "28  Hombre      1.80        85       8\n",
              "29  Hombre      1.70        60    26.5\n",
              "30   Mujer      1.63        49    23.3\n",
              "31  Hombre      1.65      70.1    25.9\n",
              "32  Hombre      1.71        52      27\n",
              "33   Mujer      1.48        55     5.5\n",
              "34   Mujer      1.48        55     5.5\n",
              "35  Hombre      1.72        95    27.6\n",
              "36  Hombre      1.86        85    27.1\n",
              "37  Hombre      1.65        70    25.5"
            ]
          },
          "metadata": {
            "tags": []
          },
          "execution_count": 3
        }
      ]
    },
    {
      "cell_type": "markdown",
      "metadata": {
        "id": "m17VAwVawmAY"
      },
      "source": [
        "Filtramos los que registraron mal algún valor numérico:"
      ]
    },
    {
      "cell_type": "code",
      "metadata": {
        "colab": {
          "base_uri": "https://localhost:8080/",
          "height": 1000
        },
        "id": "WIonRLIAwmAZ",
        "outputId": "333a788e-b430-4335-9637-371f397e8ee6"
      },
      "source": [
        "# Eliminamos los datos que no son números en las columnas Peso y Calzado\n",
        "datos = datos[pd.to_numeric(datos['Peso'], errors='coerce').notnull()]\n",
        "datos = datos[pd.to_numeric(datos['Calzado'], errors='coerce').notnull()]\n",
        "datos"
      ],
      "execution_count": null,
      "outputs": [
        {
          "output_type": "execute_result",
          "data": {
            "text/html": [
              "<div>\n",
              "<style scoped>\n",
              "    .dataframe tbody tr th:only-of-type {\n",
              "        vertical-align: middle;\n",
              "    }\n",
              "\n",
              "    .dataframe tbody tr th {\n",
              "        vertical-align: top;\n",
              "    }\n",
              "\n",
              "    .dataframe thead th {\n",
              "        text-align: right;\n",
              "    }\n",
              "</style>\n",
              "<table border=\"1\" class=\"dataframe\">\n",
              "  <thead>\n",
              "    <tr style=\"text-align: right;\">\n",
              "      <th></th>\n",
              "      <th>Sexo</th>\n",
              "      <th>Estatura</th>\n",
              "      <th>Peso</th>\n",
              "      <th>Calzado</th>\n",
              "    </tr>\n",
              "  </thead>\n",
              "  <tbody>\n",
              "    <tr>\n",
              "      <th>0</th>\n",
              "      <td>Mujer</td>\n",
              "      <td>1.65</td>\n",
              "      <td>65</td>\n",
              "      <td>5</td>\n",
              "    </tr>\n",
              "    <tr>\n",
              "      <th>1</th>\n",
              "      <td>Mujer</td>\n",
              "      <td>1.58</td>\n",
              "      <td>62</td>\n",
              "      <td>23</td>\n",
              "    </tr>\n",
              "    <tr>\n",
              "      <th>2</th>\n",
              "      <td>Hombre</td>\n",
              "      <td>1.72</td>\n",
              "      <td>61</td>\n",
              "      <td>6.5</td>\n",
              "    </tr>\n",
              "    <tr>\n",
              "      <th>3</th>\n",
              "      <td>Hombre</td>\n",
              "      <td>1.86</td>\n",
              "      <td>80</td>\n",
              "      <td>28.4</td>\n",
              "    </tr>\n",
              "    <tr>\n",
              "      <th>4</th>\n",
              "      <td>Hombre</td>\n",
              "      <td>1.78</td>\n",
              "      <td>57</td>\n",
              "      <td>25.5</td>\n",
              "    </tr>\n",
              "    <tr>\n",
              "      <th>5</th>\n",
              "      <td>Hombre</td>\n",
              "      <td>1.74</td>\n",
              "      <td>65</td>\n",
              "      <td>27.6</td>\n",
              "    </tr>\n",
              "    <tr>\n",
              "      <th>6</th>\n",
              "      <td>Mujer</td>\n",
              "      <td>1.59</td>\n",
              "      <td>57</td>\n",
              "      <td>3.5</td>\n",
              "    </tr>\n",
              "    <tr>\n",
              "      <th>8</th>\n",
              "      <td>Mujer</td>\n",
              "      <td>1.61</td>\n",
              "      <td>56.5</td>\n",
              "      <td>24.2</td>\n",
              "    </tr>\n",
              "    <tr>\n",
              "      <th>9</th>\n",
              "      <td>Hombre</td>\n",
              "      <td>1.70</td>\n",
              "      <td>81</td>\n",
              "      <td>26.3</td>\n",
              "    </tr>\n",
              "    <tr>\n",
              "      <th>10</th>\n",
              "      <td>Mujer</td>\n",
              "      <td>1.57</td>\n",
              "      <td>48.5</td>\n",
              "      <td>24.2</td>\n",
              "    </tr>\n",
              "    <tr>\n",
              "      <th>11</th>\n",
              "      <td>Hombre</td>\n",
              "      <td>1.70</td>\n",
              "      <td>85</td>\n",
              "      <td>26.7</td>\n",
              "    </tr>\n",
              "    <tr>\n",
              "      <th>12</th>\n",
              "      <td>Hombre</td>\n",
              "      <td>1.70</td>\n",
              "      <td>58.3</td>\n",
              "      <td>27</td>\n",
              "    </tr>\n",
              "    <tr>\n",
              "      <th>13</th>\n",
              "      <td>Hombre</td>\n",
              "      <td>1.75</td>\n",
              "      <td>60</td>\n",
              "      <td>26.3</td>\n",
              "    </tr>\n",
              "    <tr>\n",
              "      <th>14</th>\n",
              "      <td>Hombre</td>\n",
              "      <td>1.73</td>\n",
              "      <td>58.2</td>\n",
              "      <td>26.3</td>\n",
              "    </tr>\n",
              "    <tr>\n",
              "      <th>15</th>\n",
              "      <td>Hombre</td>\n",
              "      <td>1.70</td>\n",
              "      <td>71</td>\n",
              "      <td>6</td>\n",
              "    </tr>\n",
              "    <tr>\n",
              "      <th>16</th>\n",
              "      <td>Mujer</td>\n",
              "      <td>1.50</td>\n",
              "      <td>45</td>\n",
              "      <td>22.5</td>\n",
              "    </tr>\n",
              "    <tr>\n",
              "      <th>17</th>\n",
              "      <td>Hombre</td>\n",
              "      <td>1.81</td>\n",
              "      <td>93</td>\n",
              "      <td>30</td>\n",
              "    </tr>\n",
              "    <tr>\n",
              "      <th>18</th>\n",
              "      <td>Hombre</td>\n",
              "      <td>1.84</td>\n",
              "      <td>70</td>\n",
              "      <td>28</td>\n",
              "    </tr>\n",
              "    <tr>\n",
              "      <th>19</th>\n",
              "      <td>Mujer</td>\n",
              "      <td>1.58</td>\n",
              "      <td>56</td>\n",
              "      <td>23.8</td>\n",
              "    </tr>\n",
              "    <tr>\n",
              "      <th>20</th>\n",
              "      <td>Hombre</td>\n",
              "      <td>1.65</td>\n",
              "      <td>58.6</td>\n",
              "      <td>25</td>\n",
              "    </tr>\n",
              "    <tr>\n",
              "      <th>21</th>\n",
              "      <td>Mujer</td>\n",
              "      <td>1.58</td>\n",
              "      <td>60</td>\n",
              "      <td>24</td>\n",
              "    </tr>\n",
              "    <tr>\n",
              "      <th>22</th>\n",
              "      <td>Hombre</td>\n",
              "      <td>1.75</td>\n",
              "      <td>60.1</td>\n",
              "      <td>27.1</td>\n",
              "    </tr>\n",
              "    <tr>\n",
              "      <th>24</th>\n",
              "      <td>Mujer</td>\n",
              "      <td>1.58</td>\n",
              "      <td>56</td>\n",
              "      <td>23</td>\n",
              "    </tr>\n",
              "    <tr>\n",
              "      <th>25</th>\n",
              "      <td>Mujer</td>\n",
              "      <td>1.65</td>\n",
              "      <td>50</td>\n",
              "      <td>4.6</td>\n",
              "    </tr>\n",
              "    <tr>\n",
              "      <th>26</th>\n",
              "      <td>Mujer</td>\n",
              "      <td>1.64</td>\n",
              "      <td>50</td>\n",
              "      <td>24.6</td>\n",
              "    </tr>\n",
              "    <tr>\n",
              "      <th>27</th>\n",
              "      <td>Hombre</td>\n",
              "      <td>1.75</td>\n",
              "      <td>60</td>\n",
              "      <td>26.3</td>\n",
              "    </tr>\n",
              "    <tr>\n",
              "      <th>28</th>\n",
              "      <td>Hombre</td>\n",
              "      <td>1.80</td>\n",
              "      <td>85</td>\n",
              "      <td>8</td>\n",
              "    </tr>\n",
              "    <tr>\n",
              "      <th>29</th>\n",
              "      <td>Hombre</td>\n",
              "      <td>1.70</td>\n",
              "      <td>60</td>\n",
              "      <td>26.5</td>\n",
              "    </tr>\n",
              "    <tr>\n",
              "      <th>30</th>\n",
              "      <td>Mujer</td>\n",
              "      <td>1.63</td>\n",
              "      <td>49</td>\n",
              "      <td>23.3</td>\n",
              "    </tr>\n",
              "    <tr>\n",
              "      <th>31</th>\n",
              "      <td>Hombre</td>\n",
              "      <td>1.65</td>\n",
              "      <td>70.1</td>\n",
              "      <td>25.9</td>\n",
              "    </tr>\n",
              "    <tr>\n",
              "      <th>32</th>\n",
              "      <td>Hombre</td>\n",
              "      <td>1.71</td>\n",
              "      <td>52</td>\n",
              "      <td>27</td>\n",
              "    </tr>\n",
              "    <tr>\n",
              "      <th>33</th>\n",
              "      <td>Mujer</td>\n",
              "      <td>1.48</td>\n",
              "      <td>55</td>\n",
              "      <td>5.5</td>\n",
              "    </tr>\n",
              "    <tr>\n",
              "      <th>34</th>\n",
              "      <td>Mujer</td>\n",
              "      <td>1.48</td>\n",
              "      <td>55</td>\n",
              "      <td>5.5</td>\n",
              "    </tr>\n",
              "    <tr>\n",
              "      <th>35</th>\n",
              "      <td>Hombre</td>\n",
              "      <td>1.72</td>\n",
              "      <td>95</td>\n",
              "      <td>27.6</td>\n",
              "    </tr>\n",
              "    <tr>\n",
              "      <th>36</th>\n",
              "      <td>Hombre</td>\n",
              "      <td>1.86</td>\n",
              "      <td>85</td>\n",
              "      <td>27.1</td>\n",
              "    </tr>\n",
              "    <tr>\n",
              "      <th>37</th>\n",
              "      <td>Hombre</td>\n",
              "      <td>1.65</td>\n",
              "      <td>70</td>\n",
              "      <td>25.5</td>\n",
              "    </tr>\n",
              "  </tbody>\n",
              "</table>\n",
              "</div>"
            ],
            "text/plain": [
              "      Sexo  Estatura  Peso Calzado\n",
              "0    Mujer      1.65    65       5\n",
              "1    Mujer      1.58    62      23\n",
              "2   Hombre      1.72    61     6.5\n",
              "3   Hombre      1.86    80    28.4\n",
              "4   Hombre      1.78    57    25.5\n",
              "5   Hombre      1.74    65    27.6\n",
              "6    Mujer      1.59    57     3.5\n",
              "8    Mujer      1.61  56.5    24.2\n",
              "9   Hombre      1.70    81    26.3\n",
              "10   Mujer      1.57  48.5    24.2\n",
              "11  Hombre      1.70    85    26.7\n",
              "12  Hombre      1.70  58.3      27\n",
              "13  Hombre      1.75    60    26.3\n",
              "14  Hombre      1.73  58.2    26.3\n",
              "15  Hombre      1.70    71       6\n",
              "16   Mujer      1.50    45    22.5\n",
              "17  Hombre      1.81    93      30\n",
              "18  Hombre      1.84    70      28\n",
              "19   Mujer      1.58    56    23.8\n",
              "20  Hombre      1.65  58.6      25\n",
              "21   Mujer      1.58    60      24\n",
              "22  Hombre      1.75  60.1    27.1\n",
              "24   Mujer      1.58    56      23\n",
              "25   Mujer      1.65    50     4.6\n",
              "26   Mujer      1.64    50    24.6\n",
              "27  Hombre      1.75    60    26.3\n",
              "28  Hombre      1.80    85       8\n",
              "29  Hombre      1.70    60    26.5\n",
              "30   Mujer      1.63    49    23.3\n",
              "31  Hombre      1.65  70.1    25.9\n",
              "32  Hombre      1.71    52      27\n",
              "33   Mujer      1.48    55     5.5\n",
              "34   Mujer      1.48    55     5.5\n",
              "35  Hombre      1.72    95    27.6\n",
              "36  Hombre      1.86    85    27.1\n",
              "37  Hombre      1.65    70    25.5"
            ]
          },
          "metadata": {
            "tags": []
          },
          "execution_count": 4
        }
      ]
    },
    {
      "cell_type": "markdown",
      "metadata": {
        "id": "tMpZIjwJwmAZ"
      },
      "source": [
        "Mostramos los datos actualizados:"
      ]
    },
    {
      "cell_type": "code",
      "metadata": {
        "colab": {
          "base_uri": "https://localhost:8080/",
          "height": 1000
        },
        "id": "iha9ZzcAwmAZ",
        "outputId": "c9d92722-f174-44a3-994f-9692cec862fd"
      },
      "source": [
        "# convierto a tipo numérico los datos de las columnas: Peso, Estatura y Calzado\n",
        "datos['Peso'] = pd.to_numeric(datos['Peso'], errors = 'coerce')\n",
        "datos['Estatura'] = pd.to_numeric(datos['Estatura'], errors = 'coerce')\n",
        "datos['Calzado'] = pd.to_numeric(datos['Calzado'], errors = 'coerce')\n",
        "datos"
      ],
      "execution_count": null,
      "outputs": [
        {
          "output_type": "execute_result",
          "data": {
            "text/html": [
              "<div>\n",
              "<style scoped>\n",
              "    .dataframe tbody tr th:only-of-type {\n",
              "        vertical-align: middle;\n",
              "    }\n",
              "\n",
              "    .dataframe tbody tr th {\n",
              "        vertical-align: top;\n",
              "    }\n",
              "\n",
              "    .dataframe thead th {\n",
              "        text-align: right;\n",
              "    }\n",
              "</style>\n",
              "<table border=\"1\" class=\"dataframe\">\n",
              "  <thead>\n",
              "    <tr style=\"text-align: right;\">\n",
              "      <th></th>\n",
              "      <th>Sexo</th>\n",
              "      <th>Estatura</th>\n",
              "      <th>Peso</th>\n",
              "      <th>Calzado</th>\n",
              "    </tr>\n",
              "  </thead>\n",
              "  <tbody>\n",
              "    <tr>\n",
              "      <th>0</th>\n",
              "      <td>Mujer</td>\n",
              "      <td>1.65</td>\n",
              "      <td>65.0</td>\n",
              "      <td>5.0</td>\n",
              "    </tr>\n",
              "    <tr>\n",
              "      <th>1</th>\n",
              "      <td>Mujer</td>\n",
              "      <td>1.58</td>\n",
              "      <td>62.0</td>\n",
              "      <td>23.0</td>\n",
              "    </tr>\n",
              "    <tr>\n",
              "      <th>2</th>\n",
              "      <td>Hombre</td>\n",
              "      <td>1.72</td>\n",
              "      <td>61.0</td>\n",
              "      <td>6.5</td>\n",
              "    </tr>\n",
              "    <tr>\n",
              "      <th>3</th>\n",
              "      <td>Hombre</td>\n",
              "      <td>1.86</td>\n",
              "      <td>80.0</td>\n",
              "      <td>28.4</td>\n",
              "    </tr>\n",
              "    <tr>\n",
              "      <th>4</th>\n",
              "      <td>Hombre</td>\n",
              "      <td>1.78</td>\n",
              "      <td>57.0</td>\n",
              "      <td>25.5</td>\n",
              "    </tr>\n",
              "    <tr>\n",
              "      <th>5</th>\n",
              "      <td>Hombre</td>\n",
              "      <td>1.74</td>\n",
              "      <td>65.0</td>\n",
              "      <td>27.6</td>\n",
              "    </tr>\n",
              "    <tr>\n",
              "      <th>6</th>\n",
              "      <td>Mujer</td>\n",
              "      <td>1.59</td>\n",
              "      <td>57.0</td>\n",
              "      <td>3.5</td>\n",
              "    </tr>\n",
              "    <tr>\n",
              "      <th>8</th>\n",
              "      <td>Mujer</td>\n",
              "      <td>1.61</td>\n",
              "      <td>56.5</td>\n",
              "      <td>24.2</td>\n",
              "    </tr>\n",
              "    <tr>\n",
              "      <th>9</th>\n",
              "      <td>Hombre</td>\n",
              "      <td>1.70</td>\n",
              "      <td>81.0</td>\n",
              "      <td>26.3</td>\n",
              "    </tr>\n",
              "    <tr>\n",
              "      <th>10</th>\n",
              "      <td>Mujer</td>\n",
              "      <td>1.57</td>\n",
              "      <td>48.5</td>\n",
              "      <td>24.2</td>\n",
              "    </tr>\n",
              "    <tr>\n",
              "      <th>11</th>\n",
              "      <td>Hombre</td>\n",
              "      <td>1.70</td>\n",
              "      <td>85.0</td>\n",
              "      <td>26.7</td>\n",
              "    </tr>\n",
              "    <tr>\n",
              "      <th>12</th>\n",
              "      <td>Hombre</td>\n",
              "      <td>1.70</td>\n",
              "      <td>58.3</td>\n",
              "      <td>27.0</td>\n",
              "    </tr>\n",
              "    <tr>\n",
              "      <th>13</th>\n",
              "      <td>Hombre</td>\n",
              "      <td>1.75</td>\n",
              "      <td>60.0</td>\n",
              "      <td>26.3</td>\n",
              "    </tr>\n",
              "    <tr>\n",
              "      <th>14</th>\n",
              "      <td>Hombre</td>\n",
              "      <td>1.73</td>\n",
              "      <td>58.2</td>\n",
              "      <td>26.3</td>\n",
              "    </tr>\n",
              "    <tr>\n",
              "      <th>15</th>\n",
              "      <td>Hombre</td>\n",
              "      <td>1.70</td>\n",
              "      <td>71.0</td>\n",
              "      <td>6.0</td>\n",
              "    </tr>\n",
              "    <tr>\n",
              "      <th>16</th>\n",
              "      <td>Mujer</td>\n",
              "      <td>1.50</td>\n",
              "      <td>45.0</td>\n",
              "      <td>22.5</td>\n",
              "    </tr>\n",
              "    <tr>\n",
              "      <th>17</th>\n",
              "      <td>Hombre</td>\n",
              "      <td>1.81</td>\n",
              "      <td>93.0</td>\n",
              "      <td>30.0</td>\n",
              "    </tr>\n",
              "    <tr>\n",
              "      <th>18</th>\n",
              "      <td>Hombre</td>\n",
              "      <td>1.84</td>\n",
              "      <td>70.0</td>\n",
              "      <td>28.0</td>\n",
              "    </tr>\n",
              "    <tr>\n",
              "      <th>19</th>\n",
              "      <td>Mujer</td>\n",
              "      <td>1.58</td>\n",
              "      <td>56.0</td>\n",
              "      <td>23.8</td>\n",
              "    </tr>\n",
              "    <tr>\n",
              "      <th>20</th>\n",
              "      <td>Hombre</td>\n",
              "      <td>1.65</td>\n",
              "      <td>58.6</td>\n",
              "      <td>25.0</td>\n",
              "    </tr>\n",
              "    <tr>\n",
              "      <th>21</th>\n",
              "      <td>Mujer</td>\n",
              "      <td>1.58</td>\n",
              "      <td>60.0</td>\n",
              "      <td>24.0</td>\n",
              "    </tr>\n",
              "    <tr>\n",
              "      <th>22</th>\n",
              "      <td>Hombre</td>\n",
              "      <td>1.75</td>\n",
              "      <td>60.1</td>\n",
              "      <td>27.1</td>\n",
              "    </tr>\n",
              "    <tr>\n",
              "      <th>24</th>\n",
              "      <td>Mujer</td>\n",
              "      <td>1.58</td>\n",
              "      <td>56.0</td>\n",
              "      <td>23.0</td>\n",
              "    </tr>\n",
              "    <tr>\n",
              "      <th>25</th>\n",
              "      <td>Mujer</td>\n",
              "      <td>1.65</td>\n",
              "      <td>50.0</td>\n",
              "      <td>4.6</td>\n",
              "    </tr>\n",
              "    <tr>\n",
              "      <th>26</th>\n",
              "      <td>Mujer</td>\n",
              "      <td>1.64</td>\n",
              "      <td>50.0</td>\n",
              "      <td>24.6</td>\n",
              "    </tr>\n",
              "    <tr>\n",
              "      <th>27</th>\n",
              "      <td>Hombre</td>\n",
              "      <td>1.75</td>\n",
              "      <td>60.0</td>\n",
              "      <td>26.3</td>\n",
              "    </tr>\n",
              "    <tr>\n",
              "      <th>28</th>\n",
              "      <td>Hombre</td>\n",
              "      <td>1.80</td>\n",
              "      <td>85.0</td>\n",
              "      <td>8.0</td>\n",
              "    </tr>\n",
              "    <tr>\n",
              "      <th>29</th>\n",
              "      <td>Hombre</td>\n",
              "      <td>1.70</td>\n",
              "      <td>60.0</td>\n",
              "      <td>26.5</td>\n",
              "    </tr>\n",
              "    <tr>\n",
              "      <th>30</th>\n",
              "      <td>Mujer</td>\n",
              "      <td>1.63</td>\n",
              "      <td>49.0</td>\n",
              "      <td>23.3</td>\n",
              "    </tr>\n",
              "    <tr>\n",
              "      <th>31</th>\n",
              "      <td>Hombre</td>\n",
              "      <td>1.65</td>\n",
              "      <td>70.1</td>\n",
              "      <td>25.9</td>\n",
              "    </tr>\n",
              "    <tr>\n",
              "      <th>32</th>\n",
              "      <td>Hombre</td>\n",
              "      <td>1.71</td>\n",
              "      <td>52.0</td>\n",
              "      <td>27.0</td>\n",
              "    </tr>\n",
              "    <tr>\n",
              "      <th>33</th>\n",
              "      <td>Mujer</td>\n",
              "      <td>1.48</td>\n",
              "      <td>55.0</td>\n",
              "      <td>5.5</td>\n",
              "    </tr>\n",
              "    <tr>\n",
              "      <th>34</th>\n",
              "      <td>Mujer</td>\n",
              "      <td>1.48</td>\n",
              "      <td>55.0</td>\n",
              "      <td>5.5</td>\n",
              "    </tr>\n",
              "    <tr>\n",
              "      <th>35</th>\n",
              "      <td>Hombre</td>\n",
              "      <td>1.72</td>\n",
              "      <td>95.0</td>\n",
              "      <td>27.6</td>\n",
              "    </tr>\n",
              "    <tr>\n",
              "      <th>36</th>\n",
              "      <td>Hombre</td>\n",
              "      <td>1.86</td>\n",
              "      <td>85.0</td>\n",
              "      <td>27.1</td>\n",
              "    </tr>\n",
              "    <tr>\n",
              "      <th>37</th>\n",
              "      <td>Hombre</td>\n",
              "      <td>1.65</td>\n",
              "      <td>70.0</td>\n",
              "      <td>25.5</td>\n",
              "    </tr>\n",
              "  </tbody>\n",
              "</table>\n",
              "</div>"
            ],
            "text/plain": [
              "      Sexo  Estatura  Peso  Calzado\n",
              "0    Mujer      1.65  65.0      5.0\n",
              "1    Mujer      1.58  62.0     23.0\n",
              "2   Hombre      1.72  61.0      6.5\n",
              "3   Hombre      1.86  80.0     28.4\n",
              "4   Hombre      1.78  57.0     25.5\n",
              "5   Hombre      1.74  65.0     27.6\n",
              "6    Mujer      1.59  57.0      3.5\n",
              "8    Mujer      1.61  56.5     24.2\n",
              "9   Hombre      1.70  81.0     26.3\n",
              "10   Mujer      1.57  48.5     24.2\n",
              "11  Hombre      1.70  85.0     26.7\n",
              "12  Hombre      1.70  58.3     27.0\n",
              "13  Hombre      1.75  60.0     26.3\n",
              "14  Hombre      1.73  58.2     26.3\n",
              "15  Hombre      1.70  71.0      6.0\n",
              "16   Mujer      1.50  45.0     22.5\n",
              "17  Hombre      1.81  93.0     30.0\n",
              "18  Hombre      1.84  70.0     28.0\n",
              "19   Mujer      1.58  56.0     23.8\n",
              "20  Hombre      1.65  58.6     25.0\n",
              "21   Mujer      1.58  60.0     24.0\n",
              "22  Hombre      1.75  60.1     27.1\n",
              "24   Mujer      1.58  56.0     23.0\n",
              "25   Mujer      1.65  50.0      4.6\n",
              "26   Mujer      1.64  50.0     24.6\n",
              "27  Hombre      1.75  60.0     26.3\n",
              "28  Hombre      1.80  85.0      8.0\n",
              "29  Hombre      1.70  60.0     26.5\n",
              "30   Mujer      1.63  49.0     23.3\n",
              "31  Hombre      1.65  70.1     25.9\n",
              "32  Hombre      1.71  52.0     27.0\n",
              "33   Mujer      1.48  55.0      5.5\n",
              "34   Mujer      1.48  55.0      5.5\n",
              "35  Hombre      1.72  95.0     27.6\n",
              "36  Hombre      1.86  85.0     27.1\n",
              "37  Hombre      1.65  70.0     25.5"
            ]
          },
          "metadata": {
            "tags": []
          },
          "execution_count": 5
        }
      ]
    },
    {
      "cell_type": "markdown",
      "metadata": {
        "id": "Mr3sGfrRwmAa"
      },
      "source": [
        "Agrupamos los datos según el sexo y mostramos la media de la estatura"
      ]
    },
    {
      "cell_type": "code",
      "metadata": {
        "colab": {
          "base_uri": "https://localhost:8080/"
        },
        "id": "c02HM8IhwmAa",
        "outputId": "030e0564-73bd-490f-92c6-faca8dffd5e3"
      },
      "source": [
        "datosMH_E = datos['Estatura'].groupby(datos['Sexo'])\n",
        "datosMH_E.mean()"
      ],
      "execution_count": null,
      "outputs": [
        {
          "output_type": "execute_result",
          "data": {
            "text/plain": [
              "Sexo\n",
              "Hombre    1.739545\n",
              "Mujer     1.580000\n",
              "Name: Estatura, dtype: float64"
            ]
          },
          "metadata": {
            "tags": []
          },
          "execution_count": 6
        }
      ]
    },
    {
      "cell_type": "markdown",
      "metadata": {
        "id": "F8FIcH_QwmAa"
      },
      "source": [
        "Agrupamos los datos según el sexo y mostramos la media del peso"
      ]
    },
    {
      "cell_type": "code",
      "metadata": {
        "colab": {
          "base_uri": "https://localhost:8080/"
        },
        "id": "hBOre_EFwmAa",
        "outputId": "23f4f654-dd3f-4872-e925-97211315c9b5"
      },
      "source": [
        "datosMH_P = datos['Peso'].groupby(datos['Sexo'])\n",
        "datosMH_P.mean()"
      ],
      "execution_count": null,
      "outputs": [
        {
          "output_type": "execute_result",
          "data": {
            "text/plain": [
              "Sexo\n",
              "Hombre    69.786364\n",
              "Mujer     54.642857\n",
              "Name: Peso, dtype: float64"
            ]
          },
          "metadata": {
            "tags": []
          },
          "execution_count": 7
        }
      ]
    },
    {
      "cell_type": "markdown",
      "metadata": {
        "id": "uehw75O2wmAb"
      },
      "source": [
        "Agrupamos los datos según el sexo y mostramos la media del calzado"
      ]
    },
    {
      "cell_type": "code",
      "metadata": {
        "colab": {
          "base_uri": "https://localhost:8080/"
        },
        "id": "fFso01UrwmAb",
        "outputId": "61bdb206-e2bb-4b89-8b01-1d65f3d71886"
      },
      "source": [
        "datosMH_C = datos['Calzado'].groupby(datos['Sexo'])\n",
        "datosMH_C.mean()"
      ],
      "execution_count": null,
      "outputs": [
        {
          "output_type": "execute_result",
          "data": {
            "text/plain": [
              "Sexo\n",
              "Hombre    24.118182\n",
              "Mujer     16.907143\n",
              "Name: Calzado, dtype: float64"
            ]
          },
          "metadata": {
            "tags": []
          },
          "execution_count": 8
        }
      ]
    },
    {
      "cell_type": "markdown",
      "metadata": {
        "id": "CTUL9Q7UwmAb"
      },
      "source": [
        "Graficamos los datos según el sexo, la estatura siempre corresponderá al eje x, el eje y será peso o calzado"
      ]
    },
    {
      "cell_type": "code",
      "metadata": {
        "id": "0w61BRzJwmAb"
      },
      "source": [
        "# Agrupación\n",
        "xh = datos.loc[datos['Sexo'] == 'Hombre']\n",
        "xm = datos.loc[datos['Sexo'] == 'Mujer']"
      ],
      "execution_count": null,
      "outputs": []
    },
    {
      "cell_type": "code",
      "metadata": {
        "colab": {
          "base_uri": "https://localhost:8080/",
          "height": 590
        },
        "id": "JzgfO446wmAc",
        "outputId": "19135924-ee9a-4671-82a2-dfc0f0e31656"
      },
      "source": [
        "plt.plot(xh.iloc[:,1].values, xh.iloc[:,2].values, 'sb')\n",
        "plt.title('Hombres: Estatura vs Peso')\n",
        "plt.xlabel('Estatura')\n",
        "plt.ylabel('Peso')\n",
        "plt.show()\n",
        "\n",
        "print()\n",
        "\n",
        "plt.plot(xm.iloc[:,1].values, xm.iloc[:,2].values, 'or')\n",
        "plt.title('Mujeres: Estatura vs Peso')\n",
        "plt.xlabel('Estatura')\n",
        "plt.ylabel('Peso')\n",
        "plt.show()"
      ],
      "execution_count": null,
      "outputs": [
        {
          "output_type": "display_data",
          "data": {
            "image/png": "[encoded data removed]",
            "text/plain": [
              "<Figure size 432x288 with 1 Axes>"
            ]
          },
          "metadata": {
            "tags": [],
            "needs_background": "light"
          }
        },
        {
          "output_type": "stream",
          "text": [
            "\n"
          ],
          "name": "stdout"
        },
        {
          "output_type": "display_data",
          "data": {
            "image/png": "[encoded data removed]",
            "text/plain": [
              "<Figure size 432x288 with 1 Axes>"
            ]
          },
          "metadata": {
            "tags": [],
            "needs_background": "light"
          }
        }
      ]
    },
    {
      "cell_type": "code",
      "metadata": {
        "colab": {
          "base_uri": "https://localhost:8080/",
          "height": 590
        },
        "id": "v8S_teq5wmAc",
        "outputId": "e313bac6-376f-4e2a-9888-96cf465c4640"
      },
      "source": [
        "plt.plot(xh.iloc[:,1].values, xh.iloc[:,3].values, 'sb')\n",
        "plt.title('Hombres: Estatura vs Calzado')\n",
        "plt.xlabel('Estatura')\n",
        "plt.ylabel('Calzado')\n",
        "plt.show()\n",
        "\n",
        "print()\n",
        "\n",
        "plt.plot(xm.iloc[:,1].values, xm.iloc[:,3].values, 'or')\n",
        "plt.title('Mujeres: Estatura vs Calzado')\n",
        "plt.xlabel('Estatura')\n",
        "plt.ylabel('Calzado')\n",
        "plt.show()"
      ],
      "execution_count": null,
      "outputs": [
        {
          "output_type": "display_data",
          "data": {
            "image/png": "[encoded data removed]",
            "text/plain": [
              "<Figure size 432x288 with 1 Axes>"
            ]
          },
          "metadata": {
            "tags": [],
            "needs_background": "light"
          }
        },
        {
          "output_type": "stream",
          "text": [
            "\n"
          ],
          "name": "stdout"
        },
        {
          "output_type": "display_data",
          "data": {
            "image/png": "[encoded data removed]",
            "text/plain": [
              "<Figure size 432x288 with 1 Axes>"
            ]
          },
          "metadata": {
            "tags": [],
            "needs_background": "light"
          }
        }
      ]
    },
    {
      "cell_type": "markdown",
      "metadata": {
        "id": "fMS6j6BTwmAc"
      },
      "source": [
        "Hacemos un nuevo fitro, para los que pusieron su calzado mal"
      ]
    },
    {
      "cell_type": "code",
      "metadata": {
        "colab": {
          "base_uri": "https://localhost:8080/",
          "height": 925
        },
        "id": "HHEm9tICwmAd",
        "outputId": "45a8bc09-9fdf-44b9-c1af-e09b2f318ff1"
      },
      "source": [
        "datos = datos[datos['Calzado']>15.0]\n",
        "datos"
      ],
      "execution_count": null,
      "outputs": [
        {
          "output_type": "execute_result",
          "data": {
            "text/html": [
              "<div>\n",
              "<style scoped>\n",
              "    .dataframe tbody tr th:only-of-type {\n",
              "        vertical-align: middle;\n",
              "    }\n",
              "\n",
              "    .dataframe tbody tr th {\n",
              "        vertical-align: top;\n",
              "    }\n",
              "\n",
              "    .dataframe thead th {\n",
              "        text-align: right;\n",
              "    }\n",
              "</style>\n",
              "<table border=\"1\" class=\"dataframe\">\n",
              "  <thead>\n",
              "    <tr style=\"text-align: right;\">\n",
              "      <th></th>\n",
              "      <th>Sexo</th>\n",
              "      <th>Estatura</th>\n",
              "      <th>Peso</th>\n",
              "      <th>Calzado</th>\n",
              "    </tr>\n",
              "  </thead>\n",
              "  <tbody>\n",
              "    <tr>\n",
              "      <th>1</th>\n",
              "      <td>Mujer</td>\n",
              "      <td>1.58</td>\n",
              "      <td>62.0</td>\n",
              "      <td>23.0</td>\n",
              "    </tr>\n",
              "    <tr>\n",
              "      <th>3</th>\n",
              "      <td>Hombre</td>\n",
              "      <td>1.86</td>\n",
              "      <td>80.0</td>\n",
              "      <td>28.4</td>\n",
              "    </tr>\n",
              "    <tr>\n",
              "      <th>4</th>\n",
              "      <td>Hombre</td>\n",
              "      <td>1.78</td>\n",
              "      <td>57.0</td>\n",
              "      <td>25.5</td>\n",
              "    </tr>\n",
              "    <tr>\n",
              "      <th>5</th>\n",
              "      <td>Hombre</td>\n",
              "      <td>1.74</td>\n",
              "      <td>65.0</td>\n",
              "      <td>27.6</td>\n",
              "    </tr>\n",
              "    <tr>\n",
              "      <th>8</th>\n",
              "      <td>Mujer</td>\n",
              "      <td>1.61</td>\n",
              "      <td>56.5</td>\n",
              "      <td>24.2</td>\n",
              "    </tr>\n",
              "    <tr>\n",
              "      <th>9</th>\n",
              "      <td>Hombre</td>\n",
              "      <td>1.70</td>\n",
              "      <td>81.0</td>\n",
              "      <td>26.3</td>\n",
              "    </tr>\n",
              "    <tr>\n",
              "      <th>10</th>\n",
              "      <td>Mujer</td>\n",
              "      <td>1.57</td>\n",
              "      <td>48.5</td>\n",
              "      <td>24.2</td>\n",
              "    </tr>\n",
              "    <tr>\n",
              "      <th>11</th>\n",
              "      <td>Hombre</td>\n",
              "      <td>1.70</td>\n",
              "      <td>85.0</td>\n",
              "      <td>26.7</td>\n",
              "    </tr>\n",
              "    <tr>\n",
              "      <th>12</th>\n",
              "      <td>Hombre</td>\n",
              "      <td>1.70</td>\n",
              "      <td>58.3</td>\n",
              "      <td>27.0</td>\n",
              "    </tr>\n",
              "    <tr>\n",
              "      <th>13</th>\n",
              "      <td>Hombre</td>\n",
              "      <td>1.75</td>\n",
              "      <td>60.0</td>\n",
              "      <td>26.3</td>\n",
              "    </tr>\n",
              "    <tr>\n",
              "      <th>14</th>\n",
              "      <td>Hombre</td>\n",
              "      <td>1.73</td>\n",
              "      <td>58.2</td>\n",
              "      <td>26.3</td>\n",
              "    </tr>\n",
              "    <tr>\n",
              "      <th>16</th>\n",
              "      <td>Mujer</td>\n",
              "      <td>1.50</td>\n",
              "      <td>45.0</td>\n",
              "      <td>22.5</td>\n",
              "    </tr>\n",
              "    <tr>\n",
              "      <th>17</th>\n",
              "      <td>Hombre</td>\n",
              "      <td>1.81</td>\n",
              "      <td>93.0</td>\n",
              "      <td>30.0</td>\n",
              "    </tr>\n",
              "    <tr>\n",
              "      <th>18</th>\n",
              "      <td>Hombre</td>\n",
              "      <td>1.84</td>\n",
              "      <td>70.0</td>\n",
              "      <td>28.0</td>\n",
              "    </tr>\n",
              "    <tr>\n",
              "      <th>19</th>\n",
              "      <td>Mujer</td>\n",
              "      <td>1.58</td>\n",
              "      <td>56.0</td>\n",
              "      <td>23.8</td>\n",
              "    </tr>\n",
              "    <tr>\n",
              "      <th>20</th>\n",
              "      <td>Hombre</td>\n",
              "      <td>1.65</td>\n",
              "      <td>58.6</td>\n",
              "      <td>25.0</td>\n",
              "    </tr>\n",
              "    <tr>\n",
              "      <th>21</th>\n",
              "      <td>Mujer</td>\n",
              "      <td>1.58</td>\n",
              "      <td>60.0</td>\n",
              "      <td>24.0</td>\n",
              "    </tr>\n",
              "    <tr>\n",
              "      <th>22</th>\n",
              "      <td>Hombre</td>\n",
              "      <td>1.75</td>\n",
              "      <td>60.1</td>\n",
              "      <td>27.1</td>\n",
              "    </tr>\n",
              "    <tr>\n",
              "      <th>24</th>\n",
              "      <td>Mujer</td>\n",
              "      <td>1.58</td>\n",
              "      <td>56.0</td>\n",
              "      <td>23.0</td>\n",
              "    </tr>\n",
              "    <tr>\n",
              "      <th>26</th>\n",
              "      <td>Mujer</td>\n",
              "      <td>1.64</td>\n",
              "      <td>50.0</td>\n",
              "      <td>24.6</td>\n",
              "    </tr>\n",
              "    <tr>\n",
              "      <th>27</th>\n",
              "      <td>Hombre</td>\n",
              "      <td>1.75</td>\n",
              "      <td>60.0</td>\n",
              "      <td>26.3</td>\n",
              "    </tr>\n",
              "    <tr>\n",
              "      <th>29</th>\n",
              "      <td>Hombre</td>\n",
              "      <td>1.70</td>\n",
              "      <td>60.0</td>\n",
              "      <td>26.5</td>\n",
              "    </tr>\n",
              "    <tr>\n",
              "      <th>30</th>\n",
              "      <td>Mujer</td>\n",
              "      <td>1.63</td>\n",
              "      <td>49.0</td>\n",
              "      <td>23.3</td>\n",
              "    </tr>\n",
              "    <tr>\n",
              "      <th>31</th>\n",
              "      <td>Hombre</td>\n",
              "      <td>1.65</td>\n",
              "      <td>70.1</td>\n",
              "      <td>25.9</td>\n",
              "    </tr>\n",
              "    <tr>\n",
              "      <th>32</th>\n",
              "      <td>Hombre</td>\n",
              "      <td>1.71</td>\n",
              "      <td>52.0</td>\n",
              "      <td>27.0</td>\n",
              "    </tr>\n",
              "    <tr>\n",
              "      <th>35</th>\n",
              "      <td>Hombre</td>\n",
              "      <td>1.72</td>\n",
              "      <td>95.0</td>\n",
              "      <td>27.6</td>\n",
              "    </tr>\n",
              "    <tr>\n",
              "      <th>36</th>\n",
              "      <td>Hombre</td>\n",
              "      <td>1.86</td>\n",
              "      <td>85.0</td>\n",
              "      <td>27.1</td>\n",
              "    </tr>\n",
              "    <tr>\n",
              "      <th>37</th>\n",
              "      <td>Hombre</td>\n",
              "      <td>1.65</td>\n",
              "      <td>70.0</td>\n",
              "      <td>25.5</td>\n",
              "    </tr>\n",
              "  </tbody>\n",
              "</table>\n",
              "</div>"
            ],
            "text/plain": [
              "      Sexo  Estatura  Peso  Calzado\n",
              "1    Mujer      1.58  62.0     23.0\n",
              "3   Hombre      1.86  80.0     28.4\n",
              "4   Hombre      1.78  57.0     25.5\n",
              "5   Hombre      1.74  65.0     27.6\n",
              "8    Mujer      1.61  56.5     24.2\n",
              "9   Hombre      1.70  81.0     26.3\n",
              "10   Mujer      1.57  48.5     24.2\n",
              "11  Hombre      1.70  85.0     26.7\n",
              "12  Hombre      1.70  58.3     27.0\n",
              "13  Hombre      1.75  60.0     26.3\n",
              "14  Hombre      1.73  58.2     26.3\n",
              "16   Mujer      1.50  45.0     22.5\n",
              "17  Hombre      1.81  93.0     30.0\n",
              "18  Hombre      1.84  70.0     28.0\n",
              "19   Mujer      1.58  56.0     23.8\n",
              "20  Hombre      1.65  58.6     25.0\n",
              "21   Mujer      1.58  60.0     24.0\n",
              "22  Hombre      1.75  60.1     27.1\n",
              "24   Mujer      1.58  56.0     23.0\n",
              "26   Mujer      1.64  50.0     24.6\n",
              "27  Hombre      1.75  60.0     26.3\n",
              "29  Hombre      1.70  60.0     26.5\n",
              "30   Mujer      1.63  49.0     23.3\n",
              "31  Hombre      1.65  70.1     25.9\n",
              "32  Hombre      1.71  52.0     27.0\n",
              "35  Hombre      1.72  95.0     27.6\n",
              "36  Hombre      1.86  85.0     27.1\n",
              "37  Hombre      1.65  70.0     25.5"
            ]
          },
          "metadata": {
            "tags": []
          },
          "execution_count": 12
        }
      ]
    },
    {
      "cell_type": "markdown",
      "metadata": {
        "id": "jCnn3LDTwmAd"
      },
      "source": [
        "Graficamos los datos finales juntos"
      ]
    },
    {
      "cell_type": "code",
      "metadata": {
        "colab": {
          "base_uri": "https://localhost:8080/",
          "height": 331
        },
        "id": "NdKsAbfDwmAd",
        "outputId": "68a97c24-fb11-4c50-afd8-1c212fa2f52f"
      },
      "source": [
        "# Nueva Agrupación\n",
        "xh = datos.loc[datos['Sexo'] == 'Hombre']\n",
        "xm = datos.loc[datos['Sexo'] == 'Mujer']\n",
        "\n",
        "xm"
      ],
      "execution_count": null,
      "outputs": [
        {
          "output_type": "execute_result",
          "data": {
            "text/html": [
              "<div>\n",
              "<style scoped>\n",
              "    .dataframe tbody tr th:only-of-type {\n",
              "        vertical-align: middle;\n",
              "    }\n",
              "\n",
              "    .dataframe tbody tr th {\n",
              "        vertical-align: top;\n",
              "    }\n",
              "\n",
              "    .dataframe thead th {\n",
              "        text-align: right;\n",
              "    }\n",
              "</style>\n",
              "<table border=\"1\" class=\"dataframe\">\n",
              "  <thead>\n",
              "    <tr style=\"text-align: right;\">\n",
              "      <th></th>\n",
              "      <th>Sexo</th>\n",
              "      <th>Estatura</th>\n",
              "      <th>Peso</th>\n",
              "      <th>Calzado</th>\n",
              "    </tr>\n",
              "  </thead>\n",
              "  <tbody>\n",
              "    <tr>\n",
              "      <th>1</th>\n",
              "      <td>Mujer</td>\n",
              "      <td>1.58</td>\n",
              "      <td>62.0</td>\n",
              "      <td>23.0</td>\n",
              "    </tr>\n",
              "    <tr>\n",
              "      <th>8</th>\n",
              "      <td>Mujer</td>\n",
              "      <td>1.61</td>\n",
              "      <td>56.5</td>\n",
              "      <td>24.2</td>\n",
              "    </tr>\n",
              "    <tr>\n",
              "      <th>10</th>\n",
              "      <td>Mujer</td>\n",
              "      <td>1.57</td>\n",
              "      <td>48.5</td>\n",
              "      <td>24.2</td>\n",
              "    </tr>\n",
              "    <tr>\n",
              "      <th>16</th>\n",
              "      <td>Mujer</td>\n",
              "      <td>1.50</td>\n",
              "      <td>45.0</td>\n",
              "      <td>22.5</td>\n",
              "    </tr>\n",
              "    <tr>\n",
              "      <th>19</th>\n",
              "      <td>Mujer</td>\n",
              "      <td>1.58</td>\n",
              "      <td>56.0</td>\n",
              "      <td>23.8</td>\n",
              "    </tr>\n",
              "    <tr>\n",
              "      <th>21</th>\n",
              "      <td>Mujer</td>\n",
              "      <td>1.58</td>\n",
              "      <td>60.0</td>\n",
              "      <td>24.0</td>\n",
              "    </tr>\n",
              "    <tr>\n",
              "      <th>24</th>\n",
              "      <td>Mujer</td>\n",
              "      <td>1.58</td>\n",
              "      <td>56.0</td>\n",
              "      <td>23.0</td>\n",
              "    </tr>\n",
              "    <tr>\n",
              "      <th>26</th>\n",
              "      <td>Mujer</td>\n",
              "      <td>1.64</td>\n",
              "      <td>50.0</td>\n",
              "      <td>24.6</td>\n",
              "    </tr>\n",
              "    <tr>\n",
              "      <th>30</th>\n",
              "      <td>Mujer</td>\n",
              "      <td>1.63</td>\n",
              "      <td>49.0</td>\n",
              "      <td>23.3</td>\n",
              "    </tr>\n",
              "  </tbody>\n",
              "</table>\n",
              "</div>"
            ],
            "text/plain": [
              "     Sexo  Estatura  Peso  Calzado\n",
              "1   Mujer      1.58  62.0     23.0\n",
              "8   Mujer      1.61  56.5     24.2\n",
              "10  Mujer      1.57  48.5     24.2\n",
              "16  Mujer      1.50  45.0     22.5\n",
              "19  Mujer      1.58  56.0     23.8\n",
              "21  Mujer      1.58  60.0     24.0\n",
              "24  Mujer      1.58  56.0     23.0\n",
              "26  Mujer      1.64  50.0     24.6\n",
              "30  Mujer      1.63  49.0     23.3"
            ]
          },
          "metadata": {
            "tags": []
          },
          "execution_count": 13
        }
      ]
    },
    {
      "cell_type": "code",
      "metadata": {
        "colab": {
          "base_uri": "https://localhost:8080/",
          "height": 590
        },
        "id": "RUmK1UbtwmAd",
        "outputId": "f3e9eec0-c8e1-40c1-904a-b05407347bc7"
      },
      "source": [
        "# Grafica\n",
        "plt.plot(xh.iloc[:,1].values, xh.iloc[:,2].values, 'sb')\n",
        "plt.plot(xm.iloc[:,1].values, xm.iloc[:,2].values, 'or')\n",
        "plt.title('Estatura vs Peso')\n",
        "plt.xlabel('Estatura')\n",
        "plt.ylabel('Peso')\n",
        "plt.show()\n",
        "\n",
        "print()\n",
        "\n",
        "plt.plot(xh.iloc[:,1].values, xh.iloc[:,3].values, 'sb')\n",
        "plt.plot(xm.iloc[:,1].values, xm.iloc[:,3].values, 'or')\n",
        "plt.title('Estatura vs Calzado')\n",
        "plt.xlabel('Estatura')\n",
        "plt.ylabel('Calzado')\n",
        "plt.show()"
      ],
      "execution_count": null,
      "outputs": [
        {
          "output_type": "display_data",
          "data": {
            "image/png": "[encoded data removed]",
            "text/plain": [
              "<Figure size 432x288 with 1 Axes>"
            ]
          },
          "metadata": {
            "tags": [],
            "needs_background": "light"
          }
        },
        {
          "output_type": "stream",
          "text": [
            "\n"
          ],
          "name": "stdout"
        },
        {
          "output_type": "display_data",
          "data": {
            "image/png": "[encoded data removed]",
            "text/plain": [
              "<Figure size 432x288 with 1 Axes>"
            ]
          },
          "metadata": {
            "tags": [],
            "needs_background": "light"
          }
        }
      ]
    },
    {
      "cell_type": "markdown",
      "metadata": {
        "id": "NOpAFHS9wmAe"
      },
      "source": [
        "Hacemos la regresión lineal"
      ]
    },
    {
      "cell_type": "code",
      "metadata": {
        "colab": {
          "base_uri": "https://localhost:8080/",
          "height": 265
        },
        "id": "K2JfwouEwmAe",
        "outputId": "73578a3c-24e6-4fc3-9a76-44db4aee52fa"
      },
      "source": [
        "regresion = LinearRegression()  # constructor por defecto de la clase LinearRegression\n",
        "X = datos.iloc[:,1].values.reshape(-1, 1)\n",
        "Y = datos.iloc[:,2].values.reshape(-1, 1)\n",
        "regresion.fit(X, Y)  # realizamos la regresión\n",
        "pred = regresion.predict(X)  # se hacen predicciones\n",
        "\n",
        "# Graficamos\n",
        "plt.plot(xh.iloc[:,1].values, xh.iloc[:,2].values, 'sb')\n",
        "plt.plot(xm.iloc[:,1].values, xm.iloc[:,2].values, 'or')\n",
        "plt.plot(datos.iloc[:,1].values, pred, 'g')\n",
        "plt.show()"
      ],
      "execution_count": null,
      "outputs": [
        {
          "output_type": "display_data",
          "data": {
            "image/png": "[encoded data removed]",
            "text/plain": [
              "<Figure size 432x288 with 1 Axes>"
            ]
          },
          "metadata": {
            "tags": [],
            "needs_background": "light"
          }
        }
      ]
    },
    {
      "cell_type": "code",
      "metadata": {
        "colab": {
          "base_uri": "https://localhost:8080/"
        },
        "id": "aYj--o4FwmAe",
        "outputId": "edf52d15-7395-44b5-a0a5-6385cfe411f5"
      },
      "source": [
        "val = regresion.predict(np.array([2.0]).reshape(-1, 1))\n",
        "print(val)"
      ],
      "execution_count": null,
      "outputs": [
        {
          "output_type": "stream",
          "text": [
            "[[90.56766917]]\n"
          ],
          "name": "stdout"
        }
      ]
    },
    {
      "cell_type": "code",
      "metadata": {
        "colab": {
          "base_uri": "https://localhost:8080/"
        },
        "id": "3tisGdeCwmAf",
        "outputId": "864a91ff-2a8f-413b-a386-1860e210c454"
      },
      "source": [
        "datosMH_C = datos['Calzado'].groupby(datos['Sexo'])\n",
        "datosMH_C.mean()"
      ],
      "execution_count": null,
      "outputs": [
        {
          "output_type": "execute_result",
          "data": {
            "text/plain": [
              "Sexo\n",
              "Hombre    26.847368\n",
              "Mujer     23.622222\n",
              "Name: Calzado, dtype: float64"
            ]
          },
          "metadata": {
            "tags": []
          },
          "execution_count": 17
        }
      ]
    },
    {
      "cell_type": "code",
      "metadata": {
        "colab": {
          "base_uri": "https://localhost:8080/"
        },
        "id": "fVn5WDTywmAf",
        "outputId": "ec73e967-61bb-4f05-9982-261ece27ecbc"
      },
      "source": [
        "datosMH_P = datos['Peso'].groupby(datos['Sexo'])\n",
        "datosMH_P.mean()"
      ],
      "execution_count": null,
      "outputs": [
        {
          "output_type": "execute_result",
          "data": {
            "text/plain": [
              "Sexo\n",
              "Hombre    69.384211\n",
              "Mujer     53.666667\n",
              "Name: Peso, dtype: float64"
            ]
          },
          "metadata": {
            "tags": []
          },
          "execution_count": 18
        }
      ]
    },
    {
      "cell_type": "code",
      "metadata": {
        "colab": {
          "base_uri": "https://localhost:8080/"
        },
        "id": "7AxUf5ZCwmAf",
        "outputId": "cbe8f3c6-ce2d-452b-d0ea-1a1a2e20b162"
      },
      "source": [
        "datosMH_E = datos['Estatura'].groupby(datos['Sexo'])\n",
        "datosMH_E.mean()"
      ],
      "execution_count": null,
      "outputs": [
        {
          "output_type": "execute_result",
          "data": {
            "text/plain": [
              "Sexo\n",
              "Hombre    1.739474\n",
              "Mujer     1.585556\n",
              "Name: Estatura, dtype: float64"
            ]
          },
          "metadata": {
            "tags": []
          },
          "execution_count": 19
        }
      ]
    },
    {
      "cell_type": "code",
      "metadata": {
        "id": "f0gyotbGwmAf"
      },
      "source": [],
      "execution_count": null,
      "outputs": []
    }
  ]
}